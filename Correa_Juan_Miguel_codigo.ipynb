{
  "nbformat": 4,
  "nbformat_minor": 0,
  "metadata": {
    "colab": {
      "provenance": [],
      "authorship_tag": "ABX9TyOECfYAHCb+uEHlQuFANoQT",
      "include_colab_link": true
    },
    "kernelspec": {
      "name": "python3",
      "display_name": "Python 3"
    },
    "language_info": {
      "name": "python"
    }
  },
  "cells": [
    {
      "cell_type": "markdown",
      "metadata": {
        "id": "view-in-github",
        "colab_type": "text"
      },
      "source": [
        "<a href=\"https://colab.research.google.com/github/JMIGUELCOR/Aplicadas_1/blob/main/Correa_Juan_Miguel_codigo.ipynb\" target=\"_parent\"><img src=\"https://colab.research.google.com/assets/colab-badge.svg\" alt=\"Open In Colab\"/></a>"
      ]
    },
    {
      "cell_type": "markdown",
      "source": [
        "# Autobiografía\n",
        "\n",
        "> Soy Juan Miguel Correa, nací el 15 de mayo de 2007. Realicé mi educación primaria en el colegio Santa Maria Claret y cursé mi primer año de secundaria allí, etapa en la que inicié mi formación en artes marciales, en disciplina de Hapkido. Luego, me trasladé al colegio Liceo Quial al frente de mi anterior colegio, pero poco después comenzó la pandemia del COVID-19, lo que me llevó a explorar de forma autodidacta las ciencias de la computación, enfocándome en el desarrollo web. Más adelante, opté por finalizar mi educación secundaria de manera virtual, ya que comencé a trabajar como freelance desarrollando páginas web para emprendimientos y empresas establecidas. En 2023, tras atravesar un momento personal difícil, retomé mis entrenamientos en Hapkido, encontrando en el deporte la fortaleza para superarlo. Mi esfuerzo me llevó a formar parte de la selección Cali (Cali Élite), con la que representaré a mi municipio en los Juegos Departamentales de 2025. En 2024, finalicé mi bachillerato e ingresé a la carrera de Ingeniería en Energía Inteligente en la Universidad Icesi, formando parte de la primera cohorte de este programa. Mi trayectoria refleja una constante búsqueda de crecimiento personal y profesional, combinando la tecnología y el deporte como pilares fundamentales en mi vida.\n",
        "\n",
        "<img src=\"https://th.bing.com/th/id/R.7b8deee8c12eb906af6ada467b1c84dd?rik=Ld%2fUP8NKbmdluA&riu=http%3a%2f%2fwww.profesiones.com.mx%2fgif%2fingene4.jpg&ehk=uj%2fxfAPwmHZ%2bCwxcHn%2bcHL1WMYZgHNLwRX7runNR0YI%3d&risl=&pid=ImgRaw&r=0\">\n",
        "\n",
        "> *Perro de calle - Rupatrupa*\n",
        ">> *Viva la vida - Coldplay*\n",
        ">>> *Sabes una cosa - Luis Miguel*\n",
        ">>>> *A dios le pido - Juanes*\n",
        ">>>>> *Las pastillas del doctor - Rupatrupa*\n",
        "\n",
        "\n",
        "| Asignatura                 | Razon                                                                                                                       |\n",
        "|----------------------------|-----------------------------------------------------------------------------------------------------------------------------|\n",
        "| Energia global II          | Porque es de mi carrera y realmente es muy interesante, ya que exploramos las dinámicas energéticas de Colombia y el mundo. |\n",
        "| Matematica Aplicada I      | Por que me encanta la matematica y progrmar                                                                                 |\n",
        "| Algoritmos y programcion 1 | Por que me gusta programar                                                                                                  |"
      ],
      "metadata": {
        "id": "MrIzsytg9SQJ"
      }
    }
  ]
}