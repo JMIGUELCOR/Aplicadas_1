{
  "nbformat": 4,
  "nbformat_minor": 0,
  "metadata": {
    "colab": {
      "provenance": [],
      "authorship_tag": "ABX9TyMzGovyOLhYFdusJ9NC6zry",
      "include_colab_link": true
    },
    "kernelspec": {
      "name": "python3",
      "display_name": "Python 3"
    },
    "language_info": {
      "name": "python"
    }
  },
  "cells": [
    {
      "cell_type": "markdown",
      "metadata": {
        "id": "view-in-github",
        "colab_type": "text"
      },
      "source": [
        "<a href=\"https://colab.research.google.com/github/JMIGUELCOR/Aplicadas_1/blob/main/Pronostico_Demanda.ipynb\" target=\"_parent\"><img src=\"https://colab.research.google.com/assets/colab-badge.svg\" alt=\"Open In Colab\"/></a>"
      ]
    },
    {
      "cell_type": "markdown",
      "source": [
        "# 1. Pronóstico De La Demanda Energética En Cali Mediante Redes Neuronales\n",
        "\n",
        "## Integrantes:\n",
        ">Laura Sofia Fernandez | A00410462\n",
        "\n",
        "> Juan Miguel Correa | A00412037\n",
        "\n",
        "> Juan Jose Navas | A00411769\n",
        "\n",
        "> Juan Camilo Libreros | A00412339\n",
        "\n",
        "## Docente:\n",
        "> Yasmín García\n",
        "\n",
        "##Curso:\n",
        "> Matemáticas Aplicadas I\n",
        "\n",
        "1/06/2025\n",
        "\n",
        "Cali, Colombia"
      ],
      "metadata": {
        "id": "ZNArIXiHX6SV"
      }
    },
    {
      "cell_type": "markdown",
      "source": [
        "## **2. Resumen Ejecutivo**\n"
      ],
      "metadata": {
        "id": "YqKtyMtHX7e7"
      }
    },
    {
      "cell_type": "markdown",
      "source": [
        "Este proyecto aplica redes neuronales para predecir la demanda energética en Cali, considerando su variabilidad diaria y estacional. Anticipar el consumo permite mejorar la planificación y eficiencia del sistema eléctrico. Matemáticamente, se utilizan funciones, derivadas y algoritmos de optimización para construir un modelo capaz de aprender patrones no lineales. La metodología incluyó el preprocesamiento de datos históricos, escalamiento, entrenamiento del modelo y evaluación mediante el Error Cuadrático Medio. Los resultados muestran que el modelo predice con buena precisión, superando métodos simples, aunque presenta limitaciones ante cambios abruptos. Se concluye que las matemáticas aplicadas, especialmente el cálculo, son fundamentales para el desarrollo de herramientas inteligentes en la gestión energética. Como propuesta de mejora, se sugiere incorporar variables externas como el clima y el calendario, y explorar modelos más avanzados como redes neuronales recurrentes para capturar mejor las dinámicas temporales."
      ],
      "metadata": {
        "id": "xHNCahQmZC60"
      }
    },
    {
      "cell_type": "markdown",
      "source": [
        "## **3. Introducción**\n",
        "\n"
      ],
      "metadata": {
        "id": "CBI7YeyZYdYN"
      }
    },
    {
      "cell_type": "markdown",
      "source": [
        "La ciudad de Cali presenta una demanda energética con variaciones significativas a lo largo del día y del año, influenciada por factores como la actividad industrial, el clima y los hábitos de consumo residencial. Anticipar con precisión estos cambios es fundamental para una gestión eficiente del sistema eléctrico, evitando sobrecostos, desperdicio de energía o fallos en la distribución.\n",
        "\n",
        "Desde el ámbito de la Ingeniería Industrial, el análisis y la predicción de la demanda energética permiten mejorar la planificación operativa y optimizar los recursos técnicos y económicos. Este tipo de análisis es clave en procesos de toma de decisiones en empresas del sector energético o manufacturero. Desde la perspectiva de la Ingeniería en energía Inteligente, el pronóstico de la demanda energética es fundamental para garantizar el equilibrio entre generación y consumo en el sistema eléctrico. Una predicción precisa permite diseñar estrategias de despacho óptimas, prevenir sobrecargas, y mejorar la estabilidad del sistema de distribución. Además, facilita la integración de fuentes de energía renovable al anticipar picos de consumo y ajustar la operación en tiempo real.\n",
        "\n",
        "Aplicar modelos matemáticos como redes neuronales permite desarrollar herramientas inteligentes de monitoreo y planificación que fortalecen la eficiencia operativa del sector eléctrico y la calidad del servicio energético.Las matemáticas aplicadas, especialmente el cálculo, juegan un papel esencial en la construcción de modelos que describen y predicen fenómenos reales. Conceptos como funciones, derivadas y algoritmos de optimización permiten ajustar modelos complejos como las redes neuronales, capaces de aprender patrones no lineales presentes en los datos de consumo energético. Este proyecto propone el uso de una red neuronal para el pronóstico de la demanda Energética en Cali, demostrando cómo los conceptos matemáticos pueden ser aplicados eficazmente para resolver problemas reales en el contexto industrial."
      ],
      "metadata": {
        "id": "CH0O0lejZAq6"
      }
    },
    {
      "cell_type": "markdown",
      "source": [
        "## **4. Marco Teórico**"
      ],
      "metadata": {
        "id": "ezTzy9NIYoKj"
      }
    },
    {
      "cell_type": "markdown",
      "source": [
        "\n",
        "\n",
        "Las redes neuronales artificiales, como técnica de aprendizaje automático, son esenciales para este proyecto debido a su capacidad para modelar relaciones no lineales entre variables. Este modelado se logra mediante funciones de activación, como Leaky ReLU, que transforman las entradas de cada neurona para capturar patrones complejos en el consumo energético. La elección de Leaky ReLU se justifica porque, al permitir pequeños gradientes negativos, evita problemas como el \"desvanecimiento del gradiente\" en redes profundas, lo que resulta crucial para un fenómeno tan variable como la demanda energética de una ciudad como Cali, donde factores climáticos, sociales y económicos generan fluctuaciones no lineales. Sin estas funciones no lineales, la red se reduciría a un modelo lineal simple, incapaz de capturar la complejidad de los datos energéticos.\n",
        "\n",
        "El proceso de entrenamiento de la red neuronal se basa en el ajuste iterativo de parámetros, como pesos y sesgos, mediante el uso de derivadas y el descenso del gradiente. Las derivadas, que indican cómo varía el error con respecto a cada parámetro, son calculadas a través de la backpropagation, un método que aplica la regla de la cadena para propagar el error desde la salida hasta las capas internas. Este mecanismo es fundamental porque permite optimizar la función de pérdida, en este caso el Error Cuadrático Medio (MSE), que mide la discrepancia entre las predicciones del modelo y los valores reales. La elección del MSE como función de pérdida es adecuada para este problema de regresión, ya que penaliza de manera más significativa los errores grandes, lo que es crítico para garantizar predicciones precisas en un contexto donde errores significativos podrían tener implicaciones económicas o logísticas para la gestión energética de Cali.\n",
        "\n",
        "Para preparar los datos y garantizar un entrenamiento estable, se aplican técnicas de preprocesamiento como el escalamiento de datos y transformaciones logarítmicas. El método MinMaxScaler, que normaliza las variables entre 0 y 1, se utiliza para evitar que variables con escalas diferentes, como el consumo energético o las temperaturas diarias, dominen el comportamiento del modelo. Esta normalización mejora la convergencia del descenso del gradiente y asegura una mayor estabilidad numérica durante el entrenamiento. Por otro lado, la transformación logarítmica log1p se aplica a la variable de demanda energética para estabilizar su varianza y reducir la influencia de valores extremos, lo que es particularmente útil en datos con distribuciones sesgadas, como el consumo energético, que puede variar drásticamente en días festivos o eventos climáticos extremos.\n",
        "\n",
        "La estacionalidad, un componente clave en el consumo energético, se modela utilizando funciones trigonométricas como el seno y el coseno. Estas funciones transforman variables cíclicas, como el día del año, en representaciones continuas que la red neuronal puede procesar, capturando patrones estacionales como los picos de consumo en meses cálidos. Este enfoque es esencial para un pronóstico en Cali, donde las variaciones climáticas estacionales influyen significativamente en la demanda energética. Además, la media móvil de 7 días se emplea para suavizar las fluctuaciones diarias en los datos, eliminando el ruido y permitiendo que el modelo se enfoque en las tendencias subyacentes del consumo energético. Aunque la tasa de cambio no se calcula explícitamente, está implícita en la capacidad del modelo para aprender patrones de aumento o disminución en la demanda, lo que refuerza su utilidad para captar dinámicas temporales.\n",
        "\n",
        "La evaluación del modelo se realiza mediante métricas como el MSE, el Error Absoluto Medio (MAE) y el Coeficiente de Determinación (R²). El MSE proporciona una medida del error promedio al cuadrado, el MAE ofrece una perspectiva del error promedio sin amplificar los errores grandes, y el R² indica qué tan bien el modelo explica la variabilidad de los datos. Estas métricas son esenciales para evaluar si el modelo es capaz de realizar predicciones precisas y generalizables para la demanda energética de Cali. Para evitar el sobreajuste, un problema común en redes neuronales, se implementa la técnica de early stopping, que detiene el entrenamiento cuando el error de validación deja de mejorar tras varias épocas. Este método, basado en el análisis de curvas de aprendizaje, garantiza que el modelo no memorice los datos de entrenamiento, sino que generalice bien a datos nuevos, lo que es crucial para un pronóstico confiable en un contexto real.\n",
        "\n",
        "En resumen, los conceptos matemáticos descritos —funciones de activación, derivadas, descenso del gradiente, backpropagation, función de pérdida, escalamiento de datos, transformaciones logarítmicas, funciones trigonométricas, media móvil y métricas de evaluación— forman la base teórica del modelo de predicción desarrollado. Estos conceptos no solo permiten procesar y modelar los datos de manera efectiva, sino que también justifican la elección de una red neuronal para abordar el problema de pronosticar la demanda energética en Cali. La integración de estas herramientas matemáticas asegura un enfoque robusto, capaz de capturar la complejidad de los patrones de consumo energético y proporcionar predicciones útiles para la toma de decisiones en la gestión energética de la ciudad.\n",
        "\n",
        "\n"
      ],
      "metadata": {
        "id": "HfNg1dhHc2Ex"
      }
    },
    {
      "cell_type": "markdown",
      "source": [
        "1. Estadística Descriptiva\n",
        "\n",
        "🔹 Media (promedio diario)\n",
        "\n",
        "¿Para qué se usa?\n",
        "\n",
        "Calcular el promedio diario de la demanda y el pronóstico.\n"
      ],
      "metadata": {
        "id": "FdG5rUBLYy-N"
      }
    },
    {
      "cell_type": "markdown",
      "source": [
        "\n",
        "\n",
        "```\n",
        "df_diario = df_cali.groupby('FechaOrdinal').agg({\n",
        "    'Demanda_GWh':'mean',\n",
        "    'Pronostico_Existente':'mean'\n",
        "}).reset_index()\n",
        "```\n",
        "\n"
      ],
      "metadata": {
        "id": "VUl0tRtPpauy"
      }
    },
    {
      "cell_type": "markdown",
      "source": [
        "🔹 Media móvil (suavizado)\n",
        "\n",
        "¿Para qué se usa?\n",
        "\n",
        "Reducir el ruido y capturar la tendencia general en la demanda."
      ],
      "metadata": {
        "id": "Md7qtkBjlx9p"
      }
    },
    {
      "cell_type": "markdown",
      "source": [
        "\n",
        "\n",
        "```\n",
        "df_diario['MA_7'] = df_diario['Demanda_GWh'].rolling(7, center=True).mean().bfill().ffill()\n",
        "```\n",
        "\n"
      ],
      "metadata": {
        "id": "no8-hlgKpX6U"
      }
    },
    {
      "cell_type": "markdown",
      "source": [
        "🔹 Transformación logarítmica\n",
        "\n",
        "¿Para qué se usa?\n",
        "\n",
        "Reducir la variación (heterocedasticidad) y mejorar el aprendizaje del modelo."
      ],
      "metadata": {
        "id": "ydoe9BFBl6Rj"
      }
    },
    {
      "cell_type": "markdown",
      "source": [
        "\n",
        "\n",
        "```\n",
        "df_diario['Demanda_log'] = np.log1p(df_diario['Demanda_GWh'])\n",
        "```\n",
        "\n"
      ],
      "metadata": {
        "id": "drirB-orpVJQ"
      }
    },
    {
      "cell_type": "markdown",
      "source": [
        " 2. Álgebra y Geometría\n",
        "\n",
        "🔹 Fechas como números (ordinales)\n",
        "\n",
        "¿Para qué se usa?\n",
        "\n",
        "Convertir fechas en números para poder usarlas como variables en el modelo."
      ],
      "metadata": {
        "id": "CHjwVgQfmBYl"
      }
    },
    {
      "cell_type": "markdown",
      "source": [
        "\n",
        "\n",
        "```\n",
        "df_cali['FechaOrdinal'] = df_cali['Fecha'].map(pd.Timestamp.toordinal)\n",
        "\n",
        "```\n",
        "\n"
      ],
      "metadata": {
        "id": "pRSKDwfvpSwb"
      }
    },
    {
      "cell_type": "markdown",
      "source": [
        "🔹 Funciones trigonométricas (seno y coseno)\n",
        "\n",
        "¿Para qué se usan?\n",
        "\n",
        "Modelar estacionalidad (repetición anual de patrones)."
      ],
      "metadata": {
        "id": "bLMGPtR-mTgx"
      }
    },
    {
      "cell_type": "markdown",
      "source": [
        "\n",
        "\n",
        "```\n",
        "df_diario['DayOfYear'] = fechas.dt.dayofyear\n",
        "df_diario['sin_dia'] = np.sin(2*np.pi*df_diario['DayOfYear']/365)\n",
        "df_diario['cos_dia'] = np.cos(2*np.pi*df_diario['DayOfYear']/365)\n",
        "```\n",
        "\n"
      ],
      "metadata": {
        "id": "SF-nRFVkpP0H"
      }
    },
    {
      "cell_type": "markdown",
      "source": [
        "🔹 Normalización Min-Max\n",
        "\n",
        "¿Para qué se usa?\n",
        "\n",
        "Escalar las variables a un rango [0,1] para mejorar el entrenamiento."
      ],
      "metadata": {
        "id": "Y4K17DFUmZUQ"
      }
    },
    {
      "cell_type": "markdown",
      "source": [
        "\n",
        "\n",
        "```\n",
        "scaler_X = MinMaxScaler(); scaler_y = MinMaxScaler()\n",
        "X = scaler_X.fit_transform(df_diario[feature_cols])\n",
        "y = scaler_y.fit_transform(df_diario[target_col])\n",
        "```\n",
        "\n"
      ],
      "metadata": {
        "id": "C8HoYwV9pMIU"
      }
    },
    {
      "cell_type": "markdown",
      "source": [
        " 3. Cálculo / Derivadas (Aprendizaje Automático)\n",
        "\n",
        "🔹 Función de activación Leaky ReLU\n",
        "\n",
        "¿Para qué se usa?\n",
        "\n",
        "Agregar no linealidad y evitar el \"moribundo ReLU\"."
      ],
      "metadata": {
        "id": "jm1mIlrCmfxE"
      }
    },
    {
      "cell_type": "markdown",
      "source": [
        "\n",
        "\n",
        "```\n",
        "nn.LeakyReLU(0.1)\n",
        "\n",
        "```\n",
        "\n"
      ],
      "metadata": {
        "id": "a8CBp2-5pJ5m"
      }
    },
    {
      "cell_type": "markdown",
      "source": [
        "🔹 Descenso del gradiente\n",
        "\n",
        "¿Para qué se usa?\n",
        "\n",
        "Actualizar los pesos del modelo minimizando el error."
      ],
      "metadata": {
        "id": "3G7uGQk9mmLU"
      }
    },
    {
      "cell_type": "markdown",
      "source": [
        "\n",
        "\n",
        "```\n",
        "loss = criterion(model(xb), yb)\n",
        "loss.backward()\n",
        "optimizer.step()\n",
        "```\n",
        "\n"
      ],
      "metadata": {
        "id": "ldxGXzIDpHd4"
      }
    },
    {
      "cell_type": "markdown",
      "source": [
        "🔹 Función de pérdida MSE (Error Cuadrático Medio)\n",
        "\n",
        "¿Para qué se usa?\n",
        "\n",
        "Medir el error entre la predicción y el valor real."
      ],
      "metadata": {
        "id": "S8mvHvaOmskh"
      }
    },
    {
      "cell_type": "markdown",
      "source": [
        "\n",
        "\n",
        "```\n",
        "criterion = nn.MSELoss()\n",
        "```\n",
        "\n"
      ],
      "metadata": {
        "id": "JtatDSQEpExP"
      }
    },
    {
      "cell_type": "markdown",
      "source": [
        " 4. Evaluación del Modelo\n",
        "\n",
        "🔹 Error cuadrático medio (MSE)\n",
        "\n",
        "¿Para qué se usa?\n",
        "\n",
        "Mide el promedio de los errores al cuadrado."
      ],
      "metadata": {
        "id": "9U7fyZI-mxsE"
      }
    },
    {
      "cell_type": "markdown",
      "source": [
        "\n",
        "\n",
        "```\n",
        "mse_nn = mean_squared_error(y_true, y_pred)\n",
        "```\n",
        "\n"
      ],
      "metadata": {
        "id": "ud8OIUFKpCVR"
      }
    },
    {
      "cell_type": "markdown",
      "source": [
        "🔹 Error absoluto medio (MAE)\n",
        "\n",
        "¿Para qué se usa?\n",
        "\n",
        "Promedio de los errores absolutos entre real y predicho."
      ],
      "metadata": {
        "id": "DfD74Yujm4W5"
      }
    },
    {
      "cell_type": "markdown",
      "source": [
        "\n",
        "\n",
        "```\n",
        "mae_nn = mean_absolute_error(y_true, y_pred)\n",
        "```\n",
        "\n"
      ],
      "metadata": {
        "id": "mbfCoCSTo_tb"
      }
    },
    {
      "cell_type": "markdown",
      "source": [
        "🔹 Coeficiente R²\n",
        "\n",
        "¿Para qué se usa?\n",
        "\n",
        "Evalúa qué tanto explica el modelo la variabilidad de los datos."
      ],
      "metadata": {
        "id": "bp96nWO8m-Ql"
      }
    },
    {
      "cell_type": "markdown",
      "source": [
        "\n",
        "\n",
        "```\n",
        "r2_nn = r2_score(y_true, y_pred)\n",
        "```\n",
        "\n"
      ],
      "metadata": {
        "id": "6goWq5wdo1x7"
      }
    },
    {
      "cell_type": "markdown",
      "source": [
        "🔹 Tolerancia relativa del error\n",
        "\n",
        "¿Para qué se usa?\n",
        "\n",
        "Expresa el error como porcentaje respecto a la demanda media."
      ],
      "metadata": {
        "id": "vzxK3Sj3nC0z"
      }
    },
    {
      "cell_type": "markdown",
      "source": [
        "\n",
        "\n",
        "```\n",
        "tolerancia = mse_nn / (mean_demanda**2) * 100\n",
        "```\n",
        "\n"
      ],
      "metadata": {
        "id": "VS2oDnJ2oyqe"
      }
    },
    {
      "cell_type": "markdown",
      "source": [
        "5. Probabilidad y Aleatoriedad\n",
        "\n",
        "🔹 Semillas aleatorias\n",
        "\n",
        "¿Para qué se usa?\n",
        "\n",
        "Asegurar resultados reproducibles."
      ],
      "metadata": {
        "id": "6QU6GlCJnJNr"
      }
    },
    {
      "cell_type": "markdown",
      "source": [
        "\n",
        "\n",
        "```\n",
        "SEED = 45\n",
        "random.seed(SEED)\n",
        "np.random.seed(SEED)\n",
        "torch.manual_seed(SEED)\n",
        "\n",
        "```\n",
        "\n"
      ],
      "metadata": {
        "id": "JtQ6jMlzowQY"
      }
    },
    {
      "cell_type": "markdown",
      "source": [
        "🔹 Early stopping\n",
        "\n",
        "¿Para qué se usa?\n",
        "\n",
        "Detener el entrenamiento si no mejora, evitando sobreajuste."
      ],
      "metadata": {
        "id": "tgwFUyx3nz3b"
      }
    },
    {
      "cell_type": "markdown",
      "source": [
        "\n",
        "\n",
        "```\n",
        "if val_losses[-1] < best_val - 1e-6:\n",
        "    best_val, counter = val_losses[-1], 0\n",
        "else:\n",
        "    counter+=1\n",
        "    if counter>=patience:\n",
        "        print(f\"Early stopping en epoch {epoch}\")\n",
        "        break\n",
        "```\n",
        "\n"
      ],
      "metadata": {
        "id": "ejcjbq8host9"
      }
    },
    {
      "cell_type": "markdown",
      "source": [
        "6. Visualización de Resultados\n",
        "\n",
        "🔹 Curva de aprendizaje\n",
        "\n",
        "¿Para qué se usa?\n",
        "\n",
        "Observar la evolución del error de entrenamiento y validación."
      ],
      "metadata": {
        "id": "olOrXwVIodzs"
      }
    },
    {
      "cell_type": "markdown",
      "source": [
        "\n",
        "\n",
        "```\n",
        "plt.plot(train_losses,label='Train'); plt.plot(val_losses,label='Val')\n",
        "```\n",
        "\n"
      ],
      "metadata": {
        "id": "neIjBAijpdxM"
      }
    },
    {
      "cell_type": "markdown",
      "source": [
        "🔹 Comparación real vs predicción\n",
        "\n",
        "¿Para qué se usa?\n",
        "\n",
        "Evaluar visualmente el desempeño del modelo."
      ],
      "metadata": {
        "id": "Ah2gUOXaojtW"
      }
    },
    {
      "cell_type": "markdown",
      "source": [
        "\n",
        "\n",
        "```\n",
        "plt.plot(dates_test,y_true,label='Real')\n",
        "plt.plot(dates_test,y_pred,label='Predicción',alpha=0.8)\n",
        "```\n",
        "\n"
      ],
      "metadata": {
        "id": "f9_IVo0epikd"
      }
    },
    {
      "cell_type": "markdown",
      "source": [
        "🔹 Histograma de errores\n",
        "\n",
        "¿Para qué se usa?\n",
        "\n",
        "Ver distribución de los errores y detectar sesgos."
      ],
      "metadata": {
        "id": "3RMBZIZoopRW"
      }
    },
    {
      "cell_type": "markdown",
      "source": [
        "\n",
        "\n",
        "```\n",
        "plt.hist(y_true-y_pred,bins=50)\n",
        "```\n",
        "\n"
      ],
      "metadata": {
        "id": "YDwrUgnzpoJq"
      }
    },
    {
      "cell_type": "markdown",
      "source": [
        "## **5. Metodologia**"
      ],
      "metadata": {
        "id": "OVpPqzQgz1lI"
      }
    },
    {
      "cell_type": "markdown",
      "source": [
        "Para predecir la demanda energética en el Mercado de Comercialización Operativo de Cali (MC-Cali), implementamos una red neuronal multicapa diseñada para capturar patrones complejos en los datos horarios de consumo. Esta sección detalla el proceso completo, desde la selección y preprocesamiento de los datos hasta la construcción, entrenamiento y evaluación del modelo. Primero, describimos los datos utilizados y los escenarios de aplicación del modelo. Luego, explicamos cómo transformamos y preparamos los datos para alimentar la red neuronal, incorporando variables que reflejan patrones estacionales y tendencias temporales. A continuación, presentamos la arquitectura de la red neuronal, el proceso de entrenamiento y las técnicas empleadas para optimizar su rendimiento. Finalmente, evaluamos el modelo comparándolo con el pronóstico existente proporcionado por XM, utilizando métricas como el error cuadrático medio (MSE) y el coeficiente de determinación (R²)."
      ],
      "metadata": {
        "id": "jHZnQFymZu15"
      }
    },
    {
      "cell_type": "markdown",
      "source": [
        "### 5.1 Datos y escenarios utilizados\n",
        "\n",
        "> En esta sección se describe el origen y alcance del conjunto de datos de XM para el MC-Cali, incluyendo el período cubierto y las columnas empleadas. Además, se detallan los escenarios de aplicación del modelo."
      ],
      "metadata": {
        "id": "lF2thlSGzwjO"
      }
    },
    {
      "cell_type": "markdown",
      "source": [
        "\n",
        "#### 5.1.1. **Origen y periodo de los datos**\n",
        "\n",
        "El conjunto de datos utilizado en este estudio fue proporcionado por XM, el operador del Mercado Eléctrico Colombiano, y contiene registros horarios de demanda energética para el Sistema Interconectado Nacional (SIN) desde el **1 de enero de 2022** hasta el **1 de enero de 2025**. El dataset original incluye **1,110,025** observaciones, pero para este análisis, nos enfocamos exclusivamente en el Mercado de Comercialización Operativo de Cali (MC-Cali), lo que resultó en **26,328 registros** correspondientes a cada hora del período mencionado.   * Al filtrar únicamente las observaciones correspondientes al Mercado de Comercialización Operativo de Cali (MC-Cali), se obtuvieron finalmente **26 328 filas** y **4 columnas**, es decir, una entrada por cada hora en el periodo mencionado.&#x20;"
      ],
      "metadata": {
        "id": "WG4LxwbB2aRp"
      }
    },
    {
      "cell_type": "markdown",
      "source": [
        "---"
      ],
      "metadata": {
        "id": "LTQntjRDYoWo"
      }
    },
    {
      "cell_type": "markdown",
      "source": [
        "#### 5.1.2. **Descripción de las columnas seleccionadas**\n",
        "\n",
        "- **fecha_hora** (Fecha y hora): Marca temporal en formato `AAAA-MM-DD HH:MM`, que indica el inicio de cada hora para la cual se registra la demanda (por ejemplo, `2022-01-01 00:00` para la primera hora del día).\n",
        "- **Periodo** (Hora del día): Entero del 1 al 24 que representa la hora correspondiente, donde 1 indica la hora de 00:00 a 01:00, 2 de 01:00 a 02:00, y así hasta 24 para la hora de 23:00 a 00:00.\n",
        "- **Demanda_GWh** (Demanda energética): Valor de la demanda promedio en el nodo de Cali durante la hora especificada, expresado en gigavatios (GW). *[Nota: Revisar si la unidad debería ser GW en lugar de GWh, ya que la demanda horaria típicamente se mide en potencia (GW)].*\n",
        "- **Pronostico_Existente** (Pronóstico de demanda): Pronóstico de demanda generado por XM para la misma hora, también en gigavatios (GW), utilizado como referencia para evaluar el desempeño de nuestro modelo."
      ],
      "metadata": {
        "id": "0fNc26QQ2npQ"
      }
    },
    {
      "cell_type": "markdown",
      "source": [
        "---"
      ],
      "metadata": {
        "id": "F2aWaZLcYo-2"
      }
    },
    {
      "cell_type": "markdown",
      "source": [
        "#### 5.1.3. **Frecuencia y cobertura temporal**\n",
        "\n",
        "- **Frecuencia**: Los datos son horarios, con 24 observaciones por día.\n",
        "\n",
        "- **Cobertura**: El conjunto abarca desde el **1 de enero de 2022 a las 00:00** hasta el **1 de enero de 2025 a las 23:00**, sin datos faltantes para MC-Cali."
      ],
      "metadata": {
        "id": "gDnBFOvv27P5"
      }
    },
    {
      "cell_type": "markdown",
      "source": [
        "---"
      ],
      "metadata": {
        "id": "vEy-naD9Ypp8"
      }
    },
    {
      "cell_type": "markdown",
      "source": [
        "#### 5.1.4. **Casos de aplicación o escenarios de uso**\n",
        "\n",
        "- **Pronóstico a muy corto plazo (siguiente hora)**: Permite al operador del MC-Cali ajustar la generación y el despacho en tiempo real, minimizando sobrecostos y previniendo fallos en la distribución.\n",
        "- **Evaluación y comparación con el pronóstico oficial**: Se compara el desempeño de la red neuronal frente al pronóstico existente (`Pronostico_Existente`) calculado por XM, utilizando como métrica principal el error cuadrático medio (MSE), para determinar si nuestro modelo ofrece una mejora en precisión.\n",
        "- **Soporte en planeación operativa**: Una vez validado el modelo (con un MSE menor al método actual), puede integrarse en un tablero de control para alertas tempranas sobre desvíos de demanda o posibles sobrecargas en la red.de demanda o posibles sobrecargas.\n"
      ],
      "metadata": {
        "id": "NcNqlBcT05_o"
      }
    },
    {
      "cell_type": "markdown",
      "source": [
        "### 5.2 Preprocesamiento de los datos\n",
        "\n",
        "> En este apartado detallamos los pasos para convertir los datos crudos en una entrada adecuada para la red neuronal, preparando la información para capturar los patrones temporales y estacionales de la demanda energética en Cali."
      ],
      "metadata": {
        "id": "7ByktqGa792k"
      }
    },
    {
      "cell_type": "markdown",
      "source": [
        "#### 5.2.1 **Carga y filtrado**\n",
        "\n",
        "Partiendo de los datos proporcionados por XM, iniciamos cargándolos y filtrándolos para centrarnos exclusivamente en el Mercado de Comercialización Operativo de Cali (MC-Cali). Para ello, seleccionamos únicamente las columnas relevantes: `fecha_hora` para las marcas temporales, `Periodo` para la hora del día, `Demanda_GWh` para la demanda real de energía y `Pronostico_Existente` para el pronóstico previo. Este filtrado nos permitió adaptar el análisis a las particularidades de este mercado específico."
      ],
      "metadata": {
        "id": "x8D-bIq48zqv"
      }
    },
    {
      "cell_type": "markdown",
      "source": [
        "---"
      ],
      "metadata": {
        "id": "ER6u3nBiYiZz"
      }
    },
    {
      "cell_type": "markdown",
      "source": [
        "#### 5.2.2 Ingeniería de variables temporales\n",
        "\n",
        "Con los datos filtrados, diseñamos variables temporales que reflejan los ciclos diarios y estacionales de la demanda energética.\n",
        "\n",
        "<br>\n",
        "\n",
        "**Fecha ordinal**\n",
        "\n",
        "Transformamos las marcas temporales de `fecha_hora` en fechas ordinales, representando cada día como un número entero único. Este paso convierte el tiempo en una variable numérica continua, facilitando la captura de tendencias a lo largo del período estudiado.\n",
        "\n",
        "<br>\n",
        "\n",
        "**Componentes cíclicos (día del año)**\n",
        "\n",
        "Para modelar la estacionalidad anual, calculamos el día del año (un valor entre 1 y 365) y lo codificamos mediante funciones trigonométricas:\n",
        "\n",
        "$$\\sin\\_dia = \\sin\\left(\\frac{2\\pi k}{365}\\right), \\quad \\cos\\_dia = \\cos\\left(\\frac{2\\pi k}{365}\\right)\n",
        "$$\n",
        "\n",
        "donde $k$ es el día del año. Esta codificación cíclica asegura que días cercanos en el calendario, como el 31 de diciembre y el 1 de enero, tengan valores próximos en el espacio de características, preservando la continuidad estacional.\n",
        "\n",
        "<br>\n",
        "\n",
        "**Media móvil diaria**\n",
        "\n",
        "Para suavizar fluctuaciones diarias y destacar tendencias semanales, calculamos una media móvil centrada de 7 días sobre la demanda promedio diaria:"
      ],
      "metadata": {
        "id": "LXfXaMH2823v"
      }
    },
    {
      "cell_type": "markdown",
      "source": [
        "---"
      ],
      "metadata": {
        "id": "r9b20ss2YjCL"
      }
    },
    {
      "cell_type": "markdown",
      "source": [
        "#### 5.2.3 Transformaciones y escalado\n",
        "\n",
        "Una vez generadas las variables temporales, transformamos y escalamos los datos para optimizarlos para el entrenamiento de la red neuronal.\n",
        "\n",
        "<br>\n",
        "\n",
        "**Transformación logarítmica**\n",
        "\n",
        "Para estabilizar la varianza y reducir el impacto de valores extremos, aplicamos una transformación logarítmica a la demanda diaria promedio:\n",
        "\n",
        "$$\n",
        "\\text{Demanda_log}_d = \\ln(1 + \\overline{D}_d)\n",
        "$$\n",
        "\n",
        "Sumar 1 garantiza que la función esté definida incluso para valores nulos (aunque en este caso la demanda siempre es positiva), mientras que el logaritmo comprime el rango de los datos, haciéndolos más manejables para el modelo.\n",
        "\n",
        "<br>\n",
        "\n",
        "**Normalización (MinMax Scaling)**\n",
        "\n",
        "Posteriormente, normalizamos todas las variables de entrada —como la fecha ordinal, $\\sin\\_dia$, $\\cos\\_dia$, $MA_7$ y el pronóstico existente— al intervalo [0,1] usando la fórmula:\n",
        "\n",
        "$$\n",
        "x_{\\text{norm}} = \\frac{x - x_{\\min}}{x_{\\max} - x_{\\min}}\n",
        "$$\n",
        "\n",
        "\n",
        "De igual forma, escalamos la variable objetivo \\(\\text{Demanda\\_log}\\) al mismo rango. Esta normalización asegura que todas las características tengan un aporte equilibrado durante el entrenamiento, evitando que las de mayor magnitud dominen los gradientes."
      ],
      "metadata": {
        "id": "N0EImiIY9GBN"
      }
    },
    {
      "cell_type": "markdown",
      "source": [
        "---"
      ],
      "metadata": {
        "id": "b9TKfMvOYj8F"
      }
    },
    {
      "cell_type": "markdown",
      "source": [
        "#### 5.2.4 Creación de tensores y batch training\n",
        "\n",
        "Finalmente, preparamos los datos para alimentar la red neuronal y optimizar el proceso de entrenamiento.\n",
        "\n",
        "<br>\n",
        "\n",
        "**Conversión a tensores**\n",
        "Convertimos la matriz de características normalizadas $X$ y el vector objetivo $y $ en tensores de PyTorch de tipo flotante, con formas $ (N, d) $ y $(N, 1)$, respectivamente, donde $N$ es el número de días y $d$ el número de variables de entrada.\n",
        "\n",
        "<br>\n",
        "\n",
        "**Partición cronológica en entrenamiento y prueba**\n",
        "\n",
        "Dividimos los datos de forma cronológica, destinando el 80% inicial de los días al entrenamiento y el 20% final a la prueba. Este enfoque respeta la secuencia temporal, permitiendo que el modelo aprenda de datos pasados y se evalúe en datos futuros.\n",
        "\n",
        "<br>\n",
        "\n",
        "**DataLoader y loteo**\n",
        "Para entrenar de manera eficiente, agrupamos los datos de entrenamiento en lotes de 64 muestras usando `DataLoader` de PyTorch. En cada época, el optimizador procesa estos lotes secuencialmente, actualizando los pesos del modelo con el gradiente promedio:\n",
        "\n",
        "$$\n",
        "\\theta \\leftarrow \\theta - \\eta \\cdot \\nabla_{\\theta} \\left( \\frac{1}{B} \\sum_{i=1}^{B} \\mathcal{L}(\\hat{y}^{(i)}, y^{(i)}) \\right)\n",
        "$$\n",
        "\n",
        "donde $ B = 64 $ es el tamaño del lote, $\\eta$ es la tasa de aprendizaje y $ \\mathcal{L} $ es la función de pérdida del error cuadrático medio (MSE). Este método equilibra la eficiencia computacional con una estimación precisa del gradiente.\n",
        "\n"
      ],
      "metadata": {
        "id": "f7jzuy1X8FNE"
      }
    },
    {
      "cell_type": "markdown",
      "source": [
        "\n",
        "\n",
        "---\n",
        "\n"
      ],
      "metadata": {
        "id": "BJ3VL9T1BUsU"
      }
    },
    {
      "cell_type": "markdown",
      "source": [
        "### 5.3. Construcción de la red neuronal\n",
        "\n",
        "  > En esta sección se describe el diseño y configuración de la red neuronal empleada para predecir la demanda energética transformada. Optamos por un **perceptrón multicapa (MLP)** debido a su capacidad para modelar relaciones no lineales complejas, lo que lo hace idóneo para capturar patrones en los datos de entrada. A continuación, se detalla la arquitectura del modelo, los criterios de inicialización de los pesos, la función de pérdida seleccionada y el optimizador utilizado para el entrenamiento."
      ],
      "metadata": {
        "id": "fKQjPidmBrvH"
      }
    },
    {
      "cell_type": "markdown",
      "source": [
        "\n",
        "\n",
        "#### 5.3.1 **Arquitectura del modelo (MLP)**\n",
        "\n",
        "El MLP diseñado consta de una estructura secuencial con tres capas densas, complementadas con mecanismos de regularización que mejoran su estabilidad y capacidad de generalización:\n",
        "\n",
        "- **Capa de entrada**: Su dimensión se ajusta al número de variables de entrada, \\( d = 5 \\), que representan las características temporales y de demanda procesadas.\n",
        "\n",
        "- **Primera capa oculta**:\n",
        "  - Está formada por 32 neuronas lineales.\n",
        "  - Emplea la función de activación **Leaky ReLU** con $\\alpha = 0.1$, definida como:\n",
        "\n",
        "  $$\n",
        "    \\phi(z) =\n",
        "    \\begin{cases}\n",
        "      z, & z > 0,\\\\\n",
        "      \\alpha \\, z, & z \\leq 0,\n",
        "    \\end{cases}\n",
        "  $$\n",
        "\n",
        "  > Esta función permite un gradiente pequeño para valores negativos, evitando que las neuronas queden inactivas durante el entrenamiento.\n",
        "\n",
        "\n",
        "  - **Batch Normalization**: Normaliza las activaciones de cada neurona a media cero y varianza unitaria, lo que estabiliza el flujo del gradiente y acelera la convergencia.\n",
        "  - **Dropout (10%)**: Desactiva aleatoriamente el 10% de las neuronas en cada iteración durante el entrenamiento, promoviendo representaciones más robustas y reduciendo el riesgo de sobreajuste.\n",
        "\n",
        "- **Segunda capa oculta**:\n",
        "  - Compuesta por 16 neuronas lineales, también con Leaky ReLU $\\alpha = 0.1$, batch normalization y dropout (10%), siguiendo el mismo enfoque de regularización.\n",
        "\n",
        "- **Capa de salida**:\n",
        "  - Consiste en una sola neurona lineal sin activación, adecuada para generar una predicción continua de la demanda transformada.\n",
        "\n",
        "Cada capa transforma las activaciones de la capa anterior mediante la ecuación:\n",
        "\n",
        "$$\n",
        "\\mathbf{a}^{(l)} = \\phi\\left(\\mathbf{W}^{(l)} \\mathbf{a}^{(l-1)} + \\mathbf{b}^{(l)}\\right),\n",
        "$$\n",
        "\n",
        "donde $\\mathbf{W}^{(l)}$ es la matriz de pesos de la capa $l$, $\\mathbf{b}^{(l)}$ es el vector de sesgos, $\\mathbf{a}^{(l-1)}$ son las activaciones previas (o la entrada si $l = 1$, y $\\phi$ es Leaky ReLU para las capas ocultas o la función identidad para la salida. Así, la predicción del modelo se expresa como:\n",
        "\n",
        "$$\n",
        "f(\\mathbf{x}) = \\mathbf{W}^{(3)} \\mathbf{a}^{(2)} + \\mathbf{b}^{(3)}, \\quad \\text{con} \\quad \\mathbf{a}^{(2)} = \\phi\\left(\\mathbf{W}^{(2)} \\mathbf{a}^{(1)} + \\mathbf{b}^{(2)}\\right) \\quad \\text{y} \\quad \\mathbf{a}^{(1)} = \\phi\\left(\\mathbf{W}^{(1)} \\mathbf{x} + \\mathbf{b}^{(1)}\\right).\n",
        "$$\n",
        "\n",
        "Esta arquitectura permite al modelo aprender representaciones jerárquicas de los datos, capturando patrones tanto locales como globales."
      ],
      "metadata": {
        "id": "lsVpFys5BqvX"
      }
    },
    {
      "cell_type": "markdown",
      "source": [
        "---"
      ],
      "metadata": {
        "id": "AOe9prJPYc0s"
      }
    },
    {
      "cell_type": "markdown",
      "source": [
        "#### 5.3.2 **Inicialización, función de pérdida y optimización con Adam**\n",
        "\n",
        "Para garantizar un entrenamiento eficiente, configuramos cuidadosamente la inicialización de los parámetros, la función de pérdida y el optimizador.\n",
        "\n",
        "* Inicialización de pesos y sesgos\n",
        "- Fijamos una semilla aleatoria $\\text{SEED} = 45$ en Python, NumPy y PyTorch para asegurar la reproducibilidad de los resultados.\n",
        "- Los pesos se inicializaron con el método **He**, optimizado para activaciones Leaky ReLU, utilizando una varianza inicial de:\n",
        "\n",
        "  $$\n",
        "  \\operatorname{Var}\\left(w_{ij}^{(l)}\\right) = \\frac{2}{n_{\\text{entradas}}^{(l)}},\n",
        "  $$\n",
        "\n",
        "  lo que mantiene las activaciones en un rango adecuado al inicio del entrenamiento.\n",
        "\n",
        "<br>\n",
        "\n",
        "**Función de pérdida**\n",
        "- Elegimos el **error cuadrático medio (MSE)** como métrica de error, ideal para problemas de regresión:\n",
        "\n",
        "  $$\n",
        "  \\mathcal{L}(\\hat{y}, y) = \\frac{1}{n} \\sum_{i=1}^{n} \\left(\\hat{y}_i - y_i\\right)^2,\n",
        "  $$\n",
        "\n",
        "  donde $\\hat{y}_i = f(\\mathbf{x}_i)$ es la predicción del modelo y $y_i$ es el valor real. Esta función penaliza de manera cuadrática los errores grandes, guiando al modelo hacia una aproximación precisa de la media condicional de $y$ dada $\\mathbf{x}$.\n",
        "\n",
        "* Optimizador Adam\n",
        "  - Utilizamos el optimizador **Adam** (Adaptive Moment Estimation) para ajustar los parámetros del modelo (pesos y sesgos) y minimizar la función de pérdida. Adam destaca por su capacidad de adaptar la tasa de aprendizaje de forma individual para cada parámetro, combinando las ventajas del momentum y la estimación de momentos de segundo orden. El proceso de actualización en cada iteración $t$ para un parámetro $\\theta_t$ es el siguiente:\n",
        "\n",
        "  1. **Cálculo del gradiente**:\n",
        "\n",
        "     $$\n",
        "     g_t = \\nabla_{\\theta} \\mathcal{L}(\\theta_{t-1}),\n",
        "     $$\n",
        "\n",
        "  2. **Actualización de los momentos exponenciales**:\n",
        "     - Momento de primer orden (media móvil del gradiente):\n",
        "\n",
        "       $$\n",
        "       m_t = \\beta_1 m_{t-1} + (1 - \\beta_1) g_t,\n",
        "       $$\n",
        "\n",
        "     - Momento de segundo orden (media móvil del gradiente al cuadrado):\n",
        "\n",
        "       $$\n",
        "       v_t = \\beta_2 v_{t-1} + (1 - \\beta_2) g_t^2,\n",
        "       $$\n",
        "\n",
        "       con $\\beta_1 = 0.9$ y $\\beta_2 = 0.999$ como parámetros de decaimiento estándar.\n",
        "\n",
        "  3. **Corrección de sesgo**:\n",
        "     Para evitar sesgos iniciales debido a la inicialización en cero de $m_t$ y $v_t$:\n",
        "\n",
        "     $$\n",
        "     \\hat{m}_t = \\frac{m_t}{1 - \\beta_1^t}, \\quad \\hat{v}_t = \\frac{v_t}{1 - \\beta_2^t},\n",
        "     $$\n",
        "\n",
        "  4. **Actualización del parámetro**:\n",
        "     Finalmente, el parámetro se ajusta con:\n",
        "\n",
        "  $$\n",
        "     \\theta_t = \\theta_{t-1} - \\eta \\cdot \\frac{\\hat{m}_t}{\\sqrt{\\hat{v}_t} + \\varepsilon} - \\eta \\lambda \\theta_{t-1},\n",
        "  $$\n",
        "\n",
        "     donde $\\eta = 0.001$ es la tasa de aprendizaje, $\\varepsilon = 10^{-8}$ evita divisiones por cero, y $\\lambda = 0.001$ es el coeficiente de decaimiento L2, que regulariza los pesos para prevenir sobreajuste.\n",
        "\n",
        "* Dispositivo de cómputo\n",
        "  - Cuando estuvo disponible, el entrenamiento se realizó en GPU (CUDA), trasladando el modelo y los tensores a la tarjeta gráfica para aprovechar el paralelismo en los cálculos matriciales, lo que redujo significativamente el tiempo por iteración. En ausencia de GPU, se utilizó la CPU, aunque con tiempos de procesamiento mayores.\n"
      ],
      "metadata": {
        "id": "t7vSsCbgBafz"
      }
    },
    {
      "cell_type": "markdown",
      "source": [
        "> Con esta configuración, la red neuronal esta completamente preparada para el entrenamiento: la arquitectura MLP define la estructura del modelo, el MSE cuantifica el error entre predicciones y valores reales, y Adam optimiza los parámetros de manera eficiente. En la siguiente sección, se abordará el proceso de entrenamiento y validación del modelo."
      ],
      "metadata": {
        "id": "inm5ejnWBwlB"
      }
    },
    {
      "cell_type": "markdown",
      "source": [
        "### 5.4 Entrenamiento\n",
        "\n",
        "> En esta fase, ajustamos los parámetros de la red neuronal multicapa (MLP) para minimizar el **error cuadrático medio (MSE)**, que mide la diferencia entre las predicciones del modelo y los valores reales. Para lograrlo, utilizamos el **descenso de gradiente estocástico por lotes** (mini-batches) junto con el optimizador **Adam**, una herramienta que ajusta los pasos de aprendizaje de forma eficiente. Además, incorporamos un criterio de **early stopping** para detener el entrenamiento cuando el modelo deja de mejorar en el conjunto de validación, evitando así que se sobreajuste a los datos de entrenamiento."
      ],
      "metadata": {
        "id": "m20vJ8h1EHAd"
      }
    },
    {
      "cell_type": "markdown",
      "source": [
        "#### 5.4.1 Parámetros generales\n",
        "\n",
        "El proceso de entrenamiento se configuró con los siguientes elementos clave:  \n",
        "- **Épocas máximas**: Hasta 200 iteraciones completas sobre el conjunto de entrenamiento, dándole al modelo tiempo suficiente para aprender patrones relevantes.  \n",
        "- **Tamaño de batch**: 64 ejemplos por iteración, un tamaño que balancea la estabilidad del aprendizaje con la eficiencia computacional.  \n",
        "- **Función de pérdida**: El MSE, definido como:  \n",
        "\n",
        "  $$\n",
        "  \\mathcal{L}(\\hat{y}, y) = \\frac{1}{m} \\sum_{i=1}^{m} (\\hat{y}_i - y_i)^2,\n",
        "  $$\n",
        "\n",
        "  donde $m$ es el número de ejemplos en cada lote. Esta métrica nos indica cuánto se desvían las predicciones $\\hat{y}$ de los valores reales $y$.  \n",
        "- **Optimizador Adam**: Configurado con una tasa de aprendizaje $\\eta = 0.001$ y un término de regularización L2 $\\lambda = 0.001$ para mantener los pesos del modelo bajo control.  \n",
        "- **Early stopping**: Si la pérdida en el conjunto de validación no mejora en al menos $\\varepsilon = 10^{-6}$ durante 30 épocas consecutivas, el entrenamiento se detiene, optimizando recursos y previniendo el sobreajuste.  \n",
        "\n",
        "A lo largo del proceso, registramos las pérdidas de entrenamiento y validación en cada época:  \n",
        "\n",
        "$$\n",
        "\\{\\mathcal{L}_\\text{train}^{(t)}\\}_{t=1}^T, \\quad \\{\\mathcal{L}_\\text{val}^{(t)}\\}_{t=1}^T,\n",
        "$$\n",
        "\n",
        "donde $ T $ es el número total de épocas completadas. Estas series nos ayudan a monitorear cómo evoluciona el aprendizaje del modelo."
      ],
      "metadata": {
        "id": "4z9efyDpEU_b"
      }
    },
    {
      "cell_type": "markdown",
      "source": [
        "---"
      ],
      "metadata": {
        "id": "iRsDkXMeYZe-"
      }
    },
    {
      "cell_type": "markdown",
      "source": [
        "#### 5.4.2 Forward pass y Backpropagation\n",
        "\n",
        "El entrenamiento avanza iterativamente, procesando los datos en mini-batches de 64 ejemplos. En cada iteración, realizamos dos pasos fundamentales: la **propagación hacia adelante** (forward pass), donde el modelo genera predicciones, y la **retropropagación del error** (backpropagation), donde ajustamos los parámetros para reducir la pérdida.\n",
        "\n",
        "### Forward pass\n",
        "En este paso, los datos fluyen a través de la red capa por capa:  \n",
        "- Para cada capa $l$, la entrada $\\mathbf{a}^{(l-1)}$ se transforma mediante una combinación lineal y una función de activación:  \n",
        "\n",
        "  $$\n",
        "  \\mathbf{z}^{(l)} = \\mathbf{W}^{(l)} \\mathbf{a}^{(l-1)} + \\mathbf{b}^{(l)}, \\quad \\mathbf{a}^{(l)} = \\phi(\\mathbf{z}^{(l)}),\n",
        "  $$\n",
        "\n",
        "  donde $\\phi$ es **Leaky ReLU** en las capas ocultas (que permite un pequeño flujo de información incluso con valores negativos) y la función identidad en la capa de salida (para predicciones continuas).  \n",
        "- Al final, obtenemos la predicción $\\hat{\\mathbf{y}}$ para el batch y calculamos la pérdida MSE:  \n",
        "\n",
        "  $$\n",
        "  \\ell = \\frac{1}{B} \\sum_{i=1}^{B} (\\hat{y}_i - y_i)^2,\n",
        "  $$\n",
        "\n",
        "  con $B = 64$, que mide el error promedio del lote.\n",
        "\n",
        "### Backpropagation\n",
        "Con la pérdida calculada, ajustamos el modelo propagando el error hacia atrás:  \n",
        "- Primero, determinamos cuánto contribuye la salida a la pérdida:  \n",
        "\n",
        "  $$\n",
        "  \\frac{\\partial \\ell}{\\partial z^{(L)}_i} = \\frac{2}{B} (\\hat{y}_i - y_i),\n",
        "  $$\n",
        "\n",
        "  donde $ z^{(L)} $ es la entrada a la capa final.  \n",
        "- Luego, este error se transmite a las capas anteriores, calculando el error local $\\delta^{(l)}$ para cada una:  \n",
        "\n",
        "  $$\n",
        "  \\delta^{(l)} = \\left( \\mathbf{W}^{(l+1)^\\top} \\delta^{(l+1)} \\right) \\circ \\phi'(\\mathbf{z}^{(l)}),\n",
        "  $$\n",
        "\n",
        "  donde $\\phi'$ es la derivada de Leaky ReLU (1 si $ z > 0 $, o $\\alpha = 0.1$ si $ z \\leq 0 $).  \n",
        "- Con estos errores, calculamos los gradientes para ajustar pesos y sesgos:  \n",
        "\n",
        "  $$\n",
        "  \\frac{\\partial \\ell}{\\partial \\mathbf{W}^{(l)}} = \\frac{1}{B} \\delta^{(l)} (\\mathbf{a}^{(l-1)})^\\top, \\quad \\frac{\\partial \\ell}{\\partial \\mathbf{b}^{(l)}} = \\frac{1}{B} \\sum_{i=1}^{B} \\delta_i^{(l)}.\n",
        "  $$\n",
        "\n",
        "Estos gradientes nos indican cómo mover los parámetros para mejorar las predicciones.\n",
        "\n",
        "### Actualización con Adam\n",
        "El optimizador Adam utiliza estos gradientes para ajustar los parámetros de manera inteligente:  \n",
        "- Mantiene un seguimiento de la tendencia de los gradientes (momento de primer orden) y su magnitud (momento de segundo orden):  \n",
        "\n",
        "  $$\n",
        "  m_t = \\beta_1 m_{t-1} + (1 - \\beta_1) g_t, \\quad v_t = \\beta_2 v_{t-1} + (1 - \\beta_2) g_t^2,\n",
        "  $$\n",
        "\n",
        "  con $\\beta_1 = 0.9$, $\\beta_2 = 0.999$, y $ g_t $ como el gradiente.  \n",
        "- Corrige estos valores para evitar sesgos iniciales:  \n",
        "\n",
        "  $$\n",
        "  \\hat{m}_t = \\frac{m_t}{1 - \\beta_1^t}, \\quad \\hat{v}_t = \\frac{v_t}{1 - \\beta_2^t},\n",
        "  $$\n",
        "\n",
        "- Finalmente, actualiza cada parámetro:  \n",
        "\n",
        "  $$\n",
        "  \\theta^{(t)} = \\theta^{(t-1)} - \\eta \\cdot \\frac{\\hat{m}_t}{\\sqrt{\\hat{v}_t} + \\varepsilon} - \\eta \\lambda \\theta^{(t-1)},\n",
        "  $$\n",
        "\n",
        "  donde $\\eta = 0.001$, $\\varepsilon = 10^{-8}$ evita problemas numéricos, y $\\lambda = 0.001$ penaliza pesos grandes. Este enfoque asegura un aprendizaje estable y eficiente."
      ],
      "metadata": {
        "id": "KZELga2BEXzV"
      }
    },
    {
      "cell_type": "markdown",
      "source": [
        "---"
      ],
      "metadata": {
        "id": "c28MWW8BYYX0"
      }
    },
    {
      "cell_type": "markdown",
      "source": [
        "#### 5.4.3 Evaluación en validación y early stopping\n",
        "\n",
        "Tras cada época, evaluamos el modelo en el conjunto de validación para asegurarnos de que generaliza bien más allá de los datos de entrenamiento.\n",
        "\n",
        "### Modo evaluación\n",
        "- Desactivamos Dropout y usamos estadísticas fijas de BatchNorm para obtener predicciones consistentes.  \n",
        "- Calculamos la pérdida MSE en cada lote de validación:  \n",
        "\n",
        "  $$\n",
        "  \\ell_{\\text{val}}^{(k)} = \\frac{1}{B_k} \\sum_{i=1}^{B_k} (\\hat{y}_i - y_i)^2,\n",
        "  $$\n",
        "\n",
        "  promediándola para obtener $\\mathcal{L}_\\text{val}^{(t)}$, sin ajustar parámetros.\n",
        "\n",
        "### Early stopping\n",
        "- Si $\\mathcal{L}_\\text{val}^{(t)}$ mejora en al menos $\\varepsilon = 10^{-6}$ respecto al mejor valor previo, actualizamos ese valor y reiniciamos el contador de paciencia.  \n",
        "- Si no hay mejora durante 30 épocas, detenemos el entrenamiento, asumiendo que el modelo ha alcanzado su límite o podría sobreajustarse.\n",
        "\n",
        "### Registro de estadísticas\n",
        "- En la primera época y cada 20 épocas, revisamos $\\mathcal{L}_\\text{train}^{(t)}$ y $\\mathcal{L}_\\text{val}^{(t)}$ para observar la evolución del aprendizaje y detectar problemas como el sobreajuste (si la pérdida de validación sube mientras la de entrenamiento baja).\n",
        "\n",
        "<br>\n",
        "\n",
        "Al concluir, ya sea por alcanzar las 200 épocas o por el early stopping, obtenemos las series de pérdidas $\\{\\mathcal{L}_\\text{train}^{(t)}\\}$ y $\\{\\mathcal{L}_\\text{val}^{(t)}\\}$. Estos datos serán clave en la siguiente sección para evaluar el rendimiento final del modelo y analizar su ajuste a los datos."
      ],
      "metadata": {
        "id": "HZlvSSawEbLD"
      }
    },
    {
      "cell_type": "markdown",
      "source": [
        "\n",
        "> Al finalizar este ciclo de entrenamiento y validación (o al activarse el early stopping), se dispondrá de los vectores `train_losses` y `val_losses`, que permiten graficar la curva de aprendizaje y determinar la calidad del ajuste alcanzado.\n"
      ],
      "metadata": {
        "id": "Pa7efwBjEtru"
      }
    },
    {
      "cell_type": "markdown",
      "source": [
        "### 5.5 Visualización y evaluación\n",
        "\n",
        "> Una vez que el modelo ha sido entrenado, el siguiente paso es evaluar su capacidad para predecir la demanda energética y comprender cómo se comportan sus pronósticos frente a los datos reales. En esta sección, se describen los pasos para generar las predicciones, revertirlas a su escala original, alinearlas temporalmente, visualizar los resultados y cuantificar el desempeño mediante métricas clave. Este proceso no solo revela la precisión del modelo, sino que también destaca áreas potenciales de mejora."
      ],
      "metadata": {
        "id": "Tqr1i9lbUsBs"
      }
    },
    {
      "cell_type": "markdown",
      "source": [
        "#### 5.5.1 Generación de predicciones\n",
        "\n",
        "El primer paso consiste en obtener las predicciones del modelo sobre el conjunto de prueba. Para ello, se configura el modelo en **modo evaluación**, desactivando técnicas como Dropout y empleando estadísticas fijas en BatchNorm para garantizar consistencia en las salidas. Además, se utiliza `torch.no_grad()` para evitar el cálculo de gradientes, optimizando así los recursos computacionales.\n",
        "\n",
        "El proceso es sencillo pero metódico: cada lote de entrada $ X_b \\in \\mathbb{R}^{B \\times 5}$  (donde $  B = 64 $) pasa a través de la red neuronal, generando predicciones normalizadas $ \\hat{Y}_b \\in \\mathbb{R}^{B \\times 1}$ . Al concatenar las salidas de todos los lotes, se obtiene un vector completo de predicciones normalizadas, $\\hat{\\mathbf{y}}_\\text{norm} \\in \\mathbb{R}^{N_\\text{test}}$ . Estas predicciones, aunque útiles, aún están en una escala transformada y requieren ajustes adicionales para ser interpretadas en el contexto real."
      ],
      "metadata": {
        "id": "HjJiP-LYVKxe"
      }
    },
    {
      "cell_type": "markdown",
      "source": [
        "---"
      ],
      "metadata": {
        "id": "S7lSWCbDY5ps"
      }
    },
    {
      "cell_type": "markdown",
      "source": [
        "#### 5.5.2 Reversión de escalado y transformaciones\n",
        "Dado que tanto las predicciones como los valores reales fueron normalizados y transformados logarítmicamente durante el preprocesamiento, es necesario revertir estas operaciones para expresar los resultados en gigavatios-hora (GWh), la unidad original de la demanda energética.\n",
        "\n",
        "<br>\n",
        "\n",
        "#### Invertir MinMax Scaling\n",
        "El primer ajuste implica deshacer la normalización MinMax. Usando la inversa del MinMaxScaler, las etiquetas reales $ \\mathbf{y}_\\text{norm} $ y las predicciones $ \\hat{\\mathbf{y}}_\\text{norm} $ se transforman de vuelta a la escala logarítmica original:\n",
        "\n",
        "$$\n",
        "y_\\text{log} = (\\mathbf{y}_\\text{norm} \\times (y_{\\max} - y_{\\min})) + y_{\\min},\n",
        "$$\n",
        "\n",
        "y de manera similar para $ \\hat{y}_\\text{log} $. Esto nos devuelve los valores en términos de $ \\ln(1 + \\overline{D}) $, donde $ \\overline{D} $ representa la demanda promedio diaria.\n",
        "\n",
        "<br>\n",
        "\n",
        "#### Invertir la transformación logarítmica\n",
        "\n",
        "A continuación, se aplica la función exponencial inversa para recuperar la escala original:\n",
        "\n",
        "$$\n",
        "\\overline{D} = \\exp(y_\\text{log}) - 1.\n",
        "$$\n",
        "\n",
        "Así, se calculan los vectores:\n",
        "\n",
        "$$\n",
        "\\mathbf{y}_\\text{real} = \\exp(\\mathbf{y}_\\text{log}) - 1, \\quad \\hat{\\mathbf{y}}_\\text{real} = \\exp(\\hat{\\mathbf{y}}_\\text{log}) - 1,\n",
        "$$\n",
        "\n",
        "que contienen los valores reales y predichos en GWh, listos para su análisis y comparación directa."
      ],
      "metadata": {
        "id": "F29Db4i9VW9a"
      }
    },
    {
      "cell_type": "markdown",
      "source": [
        "\n",
        "\n",
        "---\n",
        "\n"
      ],
      "metadata": {
        "id": "4rTRdJuHZB8y"
      }
    },
    {
      "cell_type": "markdown",
      "source": [
        "#### 5.5.3 Alineamiento temporal de las predicciones\n",
        "\n",
        "\n",
        "Para contextualizar las predicciones dentro de la serie temporal, es fundamental asociarlas con sus fechas correspondientes. Esto se logra en dos pasos. Primero, se convierten las fechas ordinales del dataset diario en objetos `Timestamp`, generando una serie temporal completa $ \\{\\text{Fecha}_d\\}_{d=1}^{N} $. Luego, se identifican las fechas del conjunto de prueba, que corresponden a los últimos $ N_\\text{test} $ días. Definiendo el punto de división como $ \\text{split} = N - N_\\text{test} $, se extrae la secuencia $ \\{\\text{Fecha}_d\\}_{d=\\text{split}+1}^{N} $, alineándola con $ \\mathbf{y}_\\text{real} $ y $ \\hat{\\mathbf{y}}_\\text{real} $. Este alineamiento temporal es esencial para visualizar y evaluar el desempeño del modelo a lo largo del tiempo.\n",
        "\n",
        "   se extraen las fechas correspondientes a los últimos $N_\\text{test}$ días para alinearlas con $\\mathbf{y}_\\text{real}$ y $\\hat{\\mathbf{y}}_\\text{real}$. Esto genera la secuencia $\\{\\text{Fecha}_d\\}_{d=\\text{split}+1}^{N}$ para graficar.\n",
        "\n"
      ],
      "metadata": {
        "id": "NwZ_gF3tVZmI"
      }
    },
    {
      "cell_type": "markdown",
      "source": [
        "---"
      ],
      "metadata": {
        "id": "jtKdC0adY7kC"
      }
    },
    {
      "cell_type": "markdown",
      "source": [
        "#### 5.5.4 Gráficas de resultados\n",
        "\n",
        "Las visualizaciones ofrecen una perspectiva intuitiva del rendimiento del modelo, complementando el análisis cuantitativo. Se generan tres gráficos clave:\n",
        "\n",
        "### Curva de aprendizaje\n",
        "Este gráfico muestra la evolución de las pérdidas de entrenamiento $( \\mathcal{L}_\\text{train} $) y validación ($ \\mathcal{L}_\\text{val} $) a lo largo de las épocas. Una disminución constante en $ \\mathcal{L}_\\text{train} $ junto con una estabilización de $ \\mathcal{L}_\\text{val} $ indica convergencia adecuada, mientras que un aumento en $ \\mathcal{L}_\\text{val} $ podría sugerir sobreajuste. Los ejes son épocas (horizontal) y MSE promedio (vertical).\n",
        "\n",
        "### Demanda real vs. predicción\n",
        "Aquí se comparan visualmente la demanda real y la predicha en el conjunto de prueba, graficando las series $ \\{(\\text{Fecha}_d, \\overline{D}_d)\\} $ y $ \\{(\\text{Fecha}_d, \\hat{\\overline{D}}_d)\\} $ desde $ d = \\text{split}+1 $ hasta $ N $. Este gráfico revela qué tan bien el modelo captura las tendencias, picos y valles de la demanda, facilitando una evaluación cualitativa de su precisión.\n",
        "\n",
        "### Histograma de errores\n",
        "El error de predicción $e_d = \\overline{D}_d - \\hat{\\overline{D}}_d $ se calcula para cada día y se representa en un histograma. Si los errores se concentran cerca de cero, el modelo tiene un buen ajuste; colas anchas o asimetrías podrían indicar sesgos o errores significativos. Los ejes son el error en GWh (horizontal) y la frecuencia (vertical).\n",
        "\n",
        "Estas representaciones gráficas proporcionan una visión clara y rápida del comportamiento del modelo, sentando las bases para la evaluación numérica."
      ],
      "metadata": {
        "id": "Jlvi42wEVcfw"
      }
    },
    {
      "cell_type": "markdown",
      "source": [
        "\n",
        "\n",
        "---\n",
        "\n"
      ],
      "metadata": {
        "id": "5AXIDMjWZDjl"
      }
    },
    {
      "cell_type": "markdown",
      "source": [
        "#### 5.5.5 Cálculo de métricas de desempeño\n",
        "\n",
        "Para cuantificar objetivamente la calidad del pronóstico, se calculan cuatro métricas estándar que permiten compararlo con el pronóstico existente de XM:\n",
        "\n",
        "<br>\n",
        "\n",
        "#### Error cuadrático medio (MSE)\n",
        "$$\n",
        "\\text{MSE} = \\frac{1}{N_\\text{test}} \\sum_{d=1}^{N_\\text{test}} (\\hat{\\overline{D}}_d - \\overline{D}_d)^2\n",
        "$$\n",
        "<br>\n",
        "Mide el promedio de los errores al cuadrado, penalizando más los errores grandes y destacando días con predicciones notablemente imprecisas.\n",
        "\n",
        "<br>\n",
        "\n",
        "#### Error absoluto medio (MAE)\n",
        "$$\n",
        "\\text{MAE} = \\frac{1}{N_\\text{test}} \\sum_{d=1}^{N_\\text{test}} |\\hat{\\overline{D}}_d - \\overline{D}_d|\n",
        "$$\n",
        "<br>\n",
        "Ofrece una medida directa del error promedio en GWh, siendo intuitivo y fácil de interpretar.\n",
        "\n",
        "<br>\n",
        "\n",
        "#### Coeficiente de determinación ($ R^2 $)\n",
        "$$\n",
        "R^2 = 1 - \\frac{\\sum_{d} (\\overline{D}_d - \\hat{\\overline{D}}_d)^2}{\\sum_{d} (\\overline{D}_d - \\overline{D}_{\\text{mean}})^2}\n",
        "$$\n",
        "<br>\n",
        "donde $ \\overline{D}_{\\text{mean}} $ es la media de la demanda real en el conjunto de prueba. Un $ R^2 $ cercano a 1 indica un ajuste excelente, mientras que 0 sugiere que el modelo no supera a una predicción basada en la media.\n",
        "\n",
        "<br>\n",
        "\n",
        "#### Tolerancia del modelo\n",
        "$$\n",
        "\\text{Tolerancia} = \\frac{\\text{MSE}}{(\\overline{D}_{\\text{mean}})^2} \\times 100\\%\n",
        "$$\n",
        "<br>\n",
        "Expresa el MSE como un porcentaje relativo a la demanda promedio al cuadrado. Por ejemplo, si $ \\overline{D}_{\\text{mean}} = 500 \\, \\text{GWh} $ y $ \\text{MSE} = 100 \\, (\\text{GWh})^2$, la tolerancia sería $ 0.04\\% $, reflejando un error pequeño en términos relativos.\n",
        "\n",
        "Estas métricas no solo evalúan el desempeño del modelo, sino que también permiten determinar si la red neuronal supera al pronóstico de XM, ofreciendo una base sólida para futuras mejoras."
      ],
      "metadata": {
        "id": "FiY6XbQiUxlr"
      }
    },
    {
      "cell_type": "markdown",
      "source": [],
      "metadata": {
        "id": "aMveY4iqZ9_x"
      }
    },
    {
      "cell_type": "markdown",
      "source": [
        "## **6. RESULTADOS**\n"
      ],
      "metadata": {
        "id": "MGqcLR6waFC9"
      }
    },
    {
      "cell_type": "markdown",
      "source": [
        "### **6.1 Cálculos y Desarrollo del Modelo**"
      ],
      "metadata": {
        "id": "LJzZTRNTcBiI"
      }
    },
    {
      "cell_type": "markdown",
      "source": [
        "\n",
        "\n",
        "\n",
        "Se implementó una red neuronal artificial (RNA) utilizando la librería PyTorch, entrenada con datos históricos del mercado MC-Cali. La red se diseñó para predecir la demanda de energía eléctrica de un dia especifico en Cali, utilizando las siguientes variables como entradas:\n",
        "\n",
        "* Día del año (representado en forma cíclica con funciones seno y coseno)\n",
        "\n",
        "* Pronóstico oficial existente\n",
        "\n",
        "* Media móvil de 7 días de la demanda\n",
        "\n",
        "* Fecha en formato ordinal\n",
        "\n",
        "Se aplicaron procesos matemáticos clave como la normalización de datos con MinMaxScaler, la transformación logarítmica de la demanda, y técnicas de entrenamiento como descenso por gradiente  y función de pérdida MSE (error cuadrático medio)."
      ],
      "metadata": {
        "id": "uXKu42Yjadsp"
      }
    },
    {
      "cell_type": "markdown",
      "source": [
        "#### **6.1.1 Gráficos y Métricas de Evaluación**"
      ],
      "metadata": {
        "id": "k9v86VEwcYHp"
      }
    },
    {
      "cell_type": "markdown",
      "source": [
        "Tras el entrenamiento, el modelo fue evaluado usando un conjunto de prueba. Las métricas obtenidas fueron:\n",
        "\n",
        "\n",
        "**Métricas de Evaluación:**\n",
        "\n",
        "**MSE: 467579776.00**\n",
        "\n",
        "**MAE: 17809.66**\n",
        "\n",
        "**R²: 0.81**\n",
        "\n",
        "\n",
        "Además, se visualizaron curvas de aprendizaje y comparaciones entre los valores reales de la demanda y las predicciones del modelo. El siguiente gráfico muestra dicha comparación:\n",
        "\n",
        "\n",
        "![image.png](data:image/png;base64,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)\n",
        "\n",
        "\n",
        "\n"
      ],
      "metadata": {
        "id": "5C4wlqUJzI8I"
      }
    },
    {
      "cell_type": "markdown",
      "source": [
        "### **6.2 Interpretación de los Resultados**\n",
        "\n",
        "\n"
      ],
      "metadata": {
        "id": "hMyDRT60a0QT"
      }
    },
    {
      "cell_type": "markdown",
      "source": [
        "El modelo logró aprender adecuadamente los patrones de variación de la demanda, capturando la estacionalidad diaria y semanal. Se observó que el modelo mejora el pronóstico oficial en varios intervalos, especialmente en picos de consumo. Esto indica que las redes neuronales son útiles para capturar relaciones no lineales complejas que otros modelos lineales tradicionales no logran representar eficazmente."
      ],
      "metadata": {
        "id": "ptQVJFTLa7CB"
      }
    },
    {
      "cell_type": "markdown",
      "source": [
        "### **6.3 Análisis Crítico**"
      ],
      "metadata": {
        "id": "7yD7fguza73G"
      }
    },
    {
      "cell_type": "markdown",
      "source": [
        "Aunque el modelo muestra buen desempeño general, se identifican dos limitaciones importantes:\n",
        "\n",
        "**Falta de variables externas:**\n",
        "\n",
        "El modelo no considera factores como temperatura, humedad o eventos especiales, lo que limita su capacidad para anticipar cambios abruptos en la demanda.\n",
        "\n",
        "**Suavizado excesivo por logaritmo:**\n",
        "\n",
        "La transformación logarítmica usada para estabilizar los datos puede atenuar picos de consumo que son relevantes para la gestión operativa real.\n",
        "\n",
        "**Aspecto positivo:**\n",
        "\n",
        "El modelo demuestra una alta capacidad de aprendizaje de patrones estacionales, superando métodos simples de pronóstico. Esto evidencia que las redes neuronales, combinadas con preprocesamiento matemático, son herramientas eficaces para modelar fenómenos no lineales en contextos reales como el consumo energético.\n",
        "\n"
      ],
      "metadata": {
        "id": "NZ2unRccatA8"
      }
    },
    {
      "cell_type": "markdown",
      "source": [
        "## **7 CONCLUSIONES**"
      ],
      "metadata": {
        "id": "9GEiIQfBbRJE"
      }
    },
    {
      "cell_type": "markdown",
      "source": [
        "#### **7.1 Aprendizajes Principales**"
      ],
      "metadata": {
        "id": "0yM-vTWgc7WZ"
      }
    },
    {
      "cell_type": "markdown",
      "source": [
        "\n",
        "\n",
        "Este proyecto permitió comprender de manera práctica cómo el cálculo diferencial, la normalización de datos y la programación de redes neuronales pueden integrarse para resolver un problema real en ingeniería eléctrica.\n",
        "Además, mostró el valor de técnicas como preprocesamiento de datos,ingeniería de variables cíclicas,entrenamiento y validación con redes neuronales densas."
      ],
      "metadata": {
        "id": "mt1gYUUmbVyf"
      }
    },
    {
      "cell_type": "markdown",
      "source": [
        "#### **7.2 Impacto de las Matemáticas Aplicadas**"
      ],
      "metadata": {
        "id": "ua9OnSzUc5bV"
      }
    },
    {
      "cell_type": "markdown",
      "source": [
        "\n",
        "\n",
        "Las matemáticas aplicadas fueron fundamentales para:\n",
        "\n",
        "* Representar el comportamiento de la demanda como una función continua y diferenciable\n",
        "\n",
        "* Optimizar el entrenamiento del modelo mediante funciones de pérdida y descenso de gradiente\n",
        "\n",
        "* Evaluar cuantitativamente el rendimiento del sistema mediante métricas estadísticas\n",
        "\n",
        "* Este enfoque permitió obtener una herramienta predictiva que puede ser útil para la planificación energética de Cali"
      ],
      "metadata": {
        "id": "Tco8ulW0bY4M"
      }
    },
    {
      "cell_type": "markdown",
      "source": [
        "#### **7.3 Limitaciones del Modelo**"
      ],
      "metadata": {
        "id": "Zu_o6aJYc3mf"
      }
    },
    {
      "cell_type": "markdown",
      "source": [
        "\n",
        "\n",
        "* Enfoque univariado (sin variables climáticas o económicas)\n",
        "\n",
        "* Dataset limitado a una sola ciudad y sin validación cruzada temporal\n",
        "\n",
        "* Ausencia de ajuste hiperparamétrico del modelo."
      ],
      "metadata": {
        "id": "aimlQmJpbJLc"
      }
    },
    {
      "cell_type": "markdown",
      "source": [
        "### **7.4 Propuestas de Mejora**\n"
      ],
      "metadata": {
        "id": "fxOWhG_ibMQ4"
      }
    },
    {
      "cell_type": "markdown",
      "source": [
        "**Agregar variables externas:**\n",
        "\n",
        "Se recomienda incluir factores como clima (temperatura, humedad) y calendario (festivos, fines de semana) para mejorar la precisión del modelo ante variaciones no lineales.\n",
        "\n",
        "<br>\n",
        "\n",
        "**Usar redes recurrentes (RNN/LSTM):**\n",
        "\n",
        "Estas redes son más adecuadas para series temporales, ya que permiten capturar patrones a lo largo del tiempo y responder mejor a cambios abruptos en la demanda.\n",
        "\n",
        "<br>\n",
        "\n",
        "**Ampliar la validación:**\n",
        "\n",
        "Validar el modelo con datos de otras regiones o en diferentes periodos permitiría comprobar su robustez y capacidad de generalización.\n",
        "\n",
        "<br>\n",
        "\n",
        "**Optimizar hiperparámetros:**\n",
        "\n",
        "Ajustar parámetros del modelo como número de neuronas, tasa de aprendizaje y regularización puede mejorar su desempeño y reducir errores."
      ],
      "metadata": {
        "id": "_uHFRLbLbxwW"
      }
    },
    {
      "cell_type": "markdown",
      "source": [
        "## **8. Bibliografia**"
      ],
      "metadata": {
        "id": "AvKH8m3thapu"
      }
    },
    {
      "cell_type": "markdown",
      "source": [
        "* Dataset de XM: XM (n.d.). Dataset de demanda energética para MC-Cali. Recuperado de https://www.simem.co/datadetail/9e9ee724-add8-467e-b56b-6564d092a554.\n",
        "\n",
        "<br>\n",
        "\n",
        "* Sánchez Durán, R. (2020). El futuro y la demanda energética.\n",
        "\n",
        "<br>\n",
        "\n",
        "* Meira, E. M., & Cyrino, F. L. (2018). Forecasting mid-long term electric energy consumption through bagging ARIMA and exponential smoothing methods. Energy, 144, 776–788. https://doi.org/10.1016/j.energy.2017.12.049\n",
        "\n",
        "<br>\n",
        "\n",
        "* Laouafi, A., Mordjaoui, M., Laouafi, F., & Boukelia, T. E. (2017). Online electricity demand forecasting based on an effective forecast combination methodology. Electric Power Systems Research, 148, 35–47. https://doi.org/10.1016/j.epsr.2017.03.016\n",
        "\n",
        "<br>\n",
        "\n",
        "* Veloz Zambrano, J. L., Túpac Valdivia, Y. J., & Bernuy Alva, A. (2025). Machine learning en la optimización del consumo de energía en edificios inteligentes: Tendencias y desafíos. Revista Científica de Informática Encriptar, 8(15), 195–216. https://doi.org/2737-6389\n",
        "\n"
      ],
      "metadata": {
        "id": "HyqK2epEhlWj"
      }
    },
    {
      "cell_type": "markdown",
      "source": [
        "## 9. Anexos"
      ],
      "metadata": {
        "id": "PmH1PUyClWwl"
      }
    },
    {
      "cell_type": "markdown",
      "metadata": {
        "id": "3e7bc5fe"
      },
      "source": [
        "### 1. Librerías"
      ]
    },
    {
      "cell_type": "code",
      "execution_count": null,
      "metadata": {
        "id": "86e9a753"
      },
      "outputs": [],
      "source": [
        "import pandas as pd\n",
        "from datetime import date\n",
        "import random\n",
        "import numpy as np\n",
        "import matplotlib.pyplot as plt\n",
        "from sklearn.preprocessing import MinMaxScaler\n",
        "from sklearn.model_selection import train_test_split\n",
        "import torch\n",
        "import torch.nn as nn\n",
        "import torch.optim as optim\n",
        "from torch.utils.data import DataLoader, TensorDataset\n",
        "from sklearn.metrics import mean_squared_error, mean_absolute_error, r2_score"
      ]
    },
    {
      "cell_type": "markdown",
      "metadata": {
        "id": "67f85e2a"
      },
      "source": [
        "###  2. Preprocesamiento de los datos"
      ]
    },
    {
      "cell_type": "markdown",
      "metadata": {
        "id": "37c081ad"
      },
      "source": [
        "#### 2.1. Carga y filtrado"
      ]
    },
    {
      "cell_type": "code",
      "execution_count": 8,
      "metadata": {
        "id": "83fd8ec7",
        "outputId": "6c1e1b97-97d3-4767-f38f-779f0cc1c318",
        "colab": {
          "base_uri": "https://localhost:8080/",
          "height": 820
        }
      },
      "outputs": [
        {
          "output_type": "stream",
          "name": "stdout",
          "text": [
            "Dimensiones del dataset de Cali: (26328, 4)\n"
          ]
        },
        {
          "output_type": "execute_result",
          "data": {
            "text/plain": [
              "        Fecha  Periodo  Demanda_GWh  Pronostico_Existente\n",
              "0  2022-01-01        1    322157.50             302369.25\n",
              "1  2022-01-01        2    308205.09             285758.78\n",
              "2  2022-01-01        3    294792.88             275533.38\n",
              "3  2022-01-01        4    284245.22             266873.06\n",
              "4  2022-01-01        5    275957.66             264517.75\n",
              "5  2022-01-01        6    270163.81             261633.14\n",
              "6  2022-01-01        7    245016.73             250302.53\n",
              "7  2022-01-01        8    244611.28             261504.52\n",
              "8  2022-01-01        9    256023.02             282573.72\n",
              "9  2022-01-01       10    269045.56             302307.50\n",
              "10 2022-01-01       11    281036.19             319620.25\n",
              "11 2022-01-01       12    295903.13             337014.91\n",
              "12 2022-01-01       13    307219.78             349829.28\n",
              "13 2022-01-01       14    312384.66             347234.97\n",
              "14 2022-01-01       15    309025.38             341095.72\n",
              "15 2022-01-01       16    307660.19             337308.66\n",
              "16 2022-01-01       17    309962.56             334219.88\n",
              "17 2022-01-01       18    314670.38             333490.97\n",
              "18 2022-01-01       19    354637.41             358934.25\n",
              "19 2022-01-01       20    369247.25             373993.03\n",
              "20 2022-01-01       21    364138.06             369987.66\n",
              "21 2022-01-01       22    353764.31             359566.38\n",
              "22 2022-01-01       23    337158.75             341183.34\n",
              "23 2022-01-01       24    316326.84             316147.03"
            ],
            "text/html": [
              "\n",
              "  <div id=\"df-d99dbe1a-47da-4c98-b7a5-123618d0efee\" class=\"colab-df-container\">\n",
              "    <div>\n",
              "<style scoped>\n",
              "    .dataframe tbody tr th:only-of-type {\n",
              "        vertical-align: middle;\n",
              "    }\n",
              "\n",
              "    .dataframe tbody tr th {\n",
              "        vertical-align: top;\n",
              "    }\n",
              "\n",
              "    .dataframe thead th {\n",
              "        text-align: right;\n",
              "    }\n",
              "</style>\n",
              "<table border=\"1\" class=\"dataframe\">\n",
              "  <thead>\n",
              "    <tr style=\"text-align: right;\">\n",
              "      <th></th>\n",
              "      <th>Fecha</th>\n",
              "      <th>Periodo</th>\n",
              "      <th>Demanda_GWh</th>\n",
              "      <th>Pronostico_Existente</th>\n",
              "    </tr>\n",
              "  </thead>\n",
              "  <tbody>\n",
              "    <tr>\n",
              "      <th>0</th>\n",
              "      <td>2022-01-01</td>\n",
              "      <td>1</td>\n",
              "      <td>322157.50</td>\n",
              "      <td>302369.25</td>\n",
              "    </tr>\n",
              "    <tr>\n",
              "      <th>1</th>\n",
              "      <td>2022-01-01</td>\n",
              "      <td>2</td>\n",
              "      <td>308205.09</td>\n",
              "      <td>285758.78</td>\n",
              "    </tr>\n",
              "    <tr>\n",
              "      <th>2</th>\n",
              "      <td>2022-01-01</td>\n",
              "      <td>3</td>\n",
              "      <td>294792.88</td>\n",
              "      <td>275533.38</td>\n",
              "    </tr>\n",
              "    <tr>\n",
              "      <th>3</th>\n",
              "      <td>2022-01-01</td>\n",
              "      <td>4</td>\n",
              "      <td>284245.22</td>\n",
              "      <td>266873.06</td>\n",
              "    </tr>\n",
              "    <tr>\n",
              "      <th>4</th>\n",
              "      <td>2022-01-01</td>\n",
              "      <td>5</td>\n",
              "      <td>275957.66</td>\n",
              "      <td>264517.75</td>\n",
              "    </tr>\n",
              "    <tr>\n",
              "      <th>5</th>\n",
              "      <td>2022-01-01</td>\n",
              "      <td>6</td>\n",
              "      <td>270163.81</td>\n",
              "      <td>261633.14</td>\n",
              "    </tr>\n",
              "    <tr>\n",
              "      <th>6</th>\n",
              "      <td>2022-01-01</td>\n",
              "      <td>7</td>\n",
              "      <td>245016.73</td>\n",
              "      <td>250302.53</td>\n",
              "    </tr>\n",
              "    <tr>\n",
              "      <th>7</th>\n",
              "      <td>2022-01-01</td>\n",
              "      <td>8</td>\n",
              "      <td>244611.28</td>\n",
              "      <td>261504.52</td>\n",
              "    </tr>\n",
              "    <tr>\n",
              "      <th>8</th>\n",
              "      <td>2022-01-01</td>\n",
              "      <td>9</td>\n",
              "      <td>256023.02</td>\n",
              "      <td>282573.72</td>\n",
              "    </tr>\n",
              "    <tr>\n",
              "      <th>9</th>\n",
              "      <td>2022-01-01</td>\n",
              "      <td>10</td>\n",
              "      <td>269045.56</td>\n",
              "      <td>302307.50</td>\n",
              "    </tr>\n",
              "    <tr>\n",
              "      <th>10</th>\n",
              "      <td>2022-01-01</td>\n",
              "      <td>11</td>\n",
              "      <td>281036.19</td>\n",
              "      <td>319620.25</td>\n",
              "    </tr>\n",
              "    <tr>\n",
              "      <th>11</th>\n",
              "      <td>2022-01-01</td>\n",
              "      <td>12</td>\n",
              "      <td>295903.13</td>\n",
              "      <td>337014.91</td>\n",
              "    </tr>\n",
              "    <tr>\n",
              "      <th>12</th>\n",
              "      <td>2022-01-01</td>\n",
              "      <td>13</td>\n",
              "      <td>307219.78</td>\n",
              "      <td>349829.28</td>\n",
              "    </tr>\n",
              "    <tr>\n",
              "      <th>13</th>\n",
              "      <td>2022-01-01</td>\n",
              "      <td>14</td>\n",
              "      <td>312384.66</td>\n",
              "      <td>347234.97</td>\n",
              "    </tr>\n",
              "    <tr>\n",
              "      <th>14</th>\n",
              "      <td>2022-01-01</td>\n",
              "      <td>15</td>\n",
              "      <td>309025.38</td>\n",
              "      <td>341095.72</td>\n",
              "    </tr>\n",
              "    <tr>\n",
              "      <th>15</th>\n",
              "      <td>2022-01-01</td>\n",
              "      <td>16</td>\n",
              "      <td>307660.19</td>\n",
              "      <td>337308.66</td>\n",
              "    </tr>\n",
              "    <tr>\n",
              "      <th>16</th>\n",
              "      <td>2022-01-01</td>\n",
              "      <td>17</td>\n",
              "      <td>309962.56</td>\n",
              "      <td>334219.88</td>\n",
              "    </tr>\n",
              "    <tr>\n",
              "      <th>17</th>\n",
              "      <td>2022-01-01</td>\n",
              "      <td>18</td>\n",
              "      <td>314670.38</td>\n",
              "      <td>333490.97</td>\n",
              "    </tr>\n",
              "    <tr>\n",
              "      <th>18</th>\n",
              "      <td>2022-01-01</td>\n",
              "      <td>19</td>\n",
              "      <td>354637.41</td>\n",
              "      <td>358934.25</td>\n",
              "    </tr>\n",
              "    <tr>\n",
              "      <th>19</th>\n",
              "      <td>2022-01-01</td>\n",
              "      <td>20</td>\n",
              "      <td>369247.25</td>\n",
              "      <td>373993.03</td>\n",
              "    </tr>\n",
              "    <tr>\n",
              "      <th>20</th>\n",
              "      <td>2022-01-01</td>\n",
              "      <td>21</td>\n",
              "      <td>364138.06</td>\n",
              "      <td>369987.66</td>\n",
              "    </tr>\n",
              "    <tr>\n",
              "      <th>21</th>\n",
              "      <td>2022-01-01</td>\n",
              "      <td>22</td>\n",
              "      <td>353764.31</td>\n",
              "      <td>359566.38</td>\n",
              "    </tr>\n",
              "    <tr>\n",
              "      <th>22</th>\n",
              "      <td>2022-01-01</td>\n",
              "      <td>23</td>\n",
              "      <td>337158.75</td>\n",
              "      <td>341183.34</td>\n",
              "    </tr>\n",
              "    <tr>\n",
              "      <th>23</th>\n",
              "      <td>2022-01-01</td>\n",
              "      <td>24</td>\n",
              "      <td>316326.84</td>\n",
              "      <td>316147.03</td>\n",
              "    </tr>\n",
              "  </tbody>\n",
              "</table>\n",
              "</div>\n",
              "    <div class=\"colab-df-buttons\">\n",
              "\n",
              "  <div class=\"colab-df-container\">\n",
              "    <button class=\"colab-df-convert\" onclick=\"convertToInteractive('df-d99dbe1a-47da-4c98-b7a5-123618d0efee')\"\n",
              "            title=\"Convert this dataframe to an interactive table.\"\n",
              "            style=\"display:none;\">\n",
              "\n",
              "  <svg xmlns=\"http://www.w3.org/2000/svg\" height=\"24px\" viewBox=\"0 -960 960 960\">\n",
              "    <path d=\"M120-120v-720h720v720H120Zm60-500h600v-160H180v160Zm220 220h160v-160H400v160Zm0 220h160v-160H400v160ZM180-400h160v-160H180v160Zm440 0h160v-160H620v160ZM180-180h160v-160H180v160Zm440 0h160v-160H620v160Z\"/>\n",
              "  </svg>\n",
              "    </button>\n",
              "\n",
              "  <style>\n",
              "    .colab-df-container {\n",
              "      display:flex;\n",
              "      gap: 12px;\n",
              "    }\n",
              "\n",
              "    .colab-df-convert {\n",
              "      background-color: #E8F0FE;\n",
              "      border: none;\n",
              "      border-radius: 50%;\n",
              "      cursor: pointer;\n",
              "      display: none;\n",
              "      fill: #1967D2;\n",
              "      height: 32px;\n",
              "      padding: 0 0 0 0;\n",
              "      width: 32px;\n",
              "    }\n",
              "\n",
              "    .colab-df-convert:hover {\n",
              "      background-color: #E2EBFA;\n",
              "      box-shadow: 0px 1px 2px rgba(60, 64, 67, 0.3), 0px 1px 3px 1px rgba(60, 64, 67, 0.15);\n",
              "      fill: #174EA6;\n",
              "    }\n",
              "\n",
              "    .colab-df-buttons div {\n",
              "      margin-bottom: 4px;\n",
              "    }\n",
              "\n",
              "    [theme=dark] .colab-df-convert {\n",
              "      background-color: #3B4455;\n",
              "      fill: #D2E3FC;\n",
              "    }\n",
              "\n",
              "    [theme=dark] .colab-df-convert:hover {\n",
              "      background-color: #434B5C;\n",
              "      box-shadow: 0px 1px 3px 1px rgba(0, 0, 0, 0.15);\n",
              "      filter: drop-shadow(0px 1px 2px rgba(0, 0, 0, 0.3));\n",
              "      fill: #FFFFFF;\n",
              "    }\n",
              "  </style>\n",
              "\n",
              "    <script>\n",
              "      const buttonEl =\n",
              "        document.querySelector('#df-d99dbe1a-47da-4c98-b7a5-123618d0efee button.colab-df-convert');\n",
              "      buttonEl.style.display =\n",
              "        google.colab.kernel.accessAllowed ? 'block' : 'none';\n",
              "\n",
              "      async function convertToInteractive(key) {\n",
              "        const element = document.querySelector('#df-d99dbe1a-47da-4c98-b7a5-123618d0efee');\n",
              "        const dataTable =\n",
              "          await google.colab.kernel.invokeFunction('convertToInteractive',\n",
              "                                                    [key], {});\n",
              "        if (!dataTable) return;\n",
              "\n",
              "        const docLinkHtml = 'Like what you see? Visit the ' +\n",
              "          '<a target=\"_blank\" href=https://colab.research.google.com/notebooks/data_table.ipynb>data table notebook</a>'\n",
              "          + ' to learn more about interactive tables.';\n",
              "        element.innerHTML = '';\n",
              "        dataTable['output_type'] = 'display_data';\n",
              "        await google.colab.output.renderOutput(dataTable, element);\n",
              "        const docLink = document.createElement('div');\n",
              "        docLink.innerHTML = docLinkHtml;\n",
              "        element.appendChild(docLink);\n",
              "      }\n",
              "    </script>\n",
              "  </div>\n",
              "\n",
              "\n",
              "    <div id=\"df-7d9cabbc-af45-4724-80dd-6b8ac088aec5\">\n",
              "      <button class=\"colab-df-quickchart\" onclick=\"quickchart('df-7d9cabbc-af45-4724-80dd-6b8ac088aec5')\"\n",
              "                title=\"Suggest charts\"\n",
              "                style=\"display:none;\">\n",
              "\n",
              "<svg xmlns=\"http://www.w3.org/2000/svg\" height=\"24px\"viewBox=\"0 0 24 24\"\n",
              "     width=\"24px\">\n",
              "    <g>\n",
              "        <path d=\"M19 3H5c-1.1 0-2 .9-2 2v14c0 1.1.9 2 2 2h14c1.1 0 2-.9 2-2V5c0-1.1-.9-2-2-2zM9 17H7v-7h2v7zm4 0h-2V7h2v10zm4 0h-2v-4h2v4z\"/>\n",
              "    </g>\n",
              "</svg>\n",
              "      </button>\n",
              "\n",
              "<style>\n",
              "  .colab-df-quickchart {\n",
              "      --bg-color: #E8F0FE;\n",
              "      --fill-color: #1967D2;\n",
              "      --hover-bg-color: #E2EBFA;\n",
              "      --hover-fill-color: #174EA6;\n",
              "      --disabled-fill-color: #AAA;\n",
              "      --disabled-bg-color: #DDD;\n",
              "  }\n",
              "\n",
              "  [theme=dark] .colab-df-quickchart {\n",
              "      --bg-color: #3B4455;\n",
              "      --fill-color: #D2E3FC;\n",
              "      --hover-bg-color: #434B5C;\n",
              "      --hover-fill-color: #FFFFFF;\n",
              "      --disabled-bg-color: #3B4455;\n",
              "      --disabled-fill-color: #666;\n",
              "  }\n",
              "\n",
              "  .colab-df-quickchart {\n",
              "    background-color: var(--bg-color);\n",
              "    border: none;\n",
              "    border-radius: 50%;\n",
              "    cursor: pointer;\n",
              "    display: none;\n",
              "    fill: var(--fill-color);\n",
              "    height: 32px;\n",
              "    padding: 0;\n",
              "    width: 32px;\n",
              "  }\n",
              "\n",
              "  .colab-df-quickchart:hover {\n",
              "    background-color: var(--hover-bg-color);\n",
              "    box-shadow: 0 1px 2px rgba(60, 64, 67, 0.3), 0 1px 3px 1px rgba(60, 64, 67, 0.15);\n",
              "    fill: var(--button-hover-fill-color);\n",
              "  }\n",
              "\n",
              "  .colab-df-quickchart-complete:disabled,\n",
              "  .colab-df-quickchart-complete:disabled:hover {\n",
              "    background-color: var(--disabled-bg-color);\n",
              "    fill: var(--disabled-fill-color);\n",
              "    box-shadow: none;\n",
              "  }\n",
              "\n",
              "  .colab-df-spinner {\n",
              "    border: 2px solid var(--fill-color);\n",
              "    border-color: transparent;\n",
              "    border-bottom-color: var(--fill-color);\n",
              "    animation:\n",
              "      spin 1s steps(1) infinite;\n",
              "  }\n",
              "\n",
              "  @keyframes spin {\n",
              "    0% {\n",
              "      border-color: transparent;\n",
              "      border-bottom-color: var(--fill-color);\n",
              "      border-left-color: var(--fill-color);\n",
              "    }\n",
              "    20% {\n",
              "      border-color: transparent;\n",
              "      border-left-color: var(--fill-color);\n",
              "      border-top-color: var(--fill-color);\n",
              "    }\n",
              "    30% {\n",
              "      border-color: transparent;\n",
              "      border-left-color: var(--fill-color);\n",
              "      border-top-color: var(--fill-color);\n",
              "      border-right-color: var(--fill-color);\n",
              "    }\n",
              "    40% {\n",
              "      border-color: transparent;\n",
              "      border-right-color: var(--fill-color);\n",
              "      border-top-color: var(--fill-color);\n",
              "    }\n",
              "    60% {\n",
              "      border-color: transparent;\n",
              "      border-right-color: var(--fill-color);\n",
              "    }\n",
              "    80% {\n",
              "      border-color: transparent;\n",
              "      border-right-color: var(--fill-color);\n",
              "      border-bottom-color: var(--fill-color);\n",
              "    }\n",
              "    90% {\n",
              "      border-color: transparent;\n",
              "      border-bottom-color: var(--fill-color);\n",
              "    }\n",
              "  }\n",
              "</style>\n",
              "\n",
              "      <script>\n",
              "        async function quickchart(key) {\n",
              "          const quickchartButtonEl =\n",
              "            document.querySelector('#' + key + ' button');\n",
              "          quickchartButtonEl.disabled = true;  // To prevent multiple clicks.\n",
              "          quickchartButtonEl.classList.add('colab-df-spinner');\n",
              "          try {\n",
              "            const charts = await google.colab.kernel.invokeFunction(\n",
              "                'suggestCharts', [key], {});\n",
              "          } catch (error) {\n",
              "            console.error('Error during call to suggestCharts:', error);\n",
              "          }\n",
              "          quickchartButtonEl.classList.remove('colab-df-spinner');\n",
              "          quickchartButtonEl.classList.add('colab-df-quickchart-complete');\n",
              "        }\n",
              "        (() => {\n",
              "          let quickchartButtonEl =\n",
              "            document.querySelector('#df-7d9cabbc-af45-4724-80dd-6b8ac088aec5 button');\n",
              "          quickchartButtonEl.style.display =\n",
              "            google.colab.kernel.accessAllowed ? 'block' : 'none';\n",
              "        })();\n",
              "      </script>\n",
              "    </div>\n",
              "\n",
              "    </div>\n",
              "  </div>\n"
            ],
            "application/vnd.google.colaboratory.intrinsic+json": {
              "type": "dataframe",
              "variable_name": "df_cali",
              "summary": "{\n  \"name\": \"df_cali\",\n  \"rows\": 26328,\n  \"fields\": [\n    {\n      \"column\": \"Fecha\",\n      \"properties\": {\n        \"dtype\": \"date\",\n        \"min\": \"2022-01-01 00:00:00\",\n        \"max\": \"2025-01-01 00:00:00\",\n        \"num_unique_values\": 1097,\n        \"samples\": [\n          \"2022-02-14 00:00:00\",\n          \"2023-07-23 00:00:00\",\n          \"2022-02-26 00:00:00\"\n        ],\n        \"semantic_type\": \"\",\n        \"description\": \"\"\n      }\n    },\n    {\n      \"column\": \"Periodo\",\n      \"properties\": {\n        \"dtype\": \"number\",\n        \"std\": 6,\n        \"min\": 1,\n        \"max\": 24,\n        \"num_unique_values\": 24,\n        \"samples\": [\n          9,\n          17,\n          1\n        ],\n        \"semantic_type\": \"\",\n        \"description\": \"\"\n      }\n    },\n    {\n      \"column\": \"Demanda_GWh\",\n      \"properties\": {\n        \"dtype\": \"number\",\n        \"std\": 94006.36364712822,\n        \"min\": 230265.5,\n        \"max\": 716720.19,\n        \"num_unique_values\": 26302,\n        \"samples\": [\n          423184.06,\n          663401.94,\n          546337.56\n        ],\n        \"semantic_type\": \"\",\n        \"description\": \"\"\n      }\n    },\n    {\n      \"column\": \"Pronostico_Existente\",\n      \"properties\": {\n        \"dtype\": \"number\",\n        \"std\": 90482.40322522729,\n        \"min\": 236053.0,\n        \"max\": 685766.25,\n        \"num_unique_values\": 25280,\n        \"samples\": [\n          568996.06,\n          538992.5,\n          387036.09\n        ],\n        \"semantic_type\": \"\",\n        \"description\": \"\"\n      }\n    }\n  ]\n}"
            }
          },
          "metadata": {},
          "execution_count": 8
        }
      ],
      "source": [
        "# Cargar CSV y parsear fechas\n",
        "df = pd.read_csv(\"DatasetDemanda.csv\", parse_dates=[\"Fecha\"])\n",
        "\n",
        "# Filtrar mercado MC-Cali y columnas relevantes\n",
        "df_cali = df[df[\"MercadoComercializacionOperativo\"] == \"MC-Cali\"][[\"Fecha\",\"Periodo\",\"DemandaAtendida\",\"PronDem\"]].copy()\n",
        "\n",
        "# Renombrar\n",
        "df_cali.rename(columns={\"DemandaAtendida\":\"Demanda_GWh\",\"PronDem\":\"Pronostico_Existente\"}, inplace=True)\n",
        "\n",
        "# Ordenar y reset index\n",
        "df_cali.sort_values([\"Fecha\",\"Periodo\"], inplace=True)\n",
        "df_cali.reset_index(drop=True, inplace=True)\n",
        "\n",
        "\n",
        "print(\"Dimensiones del dataset de Cali:\", df_cali.shape)\n",
        "df_cali.head(24)"
      ]
    },
    {
      "cell_type": "markdown",
      "metadata": {
        "id": "29dfbd6e"
      },
      "source": [
        "#### 2.2 Agrupación diaria y variables"
      ]
    },
    {
      "cell_type": "code",
      "execution_count": 9,
      "metadata": {
        "id": "2f67cd54"
      },
      "outputs": [],
      "source": [
        "# Fecha a ordinal\n",
        "df_cali['FechaOrdinal'] = df_cali['Fecha'].map(pd.Timestamp.toordinal)\n",
        "\n",
        "# Agrupar por día\n",
        "df_diario = df_cali.groupby('FechaOrdinal').agg({\n",
        "    'Demanda_GWh':'mean',\n",
        "    'Pronostico_Existente':'mean'\n",
        "}).reset_index()\n",
        "\n",
        "# Convertir ordinal a timestamp\n",
        "fechas = pd.to_datetime(df_diario['FechaOrdinal'].map(pd.Timestamp.fromordinal))\n",
        "\n",
        "# Ingeniería de variables\n",
        "df_diario['DayOfYear'] = fechas.dt.dayofyear\n",
        "df_diario['sin_dia'] = np.sin(2*np.pi*df_diario['DayOfYear']/365)\n",
        "df_diario['cos_dia'] = np.cos(2*np.pi*df_diario['DayOfYear']/365)\n",
        "\n",
        "# Media móvil 7 días\n",
        "df_diario['MA_7'] = df_diario['Demanda_GWh'].rolling(7, center=True).mean().bfill().ffill()"
      ]
    },
    {
      "cell_type": "markdown",
      "metadata": {
        "id": "e9885b4d"
      },
      "source": [
        "#### 2.3 Escalado y división"
      ]
    },
    {
      "cell_type": "code",
      "execution_count": 10,
      "metadata": {
        "id": "3e186e64"
      },
      "outputs": [],
      "source": [
        "# Transformar target\n",
        "df_diario['Demanda_log'] = np.log1p(df_diario['Demanda_GWh'])\n",
        "\n",
        "# Selección de features y target\n",
        "feature_cols = ['FechaOrdinal','sin_dia','cos_dia','MA_7','Pronostico_Existente']\n",
        "target_col = ['Demanda_log']\n",
        "\n",
        "# Escaladores\n",
        "scaler_X = MinMaxScaler(); scaler_y = MinMaxScaler()\n",
        "X = scaler_X.fit_transform(df_diario[feature_cols])\n",
        "y = scaler_y.fit_transform(df_diario[target_col])\n",
        "\n",
        "# División train/test\n",
        "X_train, X_test, y_train, y_test = train_test_split(X,y,test_size=0.2,shuffle=False)\n",
        "\n",
        "# Tensores y loaders\n",
        "torch_X_train = torch.from_numpy(X_train.astype(np.float32))\n",
        "torch_y_train = torch.from_numpy(y_train.astype(np.float32))\n",
        "torch_X_test  = torch.from_numpy(X_test.astype(np.float32))\n",
        "torch_y_test  = torch.from_numpy(y_test.astype(np.float32))\n",
        "train_loader = DataLoader(TensorDataset(torch_X_train,torch_y_train), batch_size=64, shuffle=False)\n",
        "test_loader  = DataLoader(TensorDataset(torch_X_test, torch_y_test),  batch_size=64, shuffle=False)"
      ]
    },
    {
      "cell_type": "markdown",
      "metadata": {
        "id": "e476d225"
      },
      "source": [
        "### 3. Construcción de la red neuronal"
      ]
    },
    {
      "cell_type": "markdown",
      "metadata": {
        "id": "b8444927"
      },
      "source": [
        "#### 3.1 Definición del MLP"
      ]
    },
    {
      "cell_type": "code",
      "execution_count": 11,
      "metadata": {
        "id": "55866224"
      },
      "outputs": [],
      "source": [
        "class MLP(nn.Module):\n",
        "    def __init__(self, input_dim):\n",
        "        super().__init__()\n",
        "        self.net = nn.Sequential(\n",
        "            nn.Linear(input_dim, 32),\n",
        "            nn.LeakyReLU(0.1),\n",
        "            nn.BatchNorm1d(32),\n",
        "            nn.Dropout(0.1),\n",
        "            nn.Linear(32, 16),\n",
        "            nn.LeakyReLU(0.1),\n",
        "            nn.BatchNorm1d(16),\n",
        "            nn.Dropout(0.1),\n",
        "            nn.Linear(16, 1)\n",
        "        )\n",
        "    def forward(self, x):\n",
        "        return self.net(x)"
      ]
    },
    {
      "cell_type": "code",
      "execution_count": 12,
      "metadata": {
        "id": "1269225f"
      },
      "outputs": [],
      "source": [
        "SEED = 45\n",
        "random.seed(SEED)\n",
        "np.random.seed(SEED)\n",
        "torch.manual_seed(SEED)\n",
        "if torch.cuda.is_available():\n",
        "    torch.cuda.manual_seed_all(SEED)\n",
        "    torch.backends.cudnn.deterministic = True\n",
        "    torch.backends.cudnn.benchmark = False"
      ]
    },
    {
      "cell_type": "markdown",
      "metadata": {
        "id": "b5325466"
      },
      "source": [
        "#### 3.2 Instanciación"
      ]
    },
    {
      "cell_type": "code",
      "execution_count": 13,
      "metadata": {
        "id": "7de17bb8"
      },
      "outputs": [],
      "source": [
        "input_dim = len(feature_cols)\n",
        "device = torch.device('cuda' if torch.cuda.is_available() else 'cpu')\n",
        "model = MLP(len(feature_cols)).to(device)\n",
        "criterion = nn.MSELoss()\n",
        "optimizer = optim.Adam(model.parameters(), lr=0.001, weight_decay=0.001)"
      ]
    },
    {
      "cell_type": "markdown",
      "metadata": {
        "id": "d1336b91"
      },
      "source": [
        "### 4. Entrenamiento"
      ]
    },
    {
      "cell_type": "code",
      "execution_count": 14,
      "metadata": {
        "id": "732e4bf2",
        "outputId": "13d42406-8c66-433b-b336-ba552ea30cd7",
        "colab": {
          "base_uri": "https://localhost:8080/"
        }
      },
      "outputs": [
        {
          "output_type": "stream",
          "name": "stdout",
          "text": [
            "Ep 1/200 - Tr: 0.7642 Val: 0.6210\n",
            "Ep 20/200 - Tr: 0.0550 Val: 0.0869\n",
            "Ep 40/200 - Tr: 0.0281 Val: 0.0191\n",
            "Ep 60/200 - Tr: 0.0179 Val: 0.0125\n",
            "Ep 80/200 - Tr: 0.0126 Val: 0.0081\n",
            "Ep 100/200 - Tr: 0.0103 Val: 0.0073\n",
            "Ep 120/200 - Tr: 0.0086 Val: 0.0063\n",
            "Ep 140/200 - Tr: 0.0082 Val: 0.0058\n",
            "Ep 160/200 - Tr: 0.0066 Val: 0.0054\n",
            "Ep 180/200 - Tr: 0.0069 Val: 0.0051\n",
            "Ep 200/200 - Tr: 0.0062 Val: 0.0051\n"
          ]
        }
      ],
      "source": [
        "epochs = 200\n",
        "train_losses, val_losses = [], []\n",
        "\n",
        "best_val, patience, counter = float('inf'), 30, 0\n",
        "\n",
        "for epoch in range(1, epochs+1):\n",
        "    # Entrenamiento\n",
        "    model.train(); run_tr=0\n",
        "    for xb,yb in train_loader:\n",
        "        xb,yb = xb.to(device), yb.to(device)\n",
        "        optimizer.zero_grad(); loss=criterion(model(xb), yb)\n",
        "        loss.backward(); optimizer.step(); run_tr+=loss.item()*xb.size(0)\n",
        "    train_losses.append(run_tr/len(train_loader.dataset))\n",
        "\n",
        "\n",
        "    # Validación\n",
        "    model.eval(); run_v=0\n",
        "    with torch.no_grad():\n",
        "        for xb,yb in test_loader:\n",
        "            xb,yb=xb.to(device), yb.to(device)\n",
        "            run_v+=criterion(model(xb), yb).item()*xb.size(0)\n",
        "    val_losses.append(run_v/len(test_loader.dataset))\n",
        "\n",
        "\n",
        "    # Early stopping\n",
        "    if val_losses[-1] < best_val - 1e-6:\n",
        "        best_val, counter = val_losses[-1], 0\n",
        "    else:\n",
        "        counter+=1\n",
        "        if counter>=patience:\n",
        "            print(f\"Early stopping en epoch {epoch}\")\n",
        "            break\n",
        "\n",
        "\n",
        "    # Log cada 20 epochs\n",
        "    if epoch==1 or epoch%20==0:\n",
        "        print(f\"Ep {epoch}/{epochs} - Tr: {train_losses[-1]:.4f} Val: {val_losses[-1]:.4f}\")\n"
      ]
    },
    {
      "cell_type": "markdown",
      "metadata": {
        "id": "895db3b4"
      },
      "source": [
        "### 5. Visualización y evaluación"
      ]
    },
    {
      "cell_type": "markdown",
      "metadata": {
        "id": "e22d0f85"
      },
      "source": [
        "#### 5.1 Curvas y predicción"
      ]
    },
    {
      "cell_type": "code",
      "execution_count": 15,
      "metadata": {
        "id": "06b2bb25"
      },
      "outputs": [],
      "source": [
        "model.eval(); preds=[]\n",
        "with torch.no_grad():\n",
        "    for xb,_ in test_loader:\n",
        "        preds.append(model(xb.to(device)).cpu().numpy())\n",
        "preds = np.vstack(preds)"
      ]
    },
    {
      "cell_type": "markdown",
      "metadata": {
        "id": "a38809f7"
      },
      "source": [
        "#### 5.2 Invertir escalado y log"
      ]
    },
    {
      "cell_type": "code",
      "execution_count": 16,
      "metadata": {
        "id": "4aeb997d"
      },
      "outputs": [],
      "source": [
        "y_true_log = scaler_y.inverse_transform(torch_y_test.numpy())\n",
        "y_pred_log = scaler_y.inverse_transform(preds)\n",
        "y_true = np.expm1(y_true_log).flatten()\n",
        "y_pred = np.expm1(y_pred_log).flatten()"
      ]
    },
    {
      "cell_type": "markdown",
      "metadata": {
        "id": "baaac273"
      },
      "source": [
        "#### 5.3 Fechas"
      ]
    },
    {
      "cell_type": "code",
      "execution_count": 17,
      "metadata": {
        "id": "a5376ed7"
      },
      "outputs": [],
      "source": [
        "dates = pd.to_datetime(df_diario['FechaOrdinal'].map(pd.Timestamp.fromordinal))\n",
        "split = len(df_diario)-len(y_true)\n",
        "dates_test = dates.iloc[split:].reset_index(drop=True)"
      ]
    },
    {
      "cell_type": "markdown",
      "metadata": {
        "id": "1669b9d0"
      },
      "source": [
        "#### 5.4 Plot"
      ]
    },
    {
      "cell_type": "code",
      "execution_count": 18,
      "metadata": {
        "id": "59de8f86",
        "outputId": "a954f389-b8a8-4bce-84d5-51f0de737c1d",
        "colab": {
          "base_uri": "https://localhost:8080/",
          "height": 407
        }
      },
      "outputs": [
        {
          "output_type": "display_data",
          "data": {
            "text/plain": [
              "<Figure size 800x400 with 1 Axes>"
            ],
            "image/png": "[encoded data removed]"
          },
          "metadata": {}
        }
      ],
      "source": [
        "plt.figure(figsize=(8,4))\n",
        "plt.plot(train_losses,label='Train')\n",
        "plt.plot(val_losses,label='Val')\n",
        "plt.title('Curva de aprendizaje')\n",
        "plt.xlabel('Época'); plt.ylabel('MSE')\n",
        "plt.legend(); plt.tight_layout()\n",
        "plt.show()"
      ]
    },
    {
      "cell_type": "code",
      "execution_count": 19,
      "metadata": {
        "id": "3b46a0cc",
        "outputId": "7cea8b76-6921-4c62-e311-7aa7bacdafe4",
        "colab": {
          "base_uri": "https://localhost:8080/",
          "height": 407
        }
      },
      "outputs": [
        {
          "output_type": "display_data",
          "data": {
            "text/plain": [
              "<Figure size 1200x400 with 1 Axes>"
            ],
            "image/png": "[encoded data removed]"
          },
          "metadata": {}
        }
      ],
      "source": [
        "plt.figure(figsize=(12,4));\n",
        "plt.plot(dates_test,y_true,label='Real')\n",
        "plt.plot(dates_test,y_pred,label='Predicción',alpha=0.8)\n",
        "plt.title('Demanda real vs Predicción'); plt.xlabel('Fecha')\n",
        "plt.ylabel('GWh'); plt.legend(); plt.tight_layout()\n",
        "plt.show()"
      ]
    },
    {
      "cell_type": "code",
      "execution_count": 20,
      "metadata": {
        "id": "c9e56bb6",
        "outputId": "60321e32-f2db-42e9-fb2b-daf59e31b5a3",
        "colab": {
          "base_uri": "https://localhost:8080/",
          "height": 407
        }
      },
      "outputs": [
        {
          "output_type": "display_data",
          "data": {
            "text/plain": [
              "<Figure size 600x400 with 1 Axes>"
            ],
            "image/png": "[encoded data removed]"
          },
          "metadata": {}
        }
      ],
      "source": [
        "plt.figure(figsize=(6,4))\n",
        "plt.hist(y_true-y_pred,bins=50)\n",
        "plt.title('Histograma de errores')\n",
        "plt.xlabel('Error GWh'); plt.ylabel('Frecuencia')\n",
        "plt.tight_layout()\n",
        "plt.show()"
      ]
    },
    {
      "cell_type": "markdown",
      "metadata": {
        "id": "f3ab1bc3"
      },
      "source": [
        "#### 5.5 Evaluación de métricas"
      ]
    },
    {
      "cell_type": "code",
      "execution_count": 21,
      "metadata": {
        "id": "0fd9e390"
      },
      "outputs": [],
      "source": [
        "mse_nn = mean_squared_error(y_true, y_pred)\n",
        "mae_nn = mean_absolute_error(y_true, y_pred)\n",
        "r2_nn = r2_score(y_true, y_pred)\n",
        "mean_demanda = np.mean(y_true)"
      ]
    },
    {
      "cell_type": "code",
      "execution_count": 22,
      "metadata": {
        "id": "4a1ee05c",
        "outputId": "0f4df647-69fb-4920-e845-e319ed82d760",
        "colab": {
          "base_uri": "https://localhost:8080/"
        }
      },
      "outputs": [
        {
          "output_type": "stream",
          "name": "stdout",
          "text": [
            "\n",
            "Métricas de Evaluación:\n",
            "MSE: 561917184.00\n",
            "MAE: 19362.72\n",
            "R²: 0.77\n"
          ]
        }
      ],
      "source": [
        "print(\"\\nMétricas de Evaluación:\")\n",
        "print(f\"MSE: {mse_nn:.2f}\")\n",
        "print(f\"MAE: {mae_nn:.2f}\")\n",
        "print(f\"R²: {r2_nn:.2f}\")"
      ]
    },
    {
      "cell_type": "code",
      "execution_count": 23,
      "metadata": {
        "id": "8244146e",
        "outputId": "080afd42-52c7-4207-eed6-458fc3cec098",
        "colab": {
          "base_uri": "https://localhost:8080/"
        }
      },
      "outputs": [
        {
          "output_type": "stream",
          "name": "stdout",
          "text": [
            "Tolerancia del modelo: 0.2385%\n"
          ]
        }
      ],
      "source": [
        "tolerancia = mse_nn / (mean_demanda**2) * 100\n",
        "print(f\"Tolerancia del modelo: {tolerancia:.4f}%\")"
      ]
    }
  ]
}