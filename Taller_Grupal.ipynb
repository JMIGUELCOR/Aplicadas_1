{
  "nbformat": 4,
  "nbformat_minor": 0,
  "metadata": {
    "colab": {
      "provenance": [],
      "collapsed_sections": [
        "DE-k8IWULKCC",
        "BpifcNZaLXp0",
        "S-k3lrgRL1f5",
        "Py3GxQUbWhTs",
        "RVjQm75E8PUS",
        "a4XtMNLe81Y_",
        "eWzt8Y6bG1tG",
        "wqGcnlLYDV3P",
        "w5W1CVKiA6PY",
        "i2nKOss-_x3-",
        "_WlkzZTz6rch",
        "yztB3Tky8AHy",
        "2rDNtQza77xX",
        "B1SRYJ1A1Myb",
        "Ojxq0C9PBab4"
      ],
      "authorship_tag": "ABX9TyMx/NiFj1lIANIQbu2lkIyN",
      "include_colab_link": true
    },
    "kernelspec": {
      "name": "python3",
      "display_name": "Python 3"
    },
    "language_info": {
      "name": "python"
    }
  },
  "cells": [
    {
      "cell_type": "markdown",
      "metadata": {
        "id": "view-in-github",
        "colab_type": "text"
      },
      "source": [
        "<a href=\"https://colab.research.google.com/github/JMIGUELCOR/Aplicadas_1/blob/main/Taller_Grupal.ipynb\" target=\"_parent\"><img src=\"https://colab.research.google.com/assets/colab-badge.svg\" alt=\"Open In Colab\"/></a>"
      ]
    },
    {
      "cell_type": "markdown",
      "source": [
        "#Integrantes:\n",
        "* Laura Sofia Fernandez | A00410462\n",
        "* Juan Miguel Correa | A00412937\n",
        "* Juan Jose Navas | A00411769\n",
        "* Juan Camilo Libreros | A00412339"
      ],
      "metadata": {
        "id": "NyjXwW-vdcgg"
      }
    },
    {
      "cell_type": "markdown",
      "source": [
        "# Problems 1.2\n"
      ],
      "metadata": {
        "id": "ijGnvRZfLNLw"
      }
    },
    {
      "cell_type": "markdown",
      "source": [
        "## 1.\n",
        "Para cada uno de los siguientes casos, encuentra una expresión general para el término  n-ésimo de una sucesión que genere estos valores como los primeros cuatro términos.\n",
        "$$\n",
        "\\begin{array}{ll}\n",
        "\\text{(a)} & 1, \\frac{1}{3}, \\frac{1}{9}, \\frac{1}{27}, \\dots \\\\\n",
        "\\text{(b)} & 1, \\frac{1}{2}, \\frac{1}{3}, \\frac{1}{4}, \\dots \\\\\n",
        "\\text{(c)} & 1, \\frac{3}{2}, \\frac{5}{3}, \\frac{7}{4}, \\dots \\\\\n",
        "\\text{(d)} & -\\frac{1}{3}, \\frac{1}{5}, -\\frac{1}{7}, \\frac{1}{9}, \\dots\n",
        "\\end{array}\n",
        "$$"
      ],
      "metadata": {
        "id": "DE-k8IWULKCC"
      }
    },
    {
      "cell_type": "markdown",
      "source": [
        "**Secuencia (a):** $ 1, \\frac{1}{3}, \\frac{1}{9}, \\frac{1}{27}, \\ldots $$ 1, \\frac{1}{3}, \\frac{1}{9}, \\frac{1}{27}, \\ldots $\n",
        "Los términos pueden ser expresados como:\n",
        "\n",
        "$ a_1 = 1 = \\frac{1}{3^0} $$ a_1 = 1 = \\frac{1}{3^0} $\n",
        "$ a_2 = \\frac{1}{3} = \\frac{1}{3^1} $$ a_2 = \\frac{1}{3} = \\frac{1}{3^1} $\n",
        "$ a_3 = \\frac{1}{9} = \\frac{1}{3^2} $$ a_3 = \\frac{1}{9} = \\frac{1}{3^2} $\n",
        "$ a_4 = \\frac{1}{27} = \\frac{1}{3^3} $$ a_4 = \\frac{1}{27} = \\frac{1}{3^3} $\n",
        "Por lo tanto, la expresión general para el término n-ésimo es: $$ a_n = \\frac{1}{3^{n-1}} $$$$ a_n = \\frac{1}{3^{n-1}} $$\n",
        "\n",
        "**Secuencia (b):** $ 1, \\frac{1}{2}, \\frac{1}{3}, \\frac{1}{4}, \\ldots $$ 1, \\frac{1}{2}, \\frac{1}{3}, \\frac{1}{4}, \\ldots $\n",
        "Los términos pueden ser expresados como:\n",
        "\n",
        "$ a_1 = 1 = \\frac{1}{1} $$ a_1 = 1 = \\frac{1}{1} $\n",
        "$ a_2 = \\frac{1}{2} = \\frac{1}{2} $$ a_2 = \\frac{1}{2} = \\frac{1}{2} $\n",
        "$ a_3 = \\frac{1}{3} = \\frac{1}{3} $$ a_3 = \\frac{1}{3} = \\frac{1}{3} $\n",
        "$ a_4 = \\frac{1}{4} = \\frac{1}{4} $$ a_4 = \\frac{1}{4} = \\frac{1}{4} $\n",
        "Por lo tanto, la expresión general para el término n-ésimo es: $$ a_n = \\frac{1}{n} $$$$ a_n = \\frac{1}{n} $$\n",
        "\n",
        "**Secuencia (c):** $ 1, \\frac{3}{2}, \\frac{5}{3}, \\frac{7}{4}, \\ldots $$ 1, \\frac{3}{2}, \\frac{5}{3}, \\frac{7}{4}, \\ldots $\n",
        "Los numeradores forman la secuencia $ 1, 3, 5, 7, \\ldots $$ 1, 3, 5, 7, \\ldots $ la cual es una secuencia aritmética con el primer término $ 1 $$ 1 $ y una diferencia común de $ 2 $$ 2 $. El término n-ésimo del numerador es: $$ 2n - 1 $$$$ 2n - 1 $$\n",
        "\n",
        "Los denominadores forman la secuencia $ 1, 2, 3, 4, \\ldots $$ 1, 2, 3, 4, \\ldots $, la cual es simplemente $ n $$ n $.\n",
        "\n",
        "Por lo tanto, la expresión general para el término n-ésimo es: $$ a_n = \\frac{2n - 1}{n} $$$$ a_n = \\frac{2n - 1}{n} $$\n",
        "\n",
        "**Secuencia (d):** $ -\\frac{1}{3}, \\frac{1}{5}, -\\frac{1}{7}, \\frac{1}{9}, \\ldots $$ -\\frac{1}{3}, \\frac{1}{5}, -\\frac{1}{7}, \\frac{1}{9}, \\ldots $\n",
        "Los numeradores alternan en signo y son $ -1, 1, -1, 1, \\ldots $$ -1, 1, -1, 1, \\ldots $, lo cual puede ser expresado como $ (-1)^n $$ (-1)^n $.\n",
        "\n",
        "Los denominadores son los números impares $ 3, 5, 7, 9, \\ldots $$ 3, 5, 7, 9, \\ldots $, los cuales pueden ser expresados como $ 2n + 1 $$ 2n + 1 $.\n",
        "\n",
        "Por lo tanto, la expresión general para el término n-ésimo es: $$ a_n = \\frac{(-1)^n}{2n + 1} $$$$ a_n = \\frac{(-1)^n}{2n + 1} $$\n",
        "\n",
        "Resumen de las Expresiones Generales:\n",
        "\n",
        "(a) $ a_n = \\frac{1}{3^{n-1}} $\n",
        "\n",
        "(b) $ a_n = \\frac{1}{n} $\n",
        "\n",
        "(c) $ a_n = \\frac{2n - 1}{n} $\n",
        "\n",
        "(d) $ a_n = \\frac{(-1)^n}{2n + 1} $"
      ],
      "metadata": {
        "id": "pZCL25jUA81c"
      }
    },
    {
      "cell_type": "markdown",
      "source": [
        "\n",
        "\n",
        "---\n",
        "\n"
      ],
      "metadata": {
        "id": "Fl6vjaTA60nd"
      }
    },
    {
      "cell_type": "markdown",
      "source": [
        "## 2.\n",
        "Para cada uno de los siguientes, encuentre una expresión general para el 𝑛-ésimo término de una secuencia que daría estos valores como los primeros cuatro términos.\n",
        "\n",
        "(a) $ a_n = \\frac{1}{3^n}, \\ n = 0, 1, 2, \\ldots $\n",
        "\n",
        "(b) $ a_n = \\pi^n, \\ n = 0, 1, 2, \\ldots $\n",
        "\n",
        "(c) $ b_n = \\frac{3n-1}{2n+6}, \\ n = 1, 2, 3, \\ldots $\n",
        "\n",
        "(d) $ c_n = \\cos(\\pi n), \\ n = 0, 1, 2, \\ldots $\n",
        "\n",
        "(e) $ a_n = \\frac{3n^4 - 6n^3 +1}{5n^3 + n^2 + 2}, \\ n = 1, 2, 3, \\ldots $\n",
        "\n",
        "(f) $ b_n = \\frac{2n^5 - 3n^2 + 23}{7n^3 + 13n^4 - 12}, \\ n = 1, 2, 3, \\ldots $\n",
        "\n",
        "(g) $ c_n = \\frac{45 - 16n^2}{13 + 5n + 6n^3}, \\ n = 1, 2, 3, \\ldots $\n",
        "\n",
        "(h) $ b_n = \\frac{3n+1}{\\sqrt{4n^2+1}}, \\ n = 1, 2, 3, \\ldots $\n",
        "\n",
        "(i) $ a_n = (-2)^{2n+1}, \\ n = 1, 2, 3, \\ldots $\n",
        "\n",
        "(j) $ a_n = \\frac{10 - 16n^3}{1 + n^2}, \\ n = 1, 2, 3, \\ldots $\n",
        "\n",
        "(k) $ a_n = \\sqrt{\\frac{3n^2 + n - 6}{5n^2 + 16}}, \\ n = 1, 2, 3, \\ldots $\n",
        "\n",
        "(l) $ b_n = \\left( \\frac{(-1)^n}{5^n} \\right), \\ n = 0, 1, 2, \\ldots $"
      ],
      "metadata": {
        "id": "BpifcNZaLXp0"
      }
    },
    {
      "cell_type": "markdown",
      "source": [
        "###(a)\n",
        "\n",
        "$$ \\lim_{n \\to \\infty} \\frac{1}{3^n} = 0 \\quad \\text{(converge)} $$\n",
        "\n",
        "### (b)\n",
        "\n",
        "$$ \\lim_{n \\to \\infty} π^n = \\infty \\quad \\text{(diverge)} $$\n",
        "\n",
        "### (c)\n",
        "\n",
        "$$ \\lim_{n \\to \\infty} \\frac{3n-1}{2n+6} = \\frac{3}{2} \\quad \\text{(converge)} $$\n",
        "\n",
        "### (d)\n",
        "\n",
        "$$ \\lim_{n \\to \\infty} \\cos(\\pi n) = \\text{ no existe} \\quad \\text{(diverge)} $$\n",
        "\n",
        "### (e)\n",
        "\n",
        "$$ \\lim_{n \\to \\infty} \\frac{3n^4-6n^3+1}{5n^3+n^2-2} = ∞ \\quad \\text{(diverge)} $$\n",
        "\n",
        "### (f)\n",
        "\n",
        "$$ \\lim_{n \\to \\infty} \\frac{2n^5-3n^2+23}{7n^5+13n^4-12} = \\frac{2}{7} \\quad \\text{(converge)} $$\n",
        "\n",
        "### (g)\n",
        "\n",
        "$$ \\lim_{n \\to \\infty} \\frac{45-16n^2}{13-5n+6n^3} = 0 \\quad \\text{(converge)} $$\n",
        "\n",
        "### (h)\n",
        "\n",
        "$$ \\lim_{n \\to \\infty} \\frac{3n+1}{\\sqrt{4n^2+1}} = \\frac{3}{2} \\quad \\text{(converge)} $$\n",
        "\n",
        "### (i)\n",
        "\n",
        "$$ \\lim_{n \\to \\infty} (-2)^{2n+1} = -\\infty \\quad \\text{(diverge)} $$\n",
        "\n",
        "### (j)\n",
        "\n",
        "$$ \\lim_{n \\to \\infty} \\frac{10-16n^3}{1+n^2} = ∞ \\quad \\text{(diverge)} $$\n",
        "\n",
        "### (k)\n",
        "\n",
        "$$ \\lim_{n \\to \\infty} \\sqrt{\\frac{3n^2+n-6}{5n^2+16}} = \\sqrt{\\frac{3}{5}} \\quad \\text{(converge)} $$\n",
        "\n",
        "### (L)\n",
        "\n",
        "$$ \\lim_{n \\to \\infty} \\frac{(-1)^n}{5n} = 0 \\quad \\text{(converge)} $$"
      ],
      "metadata": {
        "id": "S-k3lrgRL1f5"
      }
    },
    {
      "cell_type": "markdown",
      "source": [
        "\n",
        "\n",
        "---\n",
        "\n"
      ],
      "metadata": {
        "id": "7iiASUwQ6H6F"
      }
    },
    {
      "cell_type": "markdown",
      "source": [
        "## 3.\n",
        "Explica por qué\n",
        "\n",
        "$$ \\frac{1}{n} \\leq \\sin(n) \\leq \\frac{1}{n} $$\n",
        "\n",
        "para $ n = 1, 2, 3, \\ldots $. ¿Qué puedes concluir sobre $ \\lim_{n \\to \\infty} \\frac{\\sin(n)}{n} $?"
      ],
      "metadata": {
        "id": "Py3GxQUbWhTs"
      }
    },
    {
      "cell_type": "markdown",
      "source": [
        "Para explicar esto usaremos el teorema de comprension, que dice:\n",
        "\n",
        "* $ a_n ≤ b_n ≤ c_n $ para todo 𝑛 suficientemente grande,\n",
        "* y $ \\lim_{n \\to ∞} a_n = L $ y $ \\lim_{n \\to ∞} c_n = L $\n",
        "\n",
        "entonces $ \\lim_{n \\to ∞} b_n = L $\n",
        "\n",
        "En nuestro caso:\n",
        "\n",
        "* $ a_n = -\\frac{1}{n} $\n",
        "* $ b_n = \\frac{sin(n)}{n} $\n",
        "* $ c_n = \\frac{1}{n} $\n",
        "\n",
        "Cuando n tiende a infinito de a_n y c_n es:\n",
        "* $ \\lim_{n \\to ∞} a_n = \\lim_{n \\to ∞} -\\frac{1}{n} = 0$  \n",
        "\n",
        "* $ \\lim_{n \\to ∞} c_n = \\lim_{n \\to ∞} \\frac{1}{n} = 0$\n",
        "\n",
        "entonces podemos concluir que:\n",
        "\n",
        "$$ \\lim_{n \\to ∞} c_n = \\lim_{n \\to ∞} \\frac{sin(n)}{n} = 0 $$\n"
      ],
      "metadata": {
        "id": "uWmAD6RpWtps"
      }
    },
    {
      "cell_type": "markdown",
      "source": [
        "## 4.\n",
        "Sea $ a_n = \\left( 1 + \\frac{1}{n} \\right)^n $, $ n = 1, 2, 3, \\ldots $\n",
        "\n",
        "(a) Calcula $ a_1, a_2, a_3, a_4 $ y $ a_5 $ usando una calculadora.\n",
        "\n",
        "(b) Calcula los valores de $ a_n $ para $ n = 1, 2, 3, \\ldots, 200 $.\n",
        "\n",
        "(c) Grafica los puntos $ (n, a_n) $ para $ n = 1, 2, 3, \\ldots, 200 $, junto con la línea horizontal $ y = e $.\n",
        "\n",
        "(d) ¿Parece razonable que $ \\lim_{n \\to \\infty} a_n = e $?\n",
        "\n",
        "(e) ¿Cuál es el valor más pequeño de $ n $ para el cual $ a_n > e - 0.01 $? Recuerda que $ e = 2.71828 $ a cinco decimales."
      ],
      "metadata": {
        "id": "RVjQm75E8PUS"
      }
    },
    {
      "cell_type": "markdown",
      "source": [
        "###a) Compute $a_1$,$a_2$,$a_3$,$a_4$ and $a_5$ using a calculator.\n",
        "\n",
        "Fórmula:\n",
        "\n",
        "$a_n = \\left( 1 + \\frac{1}{n} \\right)^n$\n",
        "\n",
        "Calculamos los primeros valores:\n",
        "\n",
        "\n",
        "\\begin{array}{|c|c|}\n",
        "\\hline\n",
        "n & a_n \\\\\n",
        "\\hline\n",
        "1 & \\left( 1 + \\frac{1}{1} \\right)^1 = 2.00000 \\\\\n",
        "2 & \\left( 1 + \\frac{1}{2} \\right)^2 = 2.25000 \\\\\n",
        "3 & \\left( 1 + \\frac{1}{3} \\right)^3 = 2.37037 \\\\\n",
        "4 & \\left( 1 + \\frac{1}{4} \\right)^4 = 2.44141 \\\\\n",
        "5 & \\left( 1 + \\frac{1}{5} \\right)^5 = 2.48832 \\\\\n",
        "\\hline\n",
        "\\end{array}\n",
        "\n",
        "Estos valores muestran que la secuencia se aproxima al número $( e $) a medida que $( n $) aumenta.\n",
        "\n"
      ],
      "metadata": {
        "id": "dmAysiGb8T3X"
      }
    },
    {
      "cell_type": "markdown",
      "source": [
        "### b) Compute values of $a_n$ for $n=1,2,3,...,200$.\n",
        "\n",
        "1.   Elemento de la lista\n",
        "2.   Elemento de la lista"
      ],
      "metadata": {
        "id": "11DasNDS8g7E"
      }
    },
    {
      "cell_type": "code",
      "source": [
        "#b)\n",
        "import numpy as np\n",
        "\n",
        "# Definimos la función a_n\n",
        "def a_n(n):\n",
        "    return (1 + 1/n)**n\n",
        "\n",
        "# Calculamos los valores de a_n para n de 1 a 200\n",
        "n_values = np.arange(1, 201)\n",
        "a_values = a_n(n_values)\n",
        "\n",
        "# Mostramos los resultados\n",
        "for n, a in zip(n_values, a_values):\n",
        "    print(f\"a_{n} = {a:.5f}\")  # Mostramos con 5 decimales"
      ],
      "metadata": {
        "colab": {
          "base_uri": "https://localhost:8080/"
        },
        "id": "p0dPubGf7tg1",
        "outputId": "57d0fea0-0b8f-4314-cf38-3398776448e0"
      },
      "execution_count": null,
      "outputs": [
        {
          "output_type": "stream",
          "name": "stdout",
          "text": [
            "a_1 = 2.00000\n",
            "a_2 = 2.25000\n",
            "a_3 = 2.37037\n",
            "a_4 = 2.44141\n",
            "a_5 = 2.48832\n",
            "a_6 = 2.52163\n",
            "a_7 = 2.54650\n",
            "a_8 = 2.56578\n",
            "a_9 = 2.58117\n",
            "a_10 = 2.59374\n",
            "a_11 = 2.60420\n",
            "a_12 = 2.61304\n",
            "a_13 = 2.62060\n",
            "a_14 = 2.62715\n",
            "a_15 = 2.63288\n",
            "a_16 = 2.63793\n",
            "a_17 = 2.64241\n",
            "a_18 = 2.64643\n",
            "a_19 = 2.65003\n",
            "a_20 = 2.65330\n",
            "a_21 = 2.65626\n",
            "a_22 = 2.65897\n",
            "a_23 = 2.66145\n",
            "a_24 = 2.66373\n",
            "a_25 = 2.66584\n",
            "a_26 = 2.66778\n",
            "a_27 = 2.66959\n",
            "a_28 = 2.67128\n",
            "a_29 = 2.67285\n",
            "a_30 = 2.67432\n",
            "a_31 = 2.67570\n",
            "a_32 = 2.67699\n",
            "a_33 = 2.67821\n",
            "a_34 = 2.67936\n",
            "a_35 = 2.68044\n",
            "a_36 = 2.68146\n",
            "a_37 = 2.68244\n",
            "a_38 = 2.68336\n",
            "a_39 = 2.68423\n",
            "a_40 = 2.68506\n",
            "a_41 = 2.68586\n",
            "a_42 = 2.68661\n",
            "a_43 = 2.68733\n",
            "a_44 = 2.68802\n",
            "a_45 = 2.68868\n",
            "a_46 = 2.68931\n",
            "a_47 = 2.68992\n",
            "a_48 = 2.69050\n",
            "a_49 = 2.69105\n",
            "a_50 = 2.69159\n",
            "a_51 = 2.69210\n",
            "a_52 = 2.69260\n",
            "a_53 = 2.69307\n",
            "a_54 = 2.69353\n",
            "a_55 = 2.69398\n",
            "a_56 = 2.69440\n",
            "a_57 = 2.69481\n",
            "a_58 = 2.69521\n",
            "a_59 = 2.69560\n",
            "a_60 = 2.69597\n",
            "a_61 = 2.69633\n",
            "a_62 = 2.69668\n",
            "a_63 = 2.69702\n",
            "a_64 = 2.69734\n",
            "a_65 = 2.69766\n",
            "a_66 = 2.69797\n",
            "a_67 = 2.69827\n",
            "a_68 = 2.69856\n",
            "a_69 = 2.69884\n",
            "a_70 = 2.69912\n",
            "a_71 = 2.69938\n",
            "a_72 = 2.69964\n",
            "a_73 = 2.69989\n",
            "a_74 = 2.70014\n",
            "a_75 = 2.70038\n",
            "a_76 = 2.70061\n",
            "a_77 = 2.70084\n",
            "a_78 = 2.70106\n",
            "a_79 = 2.70127\n",
            "a_80 = 2.70148\n",
            "a_81 = 2.70169\n",
            "a_82 = 2.70189\n",
            "a_83 = 2.70209\n",
            "a_84 = 2.70228\n",
            "a_85 = 2.70246\n",
            "a_86 = 2.70264\n",
            "a_87 = 2.70282\n",
            "a_88 = 2.70300\n",
            "a_89 = 2.70317\n",
            "a_90 = 2.70333\n",
            "a_91 = 2.70350\n",
            "a_92 = 2.70365\n",
            "a_93 = 2.70381\n",
            "a_94 = 2.70396\n",
            "a_95 = 2.70411\n",
            "a_96 = 2.70426\n",
            "a_97 = 2.70440\n",
            "a_98 = 2.70454\n",
            "a_99 = 2.70468\n",
            "a_100 = 2.70481\n",
            "a_101 = 2.70495\n",
            "a_102 = 2.70508\n",
            "a_103 = 2.70520\n",
            "a_104 = 2.70533\n",
            "a_105 = 2.70545\n",
            "a_106 = 2.70557\n",
            "a_107 = 2.70569\n",
            "a_108 = 2.70580\n",
            "a_109 = 2.70592\n",
            "a_110 = 2.70603\n",
            "a_111 = 2.70614\n",
            "a_112 = 2.70625\n",
            "a_113 = 2.70635\n",
            "a_114 = 2.70645\n",
            "a_115 = 2.70656\n",
            "a_116 = 2.70666\n",
            "a_117 = 2.70676\n",
            "a_118 = 2.70685\n",
            "a_119 = 2.70695\n",
            "a_120 = 2.70704\n",
            "a_121 = 2.70713\n",
            "a_122 = 2.70722\n",
            "a_123 = 2.70731\n",
            "a_124 = 2.70740\n",
            "a_125 = 2.70749\n",
            "a_126 = 2.70757\n",
            "a_127 = 2.70766\n",
            "a_128 = 2.70774\n",
            "a_129 = 2.70782\n",
            "a_130 = 2.70790\n",
            "a_131 = 2.70798\n",
            "a_132 = 2.70806\n",
            "a_133 = 2.70813\n",
            "a_134 = 2.70821\n",
            "a_135 = 2.70828\n",
            "a_136 = 2.70836\n",
            "a_137 = 2.70843\n",
            "a_138 = 2.70850\n",
            "a_139 = 2.70857\n",
            "a_140 = 2.70864\n",
            "a_141 = 2.70870\n",
            "a_142 = 2.70877\n",
            "a_143 = 2.70884\n",
            "a_144 = 2.70890\n",
            "a_145 = 2.70897\n",
            "a_146 = 2.70903\n",
            "a_147 = 2.70909\n",
            "a_148 = 2.70915\n",
            "a_149 = 2.70922\n",
            "a_150 = 2.70928\n",
            "a_151 = 2.70934\n",
            "a_152 = 2.70939\n",
            "a_153 = 2.70945\n",
            "a_154 = 2.70951\n",
            "a_155 = 2.70956\n",
            "a_156 = 2.70962\n",
            "a_157 = 2.70968\n",
            "a_158 = 2.70973\n",
            "a_159 = 2.70978\n",
            "a_160 = 2.70984\n",
            "a_161 = 2.70989\n",
            "a_162 = 2.70994\n",
            "a_163 = 2.70999\n",
            "a_164 = 2.71004\n",
            "a_165 = 2.71009\n",
            "a_166 = 2.71014\n",
            "a_167 = 2.71019\n",
            "a_168 = 2.71024\n",
            "a_169 = 2.71028\n",
            "a_170 = 2.71033\n",
            "a_171 = 2.71038\n",
            "a_172 = 2.71042\n",
            "a_173 = 2.71047\n",
            "a_174 = 2.71051\n",
            "a_175 = 2.71056\n",
            "a_176 = 2.71060\n",
            "a_177 = 2.71064\n",
            "a_178 = 2.71069\n",
            "a_179 = 2.71073\n",
            "a_180 = 2.71077\n",
            "a_181 = 2.71081\n",
            "a_182 = 2.71085\n",
            "a_183 = 2.71089\n",
            "a_184 = 2.71093\n",
            "a_185 = 2.71097\n",
            "a_186 = 2.71101\n",
            "a_187 = 2.71105\n",
            "a_188 = 2.71109\n",
            "a_189 = 2.71113\n",
            "a_190 = 2.71116\n",
            "a_191 = 2.71120\n",
            "a_192 = 2.71124\n",
            "a_193 = 2.71127\n",
            "a_194 = 2.71131\n",
            "a_195 = 2.71134\n",
            "a_196 = 2.71138\n",
            "a_197 = 2.71141\n",
            "a_198 = 2.71145\n",
            "a_199 = 2.71148\n",
            "a_200 = 2.71152\n"
          ]
        }
      ]
    },
    {
      "cell_type": "markdown",
      "source": [
        "### c) Plot the points ($n,n_a)$ for $n=1,2,3,...,200$ , along with the horizontal line $y=e$"
      ],
      "metadata": {
        "id": "Tz9A6IFi8jo8"
      }
    },
    {
      "cell_type": "code",
      "source": [
        "\n",
        "#c)\n",
        "import numpy as np\n",
        "import matplotlib.pyplot as plt\n",
        "\n",
        "# Definimos la función a_n\n",
        "def a_n(n):\n",
        "    return (1 + 1/n)**n\n",
        "\n",
        "# Valores de n de 1 a 200\n",
        "n_values = np.arange(1, 201)\n",
        "a_values = a_n(n_values)\n",
        "\n",
        "# Valor de e con cinco decimales\n",
        "e = 2.71828\n",
        "\n",
        "# Crear la gráfica de dispersión\n",
        "plt.figure(figsize=(10, 5))\n",
        "plt.scatter(n_values, a_values, color='b', s=10, label=r\"$a_n = (1 + 1/n)^n$\")  # Puntos azules\n",
        "plt.axhline(y=e, color='r', linestyle='--', label=r\"$y = e$\")  # Línea horizontal en y = e\n",
        "\n",
        "# Configuración de la gráfica\n",
        "plt.xlabel(\"n\")\n",
        "plt.ylabel(\"a_n\")\n",
        "plt.title(\"Secuencia a_n = (1 + 1/n)^n para n = 1 a 200\")\n",
        "plt.legend()\n",
        "plt.grid()\n",
        "plt.show()"
      ],
      "metadata": {
        "colab": {
          "base_uri": "https://localhost:8080/",
          "height": 487
        },
        "id": "OF-EwtfR8a7R",
        "outputId": "f7b0a517-1ffc-424c-cb79-6993726b059e"
      },
      "execution_count": null,
      "outputs": [
        {
          "output_type": "display_data",
          "data": {
            "text/plain": [
              "<Figure size 1000x500 with 1 Axes>"
            ],
            "image/png": "[encoded data removed]"
          },
          "metadata": {}
        }
      ]
    },
    {
      "cell_type": "markdown",
      "source": [
        "###d) Does it seem reasonable that $\n",
        "\\lim_{{n \\to \\infty}} \\left( 1 + \\frac{1}{n} \\right)^n = e\n",
        "$?\n",
        "Sí, porque al aumentar $ n $, $ a_n $ se acerca más y más a 2.71828. Matemáticamente, se sabe que:\n",
        "\n",
        "$\n",
        "\\lim_{{n \\to \\infty}} \\left( 1 + \\frac{1}{n} \\right)^n = e\n",
        "$\n",
        "\n",
        "Por lo que es razonable afirmar que converge a $( e $)."
      ],
      "metadata": {
        "id": "a4XtMNLe81Y_"
      }
    },
    {
      "cell_type": "code",
      "source": [
        "#d)\n",
        "import matplotlib.pyplot as plt\n",
        "\n",
        "# Valor de e con cinco decimales\n",
        "e = 2.71828\n",
        "\n",
        "# Crear la gráfica de la secuencia\n",
        "plt.figure(figsize=(10, 5))\n",
        "plt.plot(n_values, a_values, label=r\"$a_n = (1 + 1/n)^n$\", color='b')\n",
        "plt.axhline(y=e, color='r', linestyle='--', label=r\"$y = e$\")  # Línea horizontal en y = e\n",
        "\n",
        "# Configuración de la gráfica\n",
        "plt.xlabel(\"n\")\n",
        "plt.ylabel(\"a_n\")\n",
        "plt.title(\"Comportamiento de la secuencia a_n = (1 + 1/n)^n\")\n",
        "plt.legend()\n",
        "plt.grid()\n",
        "plt.show()"
      ],
      "metadata": {
        "colab": {
          "base_uri": "https://localhost:8080/",
          "height": 487
        },
        "id": "Rzv3muLl80Nz",
        "outputId": "021d623c-4ab1-4019-98b1-359e1bb8d7b7"
      },
      "execution_count": null,
      "outputs": [
        {
          "output_type": "display_data",
          "data": {
            "text/plain": [
              "<Figure size 1000x500 with 1 Axes>"
            ],
            "image/png": "[encoded data removed]"
          },
          "metadata": {}
        }
      ]
    },
    {
      "cell_type": "markdown",
      "source": [
        "### e) What is the smallest value of $n$ for which $a_n>2.7$?\n",
        "\n",
        "### f) What is the first value of $( n $) for which $( |a_n - e| < 0.01 $)? Recall that $( e = 2.71828 $) to five decimal places."
      ],
      "metadata": {
        "id": "iY_JX5OGARAl"
      }
    },
    {
      "cell_type": "code",
      "source": [
        "import numpy as np\n",
        "import matplotlib.pyplot as plt\n",
        "\n",
        "# Definimos la función a_n\n",
        "def a_n(n):\n",
        "    return (1 + 1/n)**n\n",
        "\n",
        "# Valores de n desde 1 hasta 1000\n",
        "n_values = np.arange(1, 1001)\n",
        "a_values = a_n(n_values)\n",
        "\n",
        "# Valor de e con cinco decimales\n",
        "e = 2.71828\n",
        "\n",
        "#e) Encontrar el menor n para el cual a_n > 2.7\n",
        "n_5 = np.min(n_values[a_values > 2.7])\n",
        "\n",
        "# f) Encontrar el menor n para el cual |a_n - e| < 0.01\n",
        "n_6 = np.min(n_values[np.abs(a_values - e) < 0.01])\n",
        "\n",
        "# Imprimir los resultados\n",
        "print(f\"El menor n para el cual a_n > 2.7 es: {n_5}\")\n",
        "print(f\"El menor n para el cual |a_n - e| < 0.01 es: {n_6}\")\n",
        "\n",
        "# Gráfica\n",
        "plt.figure(figsize=(10, 5))\n",
        "plt.plot(n_values, a_values, label=r\"$a_n = (1 + 1/n)^n$\", color='b')\n",
        "plt.axhline(y=e, color='r', linestyle='--', label=r\"$y = e$\")  # Línea horizontal en y = e\n",
        "plt.scatter([n_5], [a_n(n_5)], color='g', label=f\"n = {n_5}, a_n > 2.7\", zorder=3)\n",
        "plt.scatter([n_6], [a_n(n_6)], color='m', label=f\"n = {n_6}, |a_n - e| < 0.01\", zorder=3)\n",
        "\n",
        "# Configuración de la gráfica\n",
        "plt.xlabel(\"n\")\n",
        "plt.ylabel(\"a_n\")\n",
        "plt.title(\"Comportamiento de la secuencia a_n = (1 + 1/n)^n\")\n",
        "plt.legend()\n",
        "plt.grid()\n",
        "plt.show()\n"
      ],
      "metadata": {
        "colab": {
          "base_uri": "https://localhost:8080/",
          "height": 522
        },
        "id": "mQ6Ry_7CAUPD",
        "outputId": "d782fc0e-353d-4fe7-8c86-28df7a570d6e"
      },
      "execution_count": null,
      "outputs": [
        {
          "output_type": "stream",
          "name": "stdout",
          "text": [
            "El menor n para el cual a_n > 2.7 es: 74\n",
            "El menor n para el cual |a_n - e| < 0.01 es: 135\n"
          ]
        },
        {
          "output_type": "display_data",
          "data": {
            "text/plain": [
              "<Figure size 1000x500 with 1 Axes>"
            ],
            "image/png": "[encoded data removed]"
          },
          "metadata": {}
        }
      ]
    },
    {
      "cell_type": "markdown",
      "source": [
        "## 5.\n",
        "\n",
        "Sea $ a_n = n \\sin \\left( \\frac{1}{n} \\right) $, $ n = 1, 2, 3, \\ldots $\n",
        "\n",
        "(a) Calcula $ a_1, a_2, a_3, a_4 $ y $ a_5 $ usando una calculadora.\n",
        "\n",
        "(b) Calcula los valores de $ a_n $ para $ n = 1, 2, 3, \\ldots, 200 $.\n",
        "\n",
        "(c) Grafica los puntos $ (n, a_n) $ para $ n = 1, 2, 3, \\ldots, 200 $, junto con la línea horizontal $ y = 1 $.\n",
        "\n",
        "(d) ¿Parece razonable que $ \\lim_{n \\to \\infty} a_n = 1 $?\n",
        "\n",
        "(e) ¿Cuál es el valor más pequeño de $ n $ para el cual $ a_n > 0.999 $?\n",
        "\n",
        "(f) ¿Cuál es el primer valor de $ n $ para el cual $ |a_n - 1| < 0.0001 $?"
      ],
      "metadata": {
        "id": "eWzt8Y6bG1tG"
      }
    },
    {
      "cell_type": "markdown",
      "source": [
        "### a)"
      ],
      "metadata": {
        "id": "eleGJkavHCFS"
      }
    },
    {
      "cell_type": "code",
      "source": [
        "import numpy as np\n",
        "\n",
        "# Definir la función a_n\n",
        "def a_n(n):\n",
        "    return n * np.sin(np.pi / n)\n",
        "\n",
        "# Calcular a_1 a a_5\n",
        "valores = [a_n(n) for n in range(1, 6)]\n",
        "for i, val in enumerate(valores, 1):\n",
        "    print(f\"a_{i} = {val:.4f}\")"
      ],
      "metadata": {
        "colab": {
          "base_uri": "https://localhost:8080/"
        },
        "id": "OMRUKXhg8LPh",
        "outputId": "95f5e16f-60ce-4bcd-ae10-c418cdb85371"
      },
      "execution_count": null,
      "outputs": [
        {
          "output_type": "stream",
          "name": "stdout",
          "text": [
            "a_1 = 0.0000\n",
            "a_2 = 2.0000\n",
            "a_3 = 2.5981\n",
            "a_4 = 2.8284\n",
            "a_5 = 2.9389\n"
          ]
        }
      ]
    },
    {
      "cell_type": "markdown",
      "source": [
        "### b)"
      ],
      "metadata": {
        "id": "qrzqJrelHLaH"
      }
    },
    {
      "cell_type": "code",
      "source": [
        "import numpy as np\n",
        "\n",
        "\n",
        "for i in range(1, 201):\n",
        "  print(f\"a_{i} =\", np.sin(1 / i))\n"
      ],
      "metadata": {
        "colab": {
          "base_uri": "https://localhost:8080/"
        },
        "collapsed": true,
        "id": "E8ivmgU9HNAL",
        "outputId": "527b8982-cc7b-4476-93e9-746fc4d8c4fe"
      },
      "execution_count": null,
      "outputs": [
        {
          "output_type": "stream",
          "name": "stdout",
          "text": [
            "a_1 = 0.8414709848078965\n",
            "a_2 = 0.479425538604203\n",
            "a_3 = 0.3271946967961522\n",
            "a_4 = 0.24740395925452294\n",
            "a_5 = 0.19866933079506122\n",
            "a_6 = 0.16589613269341502\n",
            "a_7 = 0.14237172979226365\n",
            "a_8 = 0.12467473338522769\n",
            "a_9 = 0.11088262850995298\n",
            "a_10 = 0.09983341664682815\n",
            "a_11 = 0.09078392350887036\n",
            "a_12 = 0.08323691620031025\n",
            "a_13 = 0.0768472383413981\n",
            "a_14 = 0.07136784834007859\n",
            "a_15 = 0.066617294923393\n",
            "a_16 = 0.0624593178423802\n",
            "a_17 = 0.05878961167637315\n",
            "a_18 = 0.05552698200473387\n",
            "a_19 = 0.05260728333807213\n",
            "a_20 = 0.04997916927067833\n",
            "a_21 = 0.04760105304273411\n",
            "a_22 = 0.04543889467976307\n",
            "a_23 = 0.043464563909395695\n",
            "a_24 = 0.041654611386019086\n",
            "a_25 = 0.03998933418663416\n",
            "a_26 = 0.03845205653506573\n",
            "a_27 = 0.03702857007387818\n",
            "a_28 = 0.03570669387583191\n",
            "a_29 = 0.03447592534511015\n",
            "a_30 = 0.03332716083675362\n",
            "a_31 = 0.032252470276413724\n",
            "a_32 = 0.03124491398532608\n",
            "a_33 = 0.03029839277027705\n",
            "a_34 = 0.0294075244387836\n",
            "a_35 = 0.028567541460896143\n",
            "a_36 = 0.027774205670508752\n",
            "a_37 = 0.02702373678598298\n",
            "a_38 = 0.02631275220703172\n",
            "a_39 = 0.025638216065882756\n",
            "a_40 = 0.024997395914712332\n",
            "a_41 = 0.02438782574673365\n",
            "a_42 = 0.02380727429620696\n",
            "a_43 = 0.02325371775869063\n",
            "a_44 = 0.02272531622884213\n",
            "a_45 = 0.022220393277898615\n",
            "a_46 = 0.021737418193387207\n",
            "a_47 = 0.021274990484822617\n",
            "a_48 = 0.020831826325142813\n",
            "a_49 = 0.020406746651514887\n",
            "a_50 = 0.01999866669333308\n",
            "a_51 = 0.019606586731628108\n",
            "a_52 = 0.019229583924208867\n",
            "a_53 = 0.018866805055851227\n",
            "a_54 = 0.018517460093679227\n",
            "a_55 = 0.018180816445308084\n",
            "a_56 = 0.017856193831943708\n",
            "a_57 = 0.017542959700950933\n",
            "a_58 = 0.017240525112809695\n",
            "a_59 = 0.016948341046198807\n",
            "a_60 = 0.01666589507244506\n",
            "a_61 = 0.01639270835696759\n",
            "a_62 = 0.016128332950812327\n",
            "a_63 = 0.015872349340055773\n",
            "a_64 = 0.015624364224883372\n",
            "a_65 = 0.015384008503616601\n",
            "a_66 = 0.015150935439958792\n",
            "a_67 = 0.01492481899432348\n",
            "a_68 = 0.014705352302359542\n",
            "a_69 = 0.014492246285744553\n",
            "a_70 = 0.014285228382023339\n",
            "a_71 = 0.014084041381758138\n",
            "a_72 = 0.01388844236256011\n",
            "a_73 = 0.01369820171071469\n",
            "a_74 = 0.01351310222211695\n",
            "a_75 = 0.013332938275116585\n",
            "a_76 = 0.013157515068650857\n",
            "a_77 = 0.012986647919731649\n",
            "a_78 = 0.012820161614961145\n",
            "a_79 = 0.012657889811289947\n",
            "a_80 = 0.012499674481709789\n",
            "a_81 = 0.012345365401998452\n",
            "a_82 = 0.012194819675013187\n",
            "a_83 = 0.012047901289366473\n",
            "a_84 = 0.011904480709619568\n",
            "a_85 = 0.011764434495398709\n",
            "a_86 = 0.011627644947080233\n",
            "a_87 = 0.011493999775907341\n",
            "a_88 = 0.011363391796595358\n",
            "a_89 = 0.011235718640657087\n",
            "a_90 = 0.01111088248883695\n",
            "a_91 = 0.010988789821184269\n",
            "a_92 = 0.010869351183423775\n",
            "a_93 = 0.010752480968396911\n",
            "a_94 = 0.010638097211451753\n",
            "a_95 = 0.010526121398753977\n",
            "a_96 = 0.010416478287576808\n",
            "a_97 = 0.010309095737705627\n",
            "a_98 = 0.010203904553163461\n",
            "a_99 = 0.01010083833352769\n",
            "a_100 = 0.009999833334166664\n",
            "a_101 = 0.009900828334778133\n",
            "a_102 = 0.0098037645156598\n",
            "a_103 = 0.009708585341186616\n",
            "a_104 = 0.009615236450009775\n",
            "a_105 = 0.009523665551529373\n",
            "a_106 = 0.009433822328226486\n",
            "a_107 = 0.00934565834347137\n",
            "a_108 = 0.009259126954452907\n",
            "a_109 = 0.009174183229900436\n",
            "a_110 = 0.00909078387229304\n",
            "a_111 = 0.009008887144273335\n",
            "a_112 = 0.00892845279900298\n",
            "a_113 = 0.008849442014215813\n",
            "a_114 = 0.00877181732974151\n",
            "a_115 = 0.008695542588288618\n",
            "a_116 = 0.00862058287929025\n",
            "a_117 = 0.008546904485629234\n",
            "a_118 = 0.008474474833071918\n",
            "a_119 = 0.008403262442251326\n",
            "a_120 = 0.008333236883050947\n",
            "a_121 = 0.0082643687312503\n",
            "a_122 = 0.008196629527302516\n",
            "a_123 = 0.008129991737122616\n",
            "a_124 = 0.008064428714772972\n",
            "a_125 = 0.007999914666939733\n",
            "a_126 = 0.007936424619100725\n",
            "a_127 = 0.0078739343832916\n",
            "a_128 = 0.0078124205273828315\n",
            "a_129 = 0.007751860345785581\n",
            "a_130 = 0.007692231831509527\n",
            "a_131 = 0.0076335136495003664\n",
            "a_132 = 0.0075756851111892\n",
            "a_133 = 0.007518726150189951\n",
            "a_134 = 0.007462617299084923\n",
            "a_135 = 0.007407339667242018\n",
            "a_136 = 0.0073528749196105515\n",
            "a_137 = 0.007299205256445664\n",
            "a_138 = 0.007246313393914214\n",
            "a_139 = 0.007194182545537786\n",
            "a_140 = 0.007142796404430941\n",
            "a_141 = 0.0070921391262952485\n",
            "a_142 = 0.00704219531313183\n",
            "a_143 = 0.006992949997637257\n",
            "a_144 = 0.006944388628249585\n",
            "a_145 = 0.006896497054813133\n",
            "a_146 = 0.006849261514832345\n",
            "a_147 = 0.006802668620286702\n",
            "a_148 = 0.0067567053449801165\n",
            "a_149 = 0.006711359012399735\n",
            "a_150 = 0.006666617284060357\n",
            "a_151 = 0.006622468148311961\n",
            "a_152 = 0.0065788999095890265\n",
            "a_153 = 0.006535901178081421\n",
            "a_154 = 0.006493460859807701\n",
            "a_155 = 0.006451568147072658\n",
            "a_156 = 0.006410212509291859\n",
            "a_157 = 0.006369383684166827\n",
            "a_158 = 0.006329071669195324\n",
            "a_159 = 0.006289266713501989\n",
            "a_160 = 0.006249959309975306\n",
            "a_161 = 0.006211140187697598\n",
            "a_162 = 0.0061728003046553764\n",
            "a_163 = 0.006134930840718006\n",
            "a_164 = 0.00609752319087324\n",
            "a_165 = 0.006060568958708723\n",
            "a_166 = 0.006024059950129101\n",
            "a_167 = 0.005987988167298836\n",
            "a_168 = 0.0059523458028013536\n",
            "a_169 = 0.005917125234005552\n",
            "a_170 = 0.005882319017631118\n",
            "a_171 = 0.005847919884504538\n",
            "a_172 = 0.005813920734498027\n",
            "a_173 = 0.005780314631643979\n",
            "a_174 = 0.00574709479941788\n",
            "a_175 = 0.00571425461618294\n",
            "a_176 = 0.005681787610790017\n",
            "a_177 = 0.005649687458326697\n",
            "a_178 = 0.0056179479760096445\n",
            "a_179 = 0.005586563119214648\n",
            "a_180 = 0.005555526977638981\n",
            "a_181 = 0.005524833771590985\n",
            "a_182 = 0.005494477848401962\n",
            "a_183 = 0.005464453678955698\n",
            "a_184 = 0.005434755854331175\n",
            "a_185 = 0.005405379082554135\n",
            "a_186 = 0.005376318185453445\n",
            "a_187 = 0.005347568095618325\n",
            "a_188 = 0.005319123853452678\n",
            "a_189 = 0.005290980604322924\n",
            "a_190 = 0.005263133595795914\n",
            "a_191 = 0.005235578174963596\n",
            "a_192 = 0.005208309785851286\n",
            "a_193 = 0.005181323966906516\n",
            "a_194 = 0.005154616348565525\n",
            "a_195 = 0.005128182650894653\n",
            "a_196 = 0.005102018681303901\n",
            "a_197 = 0.005076120332330163\n",
            "a_198 = 0.005050483579487598\n",
            "a_199 = 0.005025104479182835\n",
            "a_200 = 0.004999979166692708\n"
          ]
        }
      ]
    },
    {
      "cell_type": "markdown",
      "source": [
        "### c)"
      ],
      "metadata": {
        "id": "_KOsNHDiHWqp"
      }
    },
    {
      "cell_type": "code",
      "source": [
        "import numpy as np\n",
        "import matplotlib.pyplot as plt\n",
        "\n",
        "# Crear los valores de n\n",
        "n = np.arange(1, 201)\n",
        "a_n = n * np.sin(1 / n)  # Calcular a_n\n",
        "\n",
        "# Graficar los puntos (n, a_n)\n",
        "plt.scatter(n, a_n, color='black', label='a_n = n sin(1/n)')\n",
        "\n",
        "# Graficar la línea y = 1\n",
        "plt.axhline(y=1, color='red', linestyle='--', label='y = 1')\n",
        "\n",
        "# Mostrar la gráfica\n",
        "plt.legend()\n",
        "plt.show()"
      ],
      "metadata": {
        "colab": {
          "base_uri": "https://localhost:8080/",
          "height": 430
        },
        "id": "zlLmQecyHdEb",
        "outputId": "0d4dc087-fe48-4c9c-d124-c9d5cab78b1f"
      },
      "execution_count": null,
      "outputs": [
        {
          "output_type": "display_data",
          "data": {
            "text/plain": [
              "<Figure size 640x480 with 1 Axes>"
            ],
            "image/png": "[encoded data removed]"
          },
          "metadata": {}
        }
      ]
    },
    {
      "cell_type": "markdown",
      "source": [
        "### d)"
      ],
      "metadata": {
        "id": "0hjhuru5KHZm"
      }
    },
    {
      "cell_type": "markdown",
      "source": [
        "$$\\lim_{n \\to \\infty} a_n = \\lim_{n \\to \\infty} n \\sin\\left(\\frac{\\pi}{n}\\right)\n",
        "$$\n",
        "\n",
        "Hacemos un cambio de variable $ x = \\frac{1}{n} $, de modo que cuando $ n \\to \\infty $, $ x \\to 0^+ $, y el límite se convierte en:\n",
        "\n",
        "$$\n",
        "\\lim_{x \\to 0^+} \\frac{\\sin(\\pi x)}{x}\n",
        "$$\n",
        "\n",
        "Usamos la serie de Taylor de $ \\sin(\\pi x) $ alrededor de $ x = 0 $:\n",
        "\n",
        "$$\n",
        "\\sin(\\pi x) = \\pi x - \\frac{(\\pi x)^3}{6} + \\frac{(\\pi x)^5}{120} - \\cdots\n",
        "$$\n",
        "\n",
        "Entonces:\n",
        "\n",
        "$\n",
        "\\frac{\\sin(\\pi x)}{x} = \\frac{\\pi x - \\frac{(\\pi x)^3}{6} + \\cdots}{x} = \\pi - \\frac{\\pi^3 x^2}{6} + \\frac{\\pi^5 x^4}{120} - \\cdots\n",
        "$\n",
        "\n",
        "Cuando $ x \\to 0^+ $:\n",
        "\n",
        "$$\n",
        "\\lim_{x \\to 0^+} \\frac{\\sin(\\pi x)}{x} = \\pi - 0 + 0 - \\cdots = \\pi\n",
        "$$\n",
        "\n",
        "Por lo tanto:\n",
        "\n",
        "$$\n",
        "\\lim_{n \\to \\infty} a_n = \\pi\n",
        "$$"
      ],
      "metadata": {
        "id": "42PyP98n8Xhv"
      }
    },
    {
      "cell_type": "markdown",
      "source": [
        "### e)"
      ],
      "metadata": {
        "id": "GR2IS2p9KJv-"
      }
    },
    {
      "cell_type": "code",
      "source": [
        "import numpy as np\n",
        "\n",
        "def a_n(n):\n",
        "    return n * np.sin(np.pi / n)\n",
        "\n",
        "n = 1\n",
        "while a_n(n) <= 0.999:\n",
        "    n += 1\n",
        "\n",
        "print(f\"El menor valor de n tal que a_n sea menor o igual que 0.999 es {n}\")"
      ],
      "metadata": {
        "colab": {
          "base_uri": "https://localhost:8080/"
        },
        "id": "PrQ6EUDoKO7d",
        "outputId": "7f6d550f-108f-4e4a-f993-77203ec5aafc"
      },
      "execution_count": null,
      "outputs": [
        {
          "output_type": "stream",
          "name": "stdout",
          "text": [
            "El menor valor de n tal que a_n sea menor o igual que 0.999 es 2\n"
          ]
        }
      ]
    },
    {
      "cell_type": "markdown",
      "source": [
        "### f)"
      ],
      "metadata": {
        "id": "I_wPwtI_-3ZC"
      }
    },
    {
      "cell_type": "code",
      "source": [
        "import numpy as np\n",
        "\n",
        "def a_n(n):\n",
        "    return n * np.sin(np.pi / n)\n",
        "\n",
        "n = 1\n",
        "while abs(a_n(n) - np.pi) >= 0.0001:\n",
        "    n += 1\n",
        "print(f\"Menor n tal que |a_n - π| < 0.0001: {n}, con a_n = {a_n(n):.4f}\")"
      ],
      "metadata": {
        "colab": {
          "base_uri": "https://localhost:8080/"
        },
        "id": "Pkzw3ZKg-KYR",
        "outputId": "031baa42-f266-4c98-de61-752d869f9bd3"
      },
      "execution_count": null,
      "outputs": [
        {
          "output_type": "stream",
          "name": "stdout",
          "text": [
            "Menor n tal que |a_n - π| < 0.0001: 228, con a_n = 3.1415\n"
          ]
        }
      ]
    },
    {
      "cell_type": "markdown",
      "source": [
        "## 8.\n",
        "Considera la sucesión $ \\{a_n\\} $ con $ a_1 = 10 $ y\n",
        "\n",
        "$$ a_{n+1} = \\frac{1}{3} a_n $$\n",
        "\n",
        "para $ n = 1, 2, 3, \\ldots $. Grafica los puntos $ (n, a_n) $ para $ n = 1, 2, 3, \\ldots, 50 $. ¿Crees que esta sucesión tiene un límite? ¿Puedes verificarlo?"
      ],
      "metadata": {
        "id": "wqGcnlLYDV3P"
      }
    },
    {
      "cell_type": "code",
      "source": [
        "import matplotlib.pyplot as plt\n",
        "\n",
        "# Número de términos a calcular\n",
        "N = 50\n",
        "\n",
        "# Lista para guardar los valores de la sucesión\n",
        "a = []\n",
        "\n",
        "# Condición inicial\n",
        "a_1 = 10\n",
        "a.append(a_1)\n",
        "\n",
        "# Generar los valores de la sucesión hasta el término 50\n",
        "for n in range(1, N):\n",
        "    a_next = a[n-1] / 3  # a_{n+1} = (1/3)*a_n\n",
        "    a.append(a_next)\n",
        "\n",
        "# Crear la lista de índices n = 1, 2, ..., 50\n",
        "n_values = range(1, N+1)\n",
        "\n",
        "# Graficar los puntos (n, a_n)\n",
        "plt.figure(figsize=(8, 5))\n",
        "plt.plot(n_values, a, 'o-', label='$a_n$')\n",
        "plt.title('Sucesión $a_{n+1} = \\\\frac{1}{3} a_n$ con $a_1=10$')\n",
        "plt.xlabel('n')\n",
        "plt.ylabel('$a_n$')\n",
        "plt.grid(True)\n",
        "plt.legend()\n",
        "plt.show()\n",
        "\n",
        "# Imprimir los últimos valores para observar la tendencia\n",
        "print(\"Últimos 5 valores de la sucesión:\")\n",
        "for i in range(N-5, N):\n",
        "    print(f\"a_{i+1} = {a[i]}\")"
      ],
      "metadata": {
        "id": "hHM8ycFe28CE",
        "colab": {
          "base_uri": "https://localhost:8080/",
          "height": 596
        },
        "outputId": "1fcb8517-05e6-4baa-c8c1-60426ab81ea6"
      },
      "execution_count": null,
      "outputs": [
        {
          "output_type": "display_data",
          "data": {
            "text/plain": [
              "<Figure size 800x500 with 1 Axes>"
            ],
            "image/png": "[encoded data removed]"
          },
          "metadata": {}
        },
        {
          "output_type": "stream",
          "name": "stdout",
          "text": [
            "Últimos 5 valores de la sucesión:\n",
            "a_46 = 3.3848820329094486e-21\n",
            "a_47 = 1.1282940109698163e-21\n",
            "a_48 = 3.760980036566054e-22\n",
            "a_49 = 1.2536600121886846e-22\n",
            "a_50 = 4.1788667072956155e-23\n"
          ]
        }
      ]
    },
    {
      "cell_type": "markdown",
      "source": [
        "La secuencia dada por la relación de recurrencia  \n",
        "$a_{n+1} = \\frac{1}{3} a_n, \\quad \\text{con } a_1 = 10$\n",
        "tiene un comportamiento decreciente, acercándose a 0 a medida que n aumenta.  \n",
        "\n",
        "**¿La secuencia tiene un límite?**  \n",
        "Sí, la secuencia tiene un límite, y este es **0**.  \n",
        "\n",
        "**¿Cómo verificamos esto?**  \n",
        "- **Gráficamente:** Al observar la gráfica generada con los primeros 50 términos, se nota que los valores de $ a_n $ disminuyen rápidamente y tienden a acercarse cada vez más a 0 sin oscilar ni cambiar de tendencia.  \n",
        "- **Analíticamente:** La fórmula general de la sucesión es  $a_n = \\frac{10}{3^{n-1}}$\n",
        "  Como el denominador $ 3^{n-1} $ crece indefinidamente cuando $ n \\to \\infty $, la fracción tiende a 0, lo que confirma que el límite es **0**.  \n",
        "\n",
        "Por lo tanto, hemos verificado tanto de manera numérica como teórica que la secuencia converge a **0**."
      ],
      "metadata": {
        "id": "Pur1Bafh4TF4"
      }
    },
    {
      "cell_type": "markdown",
      "source": [
        "# 9.\n",
        "\n",
        "Considera la sucesión $ \\{a_n\\} $ con $ a_1 = 2 $ y\n",
        "\n",
        "$$ a_{n+1} = 2a_n $$\n",
        "\n",
        "para $ n = 1, 2, 3, \\ldots $. Grafica los puntos $ (n, a_n) $ para $ n = 1, 2, 3, \\ldots, 50 $. ¿Puedes encontrar el límite de esta sucesión usando el mismo método que usaste en el problema 8? ¿Esta sucesión tiene un límite?"
      ],
      "metadata": {
        "id": "w5W1CVKiA6PY"
      }
    },
    {
      "cell_type": "code",
      "source": [
        "import matplotlib.pyplot as plt\n",
        "\n",
        "# Número de términos a calcular\n",
        "N = 50\n",
        "\n",
        "# Lista para guardar los valores de la sucesión\n",
        "a = []\n",
        "\n",
        "# Condición inicial\n",
        "a_1 = 2\n",
        "a.append(a_1)\n",
        "\n",
        "# Generar los valores de la sucesión hasta el término 50\n",
        "for n in range(1, N):\n",
        "    a_next = 2 * a[n-1]  # a_{n+1} = 2 * a_n\n",
        "    a.append(a_next)\n",
        "\n",
        "# Crear la lista de índices n = 1, 2, ..., 50\n",
        "n_values = range(1, N+1)\n",
        "\n",
        "# Graficar los puntos (n, a_n)\n",
        "plt.figure(figsize=(8, 5))\n",
        "plt.plot(n_values, a, 'o-', label='$a_n$')\n",
        "plt.title('Sucesión $a_{n+1} = 2 \\\\, a_n$ con $a_1 = 2$')\n",
        "plt.xlabel('n')\n",
        "plt.ylabel('$a_n$')\n",
        "plt.grid(True)\n",
        "plt.legend()\n",
        "plt.show()\n",
        "\n",
        "# Imprimir algunos valores para observar la tendencia\n",
        "print(\"Últimos 5 valores de la sucesión:\")\n",
        "for i in range(N-5, N):\n",
        "    print(f\"a_{i+1} = {a[i]}\")\n",
        "\n"
      ],
      "metadata": {
        "colab": {
          "base_uri": "https://localhost:8080/",
          "height": 646
        },
        "id": "CXc59PNaA76E",
        "outputId": "726e6178-11ea-4ae9-a26c-11f7e50f2978"
      },
      "execution_count": null,
      "outputs": [
        {
          "output_type": "display_data",
          "data": {
            "text/plain": [
              "<Figure size 800x500 with 1 Axes>"
            ],
            "image/png": "[encoded data removed]"
          },
          "metadata": {}
        },
        {
          "output_type": "stream",
          "name": "stdout",
          "text": [
            "Últimos 5 valores de la sucesión:\n",
            "a_46 = 70368744177664\n",
            "a_47 = 140737488355328\n",
            "a_48 = 281474976710656\n",
            "a_49 = 562949953421312\n",
            "a_50 = 1125899906842624\n",
            "\n",
            "La fórmula general de la sucesión es a_n = 2^n.\n",
            "A medida que n crece, 2^n aumenta sin límite, por lo que la sucesión no converge a un valor finito.\n"
          ]
        }
      ]
    },
    {
      "cell_type": "markdown",
      "source": [
        "Siguiendo el mismo método utilizado en el punto 8, se puede determinar el comportamiento de la sucesión:\n",
        "\n",
        "$$\n",
        "a_{n+1} = 2 \\, a_n, \\quad a_1 = 2.\n",
        "$$\n",
        "\n",
        "Al deducir su término general $a_n = 2^n$ y graficar los primeros 50 términos, observamos que los valores de $a_n$ crecen exponencialmente. Por ello:\n",
        "\n",
        "- **¿Pudiste encontrar el límite de la sucesión con el mismo método?**  \n",
        "  Sí, el mismo procedimiento permite obtener la expresión $a_n = 2^n$.  \n",
        "- **¿Esta secuencia tiene límite?**  \n",
        "  No, la secuencia no converge a un valor finito; por el contrario, $\\lim_{n \\to \\infty} 2^n = \\infty$.  \n",
        "\n",
        "Por lo tanto, la sucesión **no tiene un límite finito** y diverge a medida que \\(n\\) crece."
      ],
      "metadata": {
        "id": "4-ExgwDpBwpX"
      }
    },
    {
      "cell_type": "markdown",
      "source": [
        "\n",
        "## Punto 13\n",
        "\n",
        "###Find sequences {$a_n$} and {$b_n$} such that {$a_n$} and {$b_n$} both diverge, but {$a_n+b_n$} converges.\n",
        "\n",
        "$a_n=n+\\frac{1}{n}$ : Diverge a +$\\infty$,\n",
        "$n$ crece sin limite y $\\frac{1}{n}$ tiende a cero pero no compensa el crecimiento de $n$.\n",
        "\n",
        "\n",
        "$b_n=-n$ : Diverge a -$\\infty$\n",
        "\n",
        "**SUMA** $s_n=a_n+b_n$\n",
        "$s_n=(n+\\frac{1}{n})+(-n)=\\frac{1}{n}$\n",
        "\n",
        "La suma es $\\frac{1}{n}$ , que converge a $0$ a medida que $n\\rightarrow ∞$"
      ],
      "metadata": {
        "id": "CiOn5TfXBVdg"
      }
    },
    {
      "cell_type": "markdown",
      "source": [
        "# Seccion 1.3"
      ],
      "metadata": {
        "id": "e1LycxP54R8w"
      }
    },
    {
      "cell_type": "markdown",
      "source": [
        "---"
      ],
      "metadata": {
        "id": "WoZlbg1s6oVt"
      }
    },
    {
      "cell_type": "markdown",
      "source": [
        "## 1.\n",
        "\n",
        "Encuentra la suma de cada una de las siguientes series infinitas que tienen suma:\n",
        "\n",
        "\n",
        "a)$\\sum\\limits_{n=1}^{\\infty} \\left(\\frac{1}{3}\\right)^{n-1}$\n",
        "\n",
        "b) $\\sum\\limits_{n=1}^{\\infty} 4(0.21)^{n-1}$\n",
        "\n",
        "c)$\\sum\\limits_{n=1}^{\\infty} \\frac{2}{5^n}$\n",
        "\n",
        "d)$\\sum\\limits_{n=0}^{\\infty} \\frac{2}{7^n}$\n",
        "\n",
        "e)$\\sum\\limits_{n=1}^{\\infty} 7 \\left(\\frac{1}{3}\\right)^n \\left(\\frac{2}{5}\\right)^{n-1}$\n",
        "\n",
        "f)$\\sum\\limits_{n=3}^{\\infty} \\left(\\frac{2}{3}\\right)^n$\n",
        "\n",
        "g)$\\sum\\limits_{n=1}^{\\infty} \\left(\\frac{3}{2}\\right)^{n-1}$\n",
        "\n",
        "h)$\\sum\\limits_{n=1}^{\\infty} 0.99999^n$\n",
        "\n",
        "i)$\\sum\\limits_{n=1}^{\\infty} 1.00001^n$\n",
        "\n",
        "j)$\\sum\\limits_{n=30}^{\\infty} 5 \\left(\\frac{3^n}{7^{n-1}}\\right)$\n",
        "\n",
        "k)$\\sum\\limits_{n=100}^{\\infty} \\left(\\frac{91}{89}\\right)^{n-1}$\n",
        "\n",
        "l)$\\sum\\limits_{n=1}^{\\infty} \\left(\\frac{\\pi}{4}\\right)^n$\n",
        "\n",
        "m)$\\sum\\limits_{n=1}^{\\infty} \\sin(\\pi n)$\n",
        "\n",
        "n)$\\sum\\limits_{n=1}^{\\infty} \\cos(\\pi n)$"
      ],
      "metadata": {
        "id": "i2nKOss-_x3-"
      }
    },
    {
      "cell_type": "markdown",
      "source": [
        "Para encontrar la suma de cada serie infinita, utilizamos la fórmula para la suma de una serie geométrica, que se da por\n",
        "\n",
        "$$\n",
        "S = \\frac{a}{1 - r},\n",
        "$$\n",
        "\n",
        "donde $a$ es el primer término y $r$ la razón común, válida para $|r| < 1$.\n",
        "\n",
        "**(a)**  \n",
        "$$\n",
        "\\sum_{n=1}^{\\infty} \\left(\\frac{1}{3}\\right)^{n-1}.\n",
        "$$  \n",
        "Aquí, $a = 1$ y $r = \\frac{1}{3}$, por lo que  \n",
        "$$\n",
        "S = \\frac{1}{1 - \\frac{1}{3}} = \\frac{1}{\\frac{2}{3}} = \\frac{3}{2}.\n",
        "$$\n",
        "\n",
        "**(b)**  \n",
        "$$\n",
        "\\sum_{n=1}^{\\infty} 4\\,(0.21)^{n-1}.\n",
        "$$  \n",
        "Aquí, $a = 4$ y $r = 0.21$, luego  \n",
        "$$\n",
        "S = \\frac{4}{1 - 0.21} = \\frac{4}{0.79} \\approx 5.0633.\n",
        "$$\n",
        "\n",
        "**(c)**  \n",
        "$$\n",
        "\\sum_{n=1}^{\\infty} \\frac{2}{5^{n}}.\n",
        "$$  \n",
        "Aquí, $a = \\frac{2}{5}$ y $r = \\frac{1}{5}$, de modo que  \n",
        "$$\n",
        "S = \\frac{\\frac{2}{5}}{1 - \\frac{1}{5}} = \\frac{\\frac{2}{5}}{\\frac{4}{5}} = \\frac{1}{2}.\n",
        "$$\n",
        "\n",
        "**(d)**  \n",
        "$$\n",
        "\\sum_{n=0}^{\\infty} \\frac{2}{7^{n}}.\n",
        "$$  \n",
        "Aquí, $a = 2$ y $r = \\frac{1}{7}$, por lo que  \n",
        "$$\n",
        "S = \\frac{2}{1 - \\frac{1}{7}} = \\frac{2}{\\frac{6}{7}} = \\frac{7}{3}.\n",
        "$$\n",
        "\n",
        "**(e)**  \n",
        "$$\n",
        "\\sum_{n=1}^{\\infty} 7\\left(\\frac{1}{3}\\right)^{n}\\left(\\frac{2}{5}\\right)^{n-1}.\n",
        "$$  \n",
        "Reescribimos el término general:\n",
        "$\n",
        "7\\left(\\frac{1}{3}\\right)^n\\left(\\frac{2}{5}\\right)^{n-1} = 7\\left(\\frac{1}{3}\\right)^n\\left(\\frac{2}{5}\\right)^n\\left(\\frac{5}{2}\\right)\n",
        "= \\frac{35}{2}\\left(\\frac{2}{15}\\right)^n.\n",
        "$\n",
        "Para $n=1$,  \n",
        "$\n",
        "a = \\frac{35}{2}\\cdot\\frac{2}{15} = \\frac{35}{15} = \\frac{7}{3},\n",
        "$\n",
        "y la razón es $r = \\frac{2}{15}$. Entonces,\n",
        "$$\n",
        "S = \\frac{\\frac{7}{3}}{1 - \\frac{2}{15}} = \\frac{\\frac{7}{3}}{\\frac{13}{15}} = \\frac{7}{3} \\cdot \\frac{15}{13} = \\frac{35}{13}.\n",
        "$$\n",
        "\n",
        "**(f)**  \n",
        "$$\n",
        "\\sum_{n=3}^{\\infty}\\left(\\frac{2}{3}\\right)^{n}.\n",
        "$$  \n",
        "Calculamos la suma total de la serie desde $n=0$:\n",
        "$$\n",
        "S_{\\text{total}} = \\frac{1}{1-\\frac{2}{3}} = 3.\n",
        "$$  \n",
        "Luego, restamos los tres primeros términos:\n",
        "$\n",
        "\\left(\\frac{2}{3}\\right)^0 = 1,\\quad \\left(\\frac{2}{3}\\right)^1 = \\frac{2}{3},\\quad \\left(\\frac{2}{3}\\right)^2 = \\frac{4}{9}.\n",
        "$\n",
        "Así,\n",
        "$$\n",
        "S = 3 - \\left(1 + \\frac{2}{3} + \\frac{4}{9}\\right) \\approx 3 - 1 - 0.6667 - 0.4444 \\approx 0.8889.\n",
        "$$\n",
        "\n",
        "**(g)**  \n",
        "$$\n",
        "\\sum_{n=1}^{\\infty}\\left(\\frac{3}{2}\\right)^{n-1}.\n",
        "$$  \n",
        "La serie diverge porque $r = \\frac{3}{2} > 1$.\n",
        "\n",
        "**(h)**  \n",
        "$$\n",
        "\\sum_{n=1}^{\\infty} 0.99999^{n}.\n",
        "$$  \n",
        "Aquí, $a = 0.99999$ y $r = 0.99999$, luego  \n",
        "$$\n",
        "S = \\frac{0.99999}{1 - 0.99999} \\approx 99999.\n",
        "$$\n",
        "\n",
        "**(i)**  \n",
        "$$\n",
        "\\sum_{n=1}^{\\infty} 1.00001^{n}.\n",
        "$$  \n",
        "Esta serie diverge ya que $r = 1.00001 > 1$.\n",
        "\n",
        "**(j)**  \n",
        "$$\n",
        "\\sum_{n=30}^{\\infty} 5\\left(\\frac{3^{n}}{7^{n-1}}\\right).\n",
        "$$  \n",
        "Reescribimos el término:\n",
        "$ 5\\left(\\frac{3^{n}}{7^{n-1}}\\right)=5\\cdot 7\\left(\\frac{3}{7}\\right)^n, $\n",
        "de modo que\n",
        "\n",
        "$\n",
        "S = 5\\cdot 7 \\cdot \\left(\\frac{3}{7}\\right)^{30}\\cdot \\frac{1}{1-\\frac{3}{7}}\n",
        "= 35 \\cdot \\left(\\frac{3}{7}\\right)^{30}\\cdot \\frac{7}{4}\n",
        "= \\frac{35}{4}\\left(\\frac{3}{7}\\right)^{30}.\n",
        "$\n",
        "\n",
        "**(k)**  \n",
        "$$\n",
        "\\sum_{n=100}^{\\infty}\\left(\\frac{91}{89}\\right)^{n-1}.\n",
        "$$  \n",
        "Esta serie diverge ya que $r = \\frac{91}{89} > 1$.\n",
        "\n",
        "**(l)**  \n",
        "$$\n",
        "\\sum_{n=1}^{\\infty}\\left(\\frac{\\pi}{4}\\right)^{n}.\n",
        "$$  \n",
        "Aquí, $a = \\frac{\\pi}{4}$ y $r = \\frac{\\pi}{4}$, y como $\\frac{\\pi}{4} < 1$ se cumple la convergencia:\n",
        "$$\n",
        "S = \\frac{\\frac{\\pi}{4}}{1 - \\frac{\\pi}{4}} = \\frac{\\pi}{4 - \\pi}.\n",
        "$$\n",
        "\n",
        "**(m)**  \n",
        "$$\n",
        "\\sum_{n=1}^{\\infty} \\sin (\\pi n).\n",
        "$$  \n",
        "Dado que $\\sin (\\pi n)=0$ para todo $n$, la suma es\n",
        "$$\n",
        "S = 0.\n",
        "$$\n",
        "\n",
        "**(n)**  \n",
        "$$\n",
        "\\sum_{n=1}^{\\infty} \\cos (\\pi n).\n",
        "$$  \n",
        "Como $\\cos (\\pi n)=(-1)^n$, los términos oscilan entre $1$ y $-1$, y la serie diverge porque los términos no tienden a 0.\n",
        "\n",
        "---\n",
        "\n",
        "**Resumen de Resultados:**\n",
        "\n",
        "- (a) $\\displaystyle \\frac{3}{2}$\n",
        "- (b) $\\displaystyle \\approx 5.0633$\n",
        "- (c) $\\displaystyle \\frac{1}{2}$\n",
        "- (d) $\\displaystyle \\frac{7}{3}$\n",
        "- (e) $\\displaystyle \\frac{35}{13}$\n",
        "- (f) $\\displaystyle \\approx 0.8889$\n",
        "- (g) Diverge\n",
        "- (h) $\\displaystyle 99999$\n",
        "- (i) Diverge\n",
        "- (j) $\\displaystyle \\frac{35}{4}\\left(\\frac{3}{7}\\right)^{30}$\n",
        "- (k) Diverge\n",
        "- (l) $\\displaystyle \\frac{\\pi}{4-\\pi}$\n",
        "- (m) $\\displaystyle 0$\n",
        "- (n) Diverge"
      ],
      "metadata": {
        "id": "nJZZPBVa_85l"
      }
    },
    {
      "cell_type": "markdown",
      "source": [
        "## (2) Considera la serie infinita con su suma parcial de \\( n \\)-ésimo término  \n",
        "\n",
        "$$\n",
        "s_n = 1 + 1 + \\frac{1}{2} + \\frac{1}{6} + \\dots + \\frac{1}{n!} = \\sum_{j=0}^{\\infty} \\frac{1}{j!}.\n",
        "$$\n",
        "\n",
        "Nota que, por definición, \\( 0! = 1 \\).  \n"
      ],
      "metadata": {
        "id": "_WlkzZTz6rch"
      }
    },
    {
      "cell_type": "markdown",
      "source": [
        "### (a)  Demuestra que \\( s_n < 3 \\) para todos los valores de \\( n \\). Pista: Nota que  \n",
        "\n",
        "$$\n",
        "n! = (1)(2)(3) \\dots (n) \\geq (1)(2)(2) \\dots (2) = 2^{n-1}\n",
        "$$\n",
        "\n",
        "para $ n = 1, 2, 3, \\dots$"
      ],
      "metadata": {
        "id": "WsuPWcmD8CWF"
      }
    },
    {
      "cell_type": "markdown",
      "source": [
        "\n",
        ">Teniendo en cuenta esta definicion:\n",
        "\n",
        "* $ n! ≥ 2^{n-1} $\n",
        "\n",
        "podemos concluir que:\n",
        "\n",
        "* $ \\frac{1}{n!} ≤ \\frac{1}{2^{n-1}} $\n",
        "\n",
        "\n",
        "> Ahora vamos a centrarnos en\n",
        "\n",
        "$$ s_n = \\sum_{j=0}^{n} \\frac{1}{j!}. $$\n",
        "\n",
        "* para usar la definicion anterior tenemos que hacer que j sea mayor o igual que 1 pero tanto 0 como 1 tienen el mismo valor entonces podemos iniciar desde j=2\n",
        "\n",
        "$ s_n = 2 + \\sum_{j=2}^{n} \\frac{1}{j!} $\n",
        "\n",
        "\n",
        "> Por lo tanto:\n",
        "\n",
        "$$ 2 + \\sum_{j=2}^{n} \\frac{1}{j!} ≤ \\sum_{j=2}^{n} \\frac{1}{2^{j-1}} $$\n",
        "\n",
        "\n",
        "* Cambio de indice para simplificar k=j-1. cuando j = 2; k= 1; cuando j = n, k = n-1. Entonces:\n",
        "\n",
        "$$ \\sum_{j=2}^{n} \\frac{1}{2^{j-1}} = \\sum_{k=1}^{n-1} \\frac{1}{2^{k}}$$\n",
        "\n",
        "$ \\sum_{k=1}^{n-1} (\\frac{1}{2})^k = \\frac{1}{2} * \\frac{1-(\\frac{1}{2})^{m}}{1-\\frac{1}{2}} = 1 - (\\frac{1}{2})^{n-1}$\n",
        "\n",
        "* Entonces:\n",
        "\n",
        "$$ \\sum_{j=2}^{n} \\frac{1}{2^{j-1}} = 1 - (\\frac{1}{2})^{n-1} $$\n",
        "\n",
        "> Acotamos todo:\n",
        "\n",
        "$ s_n = 2 + \\sum_{j=2}^{n} \\frac{1}{j!} $\n",
        "\n",
        "$$ 2 + \\sum_{j=2}^{n} \\frac{1}{j!} ≤ 2 + \\sum_{j=2}^{n} \\frac{1}{2^{j-1}} $$\n",
        "\n",
        "$$ s_n ≤ 2 + 1 - (\\frac{1}{2})^{n-1} $$\n",
        "$$ s_n ≤ 3 - (\\frac{1}{2})^{n-1} $$\n",
        "\n",
        "* Para $n$ ≥ 1:\n",
        "\n",
        "| $$ n = 1 $$ |      $$ (\\frac{1}{2})^0 = 1 $$      |               3 - 1 = 2              |\n",
        "|:-----------:|:-----------------------------------:|:------------------------------------:|\n",
        "| $$ n = 2 $$ | $$ (\\frac{1}{2})^1 = \\frac{1}{2} $$ |  $$ 3 - \\frac{1}{2} = \\frac{5}{2} $$ |\n",
        "| $$ n= 3 $$  | $$ (\\frac{1}{2})^2 = \\frac{1}{4} $$ | $$ 3 - \\frac{1}{4} = \\frac{11}{4} $$ |\n",
        "\n",
        "Con esto podemos concluir que a medida que n aumente 3 va ser cada vez mas pequeño, es decir es decreciente, por lo tanto nunca va ser mayor o igual que 3.\n",
        "\n",
        "$ 3 - (\\frac{1}{2})^{n-1} < 3 $\n",
        "\n",
        "\n",
        "> Asi que:\n",
        "\n",
        "  $$ 2 + \\sum_{j=2}^{n} \\frac{1}{j!} ≤ 3 - (\\frac{1}{2})^{n-1} < 3 $$\n",
        "  $$ s_n ≤ 3 - (\\frac{1}{2})^{n-1} < 3 $$\n",
        "\n",
        "Con esto que democtrado que $s_n$ es menoro o igual que 3."
      ],
      "metadata": {
        "id": "L3yoGive8i-z"
      }
    },
    {
      "cell_type": "markdown",
      "source": [
        "### (b)  Combina el resultado del inciso (a) con el hecho de que $ s_{n+1} > s_n$ para todo $n$ y concluye que  \n",
        "\n",
        "\n",
        "$$\\sum_{j=1}^{\\infty} \\frac{1}{j!}$$\n",
        "\n",
        "\n",
        "existe y es menor que 3.  \n"
      ],
      "metadata": {
        "id": "yztB3Tky8AHy"
      }
    },
    {
      "cell_type": "markdown",
      "source": [
        "Para demostrar esto vamos a utilizar el teorema de la secuencia monotona acotada, para ello necesitamos verificar dos propiedades:\n",
        "\n",
        "1. Que la secuencia sea monotona.\n",
        "2. Que este acotada.\n",
        "\n",
        "===============================================================================\n",
        "\n",
        "$ s_{n+1} > s_n $\n",
        "\n",
        "$$ s_{n} = \\sum_{j=0}^{\\infty} \\frac{1}{j!} = 1 + 1 + \\frac{1}{2} + \\frac{1}{6} + \\dots + \\frac{1}{n!}$$\n",
        "\n",
        "$$ s_{n+1} = \\sum_{j=0}^{\\infty} \\frac{1}{j!} = 1 + 1 + \\frac{1}{2} + \\frac{1}{6} + \\dots + \\frac{1}{n!} + \\frac{1}{(n+1)!} $$\n",
        "\n",
        "\n",
        "$ s_{n+1} = s_n + \\frac{1}{(n+1)!} $\n",
        "\n",
        "* Es estrictamente creciente por que $s_n+1$ es mayor que $s_n$, ya que $\\frac{1}{(n+1)!} > 0$  para $n ≥ 1$\n",
        "\n",
        "  $$ s_n + \\frac{1}{(n+1)!} > s_n $$\n",
        "\n",
        "\n",
        "Con esto verificamos la primer propiedad, es una secuencia monotona ya que es creciente.\n",
        "\n",
        "===============================================================================\n",
        "\n",
        "> Conexion con el punto a\n",
        "\n",
        "$ \\frac{1}{j!} ≤ \\frac{1}{2^{j-1}} $ para $ j > 1$\n",
        "\n",
        "$ s_n < 3 $\n",
        "\n",
        "\n",
        "$$ \\sum_{j=1}^{n} \\frac{1}{j!} ≤ \\sum_{j=1}^{n} \\frac{1}{2^{j-1}} $$\n",
        "\n",
        "\n",
        "* Cambio de indice para simplificar k=j-1. cuando j = 2; k= 1; cuando j = n, k = n-1. Entonces:\n",
        "\n",
        "$$ \\sum_{j=1}^{n} \\frac{1}{2^{j-1}} = \\sum_{k=1}^{n-1} (\\frac{1}{2})^k = \\frac{1-(\\frac{1}{2})^n}{1-\\frac{1}{2}} = 2 * [1-(\\frac{1}{2})^n] $$\n",
        "\n",
        "\n",
        "\n",
        "* Entonces:\n",
        "\n",
        "$$ \\sum_{j=2}^{n} \\frac{1}{2^{j-1}} = 2 * [1-(\\frac{1}{2})^n] $$\n",
        "\n",
        "> Ya que $(\\frac{1}{2})^n > 0$ por  $ n ≥ 1 $\n",
        "\n",
        "$$ s_n ≤ 2 * [1-(\\frac{1}{2})^n] < 2 < 3 $$\n",
        "\n",
        "Con esto ya esta acotado por que s_n es menor o igual que $ 2 * [1-(\\frac{1}{2})^n] $ y a su vez esto es menor que 2, que es menor que 3.\n",
        "\n",
        "> Con esto ya podemos aplicar el teorema\n",
        "\n",
        "\n",
        "$$ \\lim_{n \\to \\infty} s_n = L < ∞ $$\n",
        "\n",
        "$$ \\sum_{j=1}^{n} \\frac{1}{j!} =  \\lim_{n \\to \\infty} s_n = L $$\n",
        "\n",
        "Con esto queda demostrado que existe y es menor que 3"
      ],
      "metadata": {
        "id": "GoTZrQ01-p6e"
      }
    },
    {
      "cell_type": "markdown",
      "source": [
        "### (c) De echo:\n",
        "\n",
        "$$\n",
        "s_n = 1 + 1 + \\frac{1}{2} + \\frac{1}{6} + \\dots + \\frac{1}{n!} = \\sum_{j=0}^{\\infty} \\frac{1}{j!}.\n",
        "$$\n",
        "\n",
        "Es un número irracional muy conocido. Suma un número suficiente de términos para que puedas adivinar el valor de la suma. ¿Cuántos términos te hicieron falta?"
      ],
      "metadata": {
        "id": "2rDNtQza77xX"
      }
    },
    {
      "cell_type": "markdown",
      "source": [
        "> La serie converge rápidamente al número e. Solo necesité calcular las sumas parciales hasta n = 7 para obtener los primeros cuatro decimales, aproximadamente 2.7182."
      ],
      "metadata": {
        "id": "atJLyElQxPef"
      }
    },
    {
      "cell_type": "markdown",
      "source": [
        "### (d)  ¿Cuántos términos son necesarios para obtener una suma parcial que esté dentro de 0.000001 del valor de la serie?"
      ],
      "metadata": {
        "id": "lJ-8OWVm62NH"
      }
    },
    {
      "cell_type": "code",
      "source": [
        "import numpy as np\n",
        "\n",
        "# Valor real de e\n",
        "e_real = np.exp(1)\n",
        "\n",
        "# Tolerancia\n",
        "tol = 1e-6\n",
        "suma = 0.0\n",
        "j = 0\n",
        "fact = np.float64(1.0)\n",
        "\n",
        "while abs(suma - e_real) >= tol:\n",
        "    termino = 1.0 / fact\n",
        "    suma += termino\n",
        "    j += 1\n",
        "    fact *= j\n",
        "\n",
        "# Número total de términos sumados\n",
        "print(\"Número de términos necesarios:\", j + 1)\n",
        "print(\"Aproximación de e:\", suma)\n",
        "print(\"Error absoluto:\", f\"{abs(suma - e_real):.10f}\")"
      ],
      "metadata": {
        "colab": {
          "base_uri": "https://localhost:8080/"
        },
        "id": "XYk6ZKm4zluy",
        "outputId": "08eecf34-ff65-48d4-b37d-a0d65f5186a7"
      },
      "execution_count": null,
      "outputs": [
        {
          "output_type": "stream",
          "name": "stdout",
          "text": [
            "Número de términos necesarios: 11\n",
            "Aproximación de e: 2.7182815255731922\n",
            "Error absoluto: 0.0000003029\n"
          ]
        }
      ]
    },
    {
      "cell_type": "markdown",
      "source": [
        "## 7. Una pelota se deja caer desde una altura de 10 metros. Supongamos que cada vez que golpea el suelo, rebota hasta una altura que es el 75% de la altura del rebote anterior. Suponiendo un número infinito de rebotes (de nuevo, un modelo matemático idealizado), ¿qué distancia total recorre la pelota antes de detenerse? ¿Qué sucedería si en lugar de rebotar al 75% de su altura anterior, solo rebotara al 25% de su altura inicial?"
      ],
      "metadata": {
        "id": "B1SRYJ1A1Myb"
      }
    },
    {
      "cell_type": "markdown",
      "source": [
        "### **Primera parte: Rebote al 75% de la altura previa**\n",
        "\n",
        "\n",
        "1. **Distancia inicial:**\n",
        "   - La pelota cae desde 10 metros hasta el suelo.\n",
        "   - Distancia recorrida: 10 metros.\n",
        "\n",
        "2. **Secuencia de rebotes:**\n",
        "   - Primer rebote: sube a $ 10 \\times 0.75 = 7.5 $ metros, luego baja 7.5 metros.\n",
        "   - Segundo rebote: sube a $ 7.5 \\times 0.75 = 5.625 $ metros, luego baja 5.625 metros.\n",
        "   - Tercer rebote: sube a $ 5.625 \\times 0.75 = 4.21875 $ metros, luego baja 4.21875 metros.\n",
        "   - Y así sucesivamente.\n",
        "\n",
        "   Cada rebote implica subir y bajar la misma distancia, por lo que la distancia total por rebote es el doble de la altura alcanzada.\n",
        "\n",
        "3. **Alturas de los rebotes:**\n",
        "   - Las alturas forman una serie geométrica: $ 10 \\times (0.75)^1, 10 \\times (0.75)^2, 10 \\times (0.75)^3, \\ldots $.\n",
        "   - En general, la altura después del $ n $-ésimo rebote es $ h_n = 10 \\times (0.75)^n $, para $ n = 1, 2, 3, \\ldots $.\n",
        "\n",
        "4. **Distancia por rebotes:**\n",
        "   - Para cada $ n $, la pelota sube $ h_n $ y baja $ h_n $, sumando $ 2 \\times h_n $.\n",
        "   - Distancia total de los rebotes: $ \\sum_{n=1}^{\\infty} 2 \\times 10 \\times (0.75)^n $.\n",
        "\n",
        "5. **Suma de la serie geométrica:**\n",
        "   - Extraemos constantes: $ 2 \\times 10 \\times \\sum_{n=1}^{\\infty} (0.75)^n = 20 \\times \\sum_{n=1}^{\\infty} (0.75)^n $.\n",
        "   - La serie $ \\sum_{n=1}^{\\infty} (0.75)^n $ tiene primer término $ a = 0.75 $ y razón $ r = 0.75 $.\n",
        "   - Suma infinita: $ \\frac{a}{1 - r} = \\frac{0.75}{1 - 0.75} = \\frac{0.75}{0.25} = 3 $.\n",
        "\n",
        "6. **Distancia total:**\n",
        "   - $ 20 \\times 3 = 60 $ metros por los rebotes.\n",
        "   - Más la caída inicial: $ 10 + 60 = 70 $ metros.\n",
        "\n",
        "Por lo tanto, la distancia total en este caso es 70 metros.\n",
        "\n",
        "---\n",
        "\n",
        "### **Segunda parte: Rebote al 25% de la altura inicial o previa**\n",
        "\n",
        "1. **Secuencia de rebotes:**\n",
        "   - Primer rebote: $ 10 \\times 0.25 = 2.5 $ metros.\n",
        "   - Segundo rebote: $ 2.5 \\times 0.25 = 0.625 $ metros.\n",
        "   - Tercer rebote: $ 0.625 \\times 0.25 = 0.15625 $ metros.\n",
        "   - Alturas: $10 \\times (0.25)^n$, para $ n = 1, 2, 3, \\ldots $.\n",
        "\n",
        "2. **Distancia por rebotes:**\n",
        "   - Total: $ \\sum_{n=1}^{\\infty} 2 \\times 10 \\times (0.25)^n = 20 \\times \\sum_{n=1}^{\\infty} (0.25)^n $.\n",
        "\n",
        "3. **Suma de la serie:**\n",
        "   - Primer término $ a = 0.25 $, razón $ r = 0.25 $.\n",
        "   - $ \\frac{0.25}{1 - 0.25} = \\frac{0.25}{0.75} = \\frac{1}{3} $.\n",
        "\n",
        "4. **Distancia total:**\n",
        "   - $ 20 \\times \\frac{1}{3} = \\frac{20}{3} $ metros.\n",
        "   - Más la caída inicial: $ 10 + \\frac{20}{3} = \\frac{30}{3} + \\frac{20}{3}  = \\frac{50}{3} $ metros.\n",
        "\n",
        "\n",
        "### **Respuesta final**\n",
        "\n",
        "Para el caso con rebote al 75% de la altura previa, la distancia total es 70 metros.  \n",
        "Para el caso con rebote al 25% de la altura previa, la distancia total es $ \\dfrac{50}{3} $ metros.\n",
        "\n"
      ],
      "metadata": {
        "id": "as8XQRxf2BTF"
      }
    },
    {
      "cell_type": "markdown",
      "source": [
        "#Punto 11\n",
        "***Serie Armonica***\n",
        "$S_n = \\sum_{k=1}^{n} \\frac{1}{k} = 1 + \\frac{1}{2} + \\frac{1}{3} + \\frac{1}{4} + \\dots + \\frac{1}{n}$\n",
        "\n",
        "Serie infinita que crece sin límite, pero lo hace muy lentamente.\n",
        "…$S_4 = 1.833 + \\frac{1}{4} \\approx 2.083$\n",
        "\n",
        "Se continua sumando terminos y para $n=83$ la suma supera 5, es decir $s_n>5$\n",
        "\n",
        "De la misma manera se continuan sumando terminos y vemos que la serie crece muy lentamente, por eso se  requieren $12,367$ terminos para que $s_n>10$"
      ],
      "metadata": {
        "id": "Ojxq0C9PBab4"
      }
    },
    {
      "cell_type": "code",
      "source": [
        "def encontrar_n_limite(limite):\n",
        "    S_n = 0\n",
        "    n = 0\n",
        "    while S_n <= limite:\n",
        "        n += 1\n",
        "        S_n += 1 / n\n",
        "    return n, S_n\n",
        "\n",
        "# Encontrar el menor n para S_n > 5 y S_n > 10\n",
        "n_5, S_5 = encontrar_n_limite(5)\n",
        "n_10, S_10 = encontrar_n_limite(10)\n",
        "\n",
        "n_5, S_5, n_10, S_10\n"
      ],
      "metadata": {
        "colab": {
          "base_uri": "https://localhost:8080/"
        },
        "id": "e3zQXrroEwD5",
        "outputId": "098667f6-ec6a-43f3-c14f-13159b56c95a"
      },
      "execution_count": null,
      "outputs": [
        {
          "output_type": "execute_result",
          "data": {
            "text/plain": [
              "(83, 5.002068272680166, 12367, 10.000043008275778)"
            ]
          },
          "metadata": {},
          "execution_count": 12
        }
      ]
    }
  ]
}